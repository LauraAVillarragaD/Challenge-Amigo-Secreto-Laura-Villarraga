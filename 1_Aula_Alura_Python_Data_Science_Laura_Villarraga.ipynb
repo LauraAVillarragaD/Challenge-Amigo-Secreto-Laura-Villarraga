{
  "nbformat": 4,
  "nbformat_minor": 0,
  "metadata": {
    "colab": {
      "provenance": [],
      "include_colab_link": true
    },
    "kernelspec": {
      "name": "python3",
      "display_name": "Python 3"
    },
    "language_info": {
      "name": "python"
    }
  },
  "cells": [
    {
      "cell_type": "markdown",
      "metadata": {
        "id": "view-in-github",
        "colab_type": "text"
      },
      "source": [
        "<a href=\"https://colab.research.google.com/github/LauraAVillarragaD/Challenge-Amigo-Secreto-Laura-Villarraga/blob/main/1_Aula_Alura_Python_Data_Science_Laura_Villarraga.ipynb\" target=\"_parent\"><img src=\"https://colab.research.google.com/assets/colab-badge.svg\" alt=\"Open In Colab\"/></a>"
      ]
    },
    {
      "cell_type": "markdown",
      "source": [
        "# Python para Data Science\n",
        "\n",
        "Notebook para el curso de Python para Data Science publicado en la plataforma de [Alura Latam](https://www.aluracursos.com/)"
      ],
      "metadata": {
        "id": "lQx6Mmv0OJyT"
      }
    },
    {
      "cell_type": "markdown",
      "source": [
        "# Introducción a Python\n",
        "¡Vamos a conocer Python, nuestro ambiente de estudio, y también generaremos nuestro primer código en este lenguaje!"
      ],
      "metadata": {
        "id": "7SiB6JIpYKmY"
      }
    },
    {
      "cell_type": "markdown",
      "source": [
        "## Google Colaboratory\n",
        "\n",
        "Ya aprendimos qué es [Python](https://www.python.org/) y ahora aprenderemos a usar nuestra herramienta de ejecución [Google Colaboratory](https://colab.research.google.com/) para programar en un notebook interactivo.\n",
        "\n",
        "Vamos a probar algunas funciones de este ambiente."
      ],
      "metadata": {
        "id": "Yugfb3fCOYY9"
      }
    },
    {
      "cell_type": "markdown",
      "source": [
        " **`>>> Usa esta celda para mover <<<`**"
      ],
      "metadata": {
        "id": "2iUHQsJasJAk"
      }
    },
    {
      "cell_type": "code",
      "source": [],
      "metadata": {
        "id": "o7jrX_iKhdkU"
      },
      "execution_count": null,
      "outputs": []
    },
    {
      "cell_type": "markdown",
      "source": [
        "## ¡Hola mundo!\n",
        "\n",
        "Vamos a conocer un poco más de cerca nuestro notebook. Para ello ejecutaremos nuestro primer comando en Python: [`print()`](https://docs.python.org/3/library/functions.html#print)"
      ],
      "metadata": {
        "id": "aLSFP2V7XTfe"
      }
    },
    {
      "cell_type": "code",
      "source": [
        "print ('!Hola mundo!')"
      ],
      "metadata": {
        "id": "0qZX8_ZQBYyk",
        "colab": {
          "base_uri": "https://localhost:8080/"
        },
        "outputId": "bad3825f-a92e-4b64-df09-ec04915c4c2d"
      },
      "execution_count": null,
      "outputs": [
        {
          "output_type": "stream",
          "name": "stdout",
          "text": [
            "!Hola mundo!\n"
          ]
        }
      ]
    },
    {
      "cell_type": "code",
      "source": [
        "print ('Me llamo Laura Villarraga, tengo 35 años y estoy aprendiento Python y Data Science')"
      ],
      "metadata": {
        "id": "GLMzF_AKBY7a",
        "colab": {
          "base_uri": "https://localhost:8080/"
        },
        "outputId": "b46518eb-8d98-486e-868d-b03f3ddb643a"
      },
      "execution_count": null,
      "outputs": [
        {
          "output_type": "stream",
          "name": "stdout",
          "text": [
            "Me llamo Laura Villarraga, tengo 35 años y estoy aprendiento Python y Data Science\n"
          ]
        }
      ]
    },
    {
      "cell_type": "markdown",
      "source": [
        "## **CURSO DE PYTHON: DESAFIO 1**"
      ],
      "metadata": {
        "id": "sWq1pdw5ypvc"
      }
    },
    {
      "cell_type": "code",
      "source": [
        "# 1 Imprimir esta frase Escuela de Datos Alura\n",
        "print ('Escuela de Datos Alura')"
      ],
      "metadata": {
        "colab": {
          "base_uri": "https://localhost:8080/"
        },
        "id": "MlH50u4wyVN9",
        "outputId": "a800451d-ddff-4b88-a528-5fae7c686a71"
      },
      "execution_count": null,
      "outputs": [
        {
          "output_type": "stream",
          "name": "stdout",
          "text": [
            "Escuela de Datos Alura\n"
          ]
        }
      ]
    },
    {
      "cell_type": "code",
      "source": [
        "# 2 imprimir nombre y apellido\n",
        "print ('Nombre: Laura Andrea')\n",
        "print ('Apellido: Villarraga Díaz')\n"
      ],
      "metadata": {
        "colab": {
          "base_uri": "https://localhost:8080/"
        },
        "id": "4Or_6N5EzWbJ",
        "outputId": "1e27ce53-d68b-46be-a7f6-46868043239d"
      },
      "execution_count": null,
      "outputs": [
        {
          "output_type": "stream",
          "name": "stdout",
          "text": [
            "Nombre: Laura Andrea\n",
            "Apellido: Villarraga Díaz\n"
          ]
        }
      ]
    },
    {
      "cell_type": "code",
      "source": [
        "# 3. Primer nombre por letra\n",
        "print ('L')\n",
        "print ('A')\n",
        "print ('U')\n",
        "print ('R')\n",
        "print ('A')"
      ],
      "metadata": {
        "colab": {
          "base_uri": "https://localhost:8080/"
        },
        "id": "P_IFAgM024NZ",
        "outputId": "ca577a38-04d2-4301-8c14-db5dda50e225"
      },
      "execution_count": null,
      "outputs": [
        {
          "output_type": "stream",
          "name": "stdout",
          "text": [
            "L\n",
            "A\n",
            "U\n",
            "R\n",
            "A\n"
          ]
        }
      ]
    },
    {
      "cell_type": "code",
      "source": [
        "# 4. Imprimir Fecha de nacimiento en formato DIA MES AñO\n",
        "\n",
        "print(str(3) + ' febrero ' + str(1990))\n",
        "print(3, 'febrero', 1990)"
      ],
      "metadata": {
        "colab": {
          "base_uri": "https://localhost:8080/"
        },
        "id": "ZGPi7uwj3ZqI",
        "outputId": "587e3db5-90a0-49f1-94c5-a09d809f9b44"
      },
      "execution_count": null,
      "outputs": [
        {
          "output_type": "stream",
          "name": "stdout",
          "text": [
            "3 febrero 1990\n",
            "3 febrero 1990\n"
          ]
        }
      ]
    },
    {
      "cell_type": "code",
      "source": [
        "# 5. Imprimir Fecha actual del curso salida en formato Año actual: [año]\n",
        "\n",
        "print('Año actual: ' + str(2025))\n",
        "print('Año actual: ', 2025)"
      ],
      "metadata": {
        "colab": {
          "base_uri": "https://localhost:8080/"
        },
        "id": "d-I99Kqx6Pnx",
        "outputId": "2c0b4986-e310-4bcf-9629-b89b3aefb59c"
      },
      "execution_count": null,
      "outputs": [
        {
          "output_type": "stream",
          "name": "stdout",
          "text": [
            "Año actual: 2025\n",
            "Año actual:  2025\n"
          ]
        }
      ]
    },
    {
      "cell_type": "markdown",
      "source": [
        "# Manipulando los datos\n",
        "\n",
        "Vamos a aprender sobre las variables en Python, cómo declararlas y utilizarlas además de conocer otros comandos de este lenguaje. :D"
      ],
      "metadata": {
        "id": "iP8uWQmFYFRs"
      }
    },
    {
      "cell_type": "markdown",
      "source": [
        "## Variables\n",
        "\n",
        "En Data Science trabajamos con varios tipos de datos e informaciones, entonces es esencial saber cómo trabajar con las variables."
      ],
      "metadata": {
        "id": "sLNVmnTbag1Z"
      }
    },
    {
      "cell_type": "markdown",
      "source": [
        "Las variables en Python se crean cuando atribuimos un valor a ella.\n",
        "\n",
        "Para esto, colocamos el nombre de la variable, el signo de igual (`=`) y el valor que queremos atribuirle."
      ],
      "metadata": {
        "id": "lsCY0wahAbf6"
      }
    },
    {
      "cell_type": "code",
      "source": [
        "5"
      ],
      "metadata": {
        "id": "vsHh5buZADND",
        "colab": {
          "base_uri": "https://localhost:8080/"
        },
        "outputId": "9888036f-716e-427a-c38f-861e8b12e859"
      },
      "execution_count": null,
      "outputs": [
        {
          "output_type": "execute_result",
          "data": {
            "text/plain": [
              "5"
            ]
          },
          "metadata": {},
          "execution_count": 8
        }
      ]
    },
    {
      "cell_type": "code",
      "source": [
        "id(5)"
      ],
      "metadata": {
        "id": "sivPtqSjADQV",
        "colab": {
          "base_uri": "https://localhost:8080/"
        },
        "outputId": "2758eadf-7510-4d86-86af-e83065dbacd8"
      },
      "execution_count": null,
      "outputs": [
        {
          "output_type": "execute_result",
          "data": {
            "text/plain": [
              "10750984"
            ]
          },
          "metadata": {},
          "execution_count": 9
        }
      ]
    },
    {
      "cell_type": "code",
      "source": [
        "edad = 5"
      ],
      "metadata": {
        "id": "JC8jO47wADlm"
      },
      "execution_count": null,
      "outputs": []
    },
    {
      "cell_type": "code",
      "source": [
        "print (id(5))\n",
        "print (id(edad))"
      ],
      "metadata": {
        "colab": {
          "base_uri": "https://localhost:8080/"
        },
        "id": "P--351zYER0Z",
        "outputId": "642b0d6c-e2a4-4795-a58f-a6a81ea2da6e"
      },
      "execution_count": null,
      "outputs": [
        {
          "output_type": "stream",
          "name": "stdout",
          "text": [
            "10750984\n",
            "10750984\n"
          ]
        }
      ]
    },
    {
      "cell_type": "code",
      "source": [
        "nombre = 'Gabriel'"
      ],
      "metadata": {
        "id": "qXU6etdJFPuW"
      },
      "execution_count": null,
      "outputs": []
    },
    {
      "cell_type": "code",
      "source": [
        "id('Gabriel')"
      ],
      "metadata": {
        "colab": {
          "base_uri": "https://localhost:8080/"
        },
        "id": "HJp7S6lRFPkS",
        "outputId": "04c70fa9-1da5-47a7-a571-cc4edacbdd5f"
      },
      "execution_count": null,
      "outputs": [
        {
          "output_type": "execute_result",
          "data": {
            "text/plain": [
              "137475664268464"
            ]
          },
          "metadata": {},
          "execution_count": 15
        }
      ]
    },
    {
      "cell_type": "code",
      "source": [
        "id(nombre)"
      ],
      "metadata": {
        "colab": {
          "base_uri": "https://localhost:8080/"
        },
        "id": "DlplrISYFPZ4",
        "outputId": "0047d1ac-919c-4bd2-c670-f963222502df"
      },
      "execution_count": null,
      "outputs": [
        {
          "output_type": "execute_result",
          "data": {
            "text/plain": [
              "137475664268464"
            ]
          },
          "metadata": {},
          "execution_count": 16
        }
      ]
    },
    {
      "cell_type": "markdown",
      "source": [
        "Existen algunos tipos de nombres que **no** podemos definir para las variables:\n",
        "\n",
        "- **Nombres que comiencen con números**\n",
        "  - Ejemplos: `10_notas`, `2_nombre_casa`, etc.\n",
        "- **Palabras separadas por espacio**\n",
        "  - Ejemplos: `Nombre escuela`, `notas estudiantes`, etc.\n",
        "- **Nombres de funciones de Python**\n",
        "  - Ejemplos: `print`, `type`, etc."
      ],
      "metadata": {
        "id": "om2N0jHKAzwL"
      }
    },
    {
      "cell_type": "markdown",
      "source": [
        "> Las letras mayúsculas y minúsculas generarán diferentes variables. La variable `edad` es diferente de `Edad` que a su vez es diferente de `EDAD`:\n",
        "``` Python\n",
        "edad = 1\n",
        "Edad = 2\n",
        "EDAD = 3\n",
        "_edad = 4\n",
        "_edad_ = 5\n",
        "print(edad, Edad, EDAD, _edad, _edad_)\n",
        "1 2 3 4 5\n",
        "```"
      ],
      "metadata": {
        "id": "A19vY2GVMujB"
      }
    },
    {
      "cell_type": "markdown",
      "source": [
        "# **Comentarios**"
      ],
      "metadata": {
        "id": "3ViVm4OWJvSs"
      }
    },
    {
      "cell_type": "code",
      "source": [
        "# Este es un comentario de una línea\n",
        "print(10) # Podemos colocar otro comentario en una línea después de un código"
      ],
      "metadata": {
        "colab": {
          "base_uri": "https://localhost:8080/"
        },
        "id": "cv_hrYzsJuc9",
        "outputId": "15c7a89c-5084-4b8c-de67-13929c30ceba"
      },
      "execution_count": null,
      "outputs": [
        {
          "output_type": "stream",
          "name": "stdout",
          "text": [
            "10\n"
          ]
        }
      ]
    },
    {
      "cell_type": "code",
      "source": [
        "'''\n",
        "Este es un comentario\n",
        "de varias líneas.\n",
        "'''"
      ],
      "metadata": {
        "colab": {
          "base_uri": "https://localhost:8080/",
          "height": 35
        },
        "id": "KcOa3tUVJ3qK",
        "outputId": "79f579b4-ae34-47d0-e912-4bfce1d933e5"
      },
      "execution_count": null,
      "outputs": [
        {
          "output_type": "execute_result",
          "data": {
            "text/plain": [
              "'\\nEste es un comentario\\nde varias líneas.\\n'"
            ],
            "application/vnd.google.colaboratory.intrinsic+json": {
              "type": "string"
            }
          },
          "metadata": {},
          "execution_count": 19
        }
      ]
    },
    {
      "cell_type": "markdown",
      "source": [
        "\n",
        "* Elemento 1\n",
        "* Elemento 2\n",
        "* Elemento 3\n",
        "\n"
      ],
      "metadata": {
        "id": "cpv7bk0tMVNm"
      }
    },
    {
      "cell_type": "markdown",
      "source": [
        "[Página de Alura](https://www.aluracursos.com/)"
      ],
      "metadata": {
        "id": "rKhks8KEM_vc"
      }
    },
    {
      "cell_type": "markdown",
      "source": [
        "## Tipos de variables\n",
        "\n",
        "Cada variable contiene una clase específica con respecto al tipo de objeto al cual esta hace referencia. Estas clases serán diferentes de acuerdo con el tipo de dato que le sea atribuido a una variable.\n",
        "\n",
        "Para conocer la clase de cada elemento usamos la función [`type()`](https://docs.python.org/3/library/functions.html#type)"
      ],
      "metadata": {
        "id": "UqhzuBhBHsps"
      }
    },
    {
      "cell_type": "code",
      "source": [
        "edad=5\n",
        "type (edad)"
      ],
      "metadata": {
        "id": "J5a9t73A_-PX",
        "colab": {
          "base_uri": "https://localhost:8080/"
        },
        "outputId": "5b6e1c63-0a4b-452a-d28f-2399777840ce"
      },
      "execution_count": null,
      "outputs": [
        {
          "output_type": "execute_result",
          "data": {
            "text/plain": [
              "int"
            ]
          },
          "metadata": {},
          "execution_count": 20
        }
      ]
    },
    {
      "cell_type": "code",
      "source": [
        "promedio = 9.75\n",
        "type(promedio)"
      ],
      "metadata": {
        "colab": {
          "base_uri": "https://localhost:8080/"
        },
        "id": "j09BcodWP1cT",
        "outputId": "55edae01-3f1d-4ac0-b720-a990de43746c"
      },
      "execution_count": null,
      "outputs": [
        {
          "output_type": "execute_result",
          "data": {
            "text/plain": [
              "float"
            ]
          },
          "metadata": {},
          "execution_count": 21
        }
      ]
    },
    {
      "cell_type": "code",
      "source": [
        "nombre = 'Gabriel'\n",
        "type(nombre)"
      ],
      "metadata": {
        "id": "rqmO1ew-_-So",
        "colab": {
          "base_uri": "https://localhost:8080/"
        },
        "outputId": "4c0fc7c4-2def-472e-e333-6959c45386b5"
      },
      "execution_count": null,
      "outputs": [
        {
          "output_type": "execute_result",
          "data": {
            "text/plain": [
              "str"
            ]
          },
          "metadata": {},
          "execution_count": 22
        }
      ]
    },
    {
      "cell_type": "code",
      "source": [
        "v = True\n",
        "type(v)"
      ],
      "metadata": {
        "id": "xkrPMkeY_-cP",
        "colab": {
          "base_uri": "https://localhost:8080/"
        },
        "outputId": "a21d3673-9564-42c4-ddd5-7e075ad59297"
      },
      "execution_count": null,
      "outputs": [
        {
          "output_type": "execute_result",
          "data": {
            "text/plain": [
              "bool"
            ]
          },
          "metadata": {},
          "execution_count": 23
        }
      ]
    },
    {
      "cell_type": "markdown",
      "source": [
        "En un conjunto de datos escolares podemos tener varios tipos de informaciones. Supongamos que tenemos acceso a la ficha de datos del alumno *Penélope Camacho*, cómo transformamos este nombre en variables de Python?\n",
        "\n",
        "#### Ficha:\n",
        "\n",
        "- Nombre: Penélope Camacho\n",
        "- Edad: 11 años\n",
        "- Promedio del semestre: 9,75\n",
        "- Situación de aprobación: Verdadera (aprobado)"
      ],
      "metadata": {
        "id": "O-FxDumfWu0C"
      }
    },
    {
      "cell_type": "code",
      "source": [
        "nombre_estudiante = 'Penelope Camacho'\n",
        "edad_estudiante = 11\n",
        "promedio_estudiante = 9.75\n",
        "estado_aprobación = True"
      ],
      "metadata": {
        "id": "FabQ7jQf_8Xt"
      },
      "execution_count": null,
      "outputs": []
    },
    {
      "cell_type": "code",
      "source": [
        "print (nombre_estudiante,edad_estudiante,promedio_estudiante,estado_aprobación)"
      ],
      "metadata": {
        "id": "IZLQnZUj_8bd",
        "colab": {
          "base_uri": "https://localhost:8080/"
        },
        "outputId": "de6de768-0d10-4825-831f-c70efdf6a494"
      },
      "execution_count": null,
      "outputs": [
        {
          "output_type": "stream",
          "name": "stdout",
          "text": [
            "Penelope Camacho 11 9.75 True\n"
          ]
        }
      ]
    },
    {
      "cell_type": "code",
      "source": [
        "print (type(nombre_estudiante),type(edad_estudiante),type(promedio_estudiante),type(estado_aprobación))"
      ],
      "metadata": {
        "colab": {
          "base_uri": "https://localhost:8080/"
        },
        "id": "jQHCOo_HSOFW",
        "outputId": "ba1d7ede-91cc-4303-fd07-4b67747bb80e"
      },
      "execution_count": null,
      "outputs": [
        {
          "output_type": "stream",
          "name": "stdout",
          "text": [
            "<class 'str'> <class 'int'> <class 'float'> <class 'bool'>\n"
          ]
        }
      ]
    },
    {
      "cell_type": "markdown",
      "source": [
        "## Variables numéricas\n",
        "\n",
        "Entre los tipos de datos numéricos vamos a enfocarnos en los tipos `entero` y `float`."
      ],
      "metadata": {
        "id": "KFq_8Sxf-OG0"
      }
    },
    {
      "cell_type": "markdown",
      "source": [
        "Tenemos una tabla de información sobre los diversos cargos, cantidad de personas empleadas y el salario correspondiente:\n",
        "\n",
        "|Cargo | Cantidad | Salario|\n",
        "|---|---|---|\n",
        "|Vigilante | 5 | 300 |\n",
        "|Docente | 16| 500|\n",
        "|Coordinador| 2 |600|\n",
        "\n",
        "Necesitamos trabajar con estos datos para obtener:\n",
        "\n",
        "- La cantidad total de empleados;\n",
        "- La diferencia entre el salario más bajo y más alto; y\n",
        "- El promedio ponderado de los salarios de los empleados de la escuela."
      ],
      "metadata": {
        "id": "8_HYUbkVYdQY"
      }
    },
    {
      "cell_type": "code",
      "source": [
        "c_vigilante = 5\n",
        "s_vigilante = 300\n",
        "\n",
        "c_docente = 16\n",
        "s_docente = 500\n",
        "\n",
        "c_coordinador = 2\n",
        "s_coordinador = 600"
      ],
      "metadata": {
        "id": "F_X-wxdm_5Ys"
      },
      "execution_count": null,
      "outputs": []
    },
    {
      "cell_type": "code",
      "source": [
        "# Cálculo de la cantidad de empleados\n",
        "total_empleados = c_vigilante + c_docente + c_coordinador\n",
        "print (total_empleados)"
      ],
      "metadata": {
        "id": "gKmBbhII_5b9",
        "colab": {
          "base_uri": "https://localhost:8080/"
        },
        "outputId": "fa0895c0-0e2f-4c67-d734-4770c1adfa80"
      },
      "execution_count": null,
      "outputs": [
        {
          "output_type": "stream",
          "name": "stdout",
          "text": [
            "23\n"
          ]
        }
      ]
    },
    {
      "cell_type": "code",
      "source": [
        "# Cálculo de la diferencia del salario más alto y el salario menos alto\n",
        "diferencia_salarios = s_coordinador - s_vigilante\n",
        "print (diferencia_salarios)"
      ],
      "metadata": {
        "colab": {
          "base_uri": "https://localhost:8080/"
        },
        "id": "lFB7gnIQaZvf",
        "outputId": "46816e34-8d74-4373-9ad7-db3ac24de86d"
      },
      "execution_count": null,
      "outputs": [
        {
          "output_type": "stream",
          "name": "stdout",
          "text": [
            "300\n"
          ]
        }
      ]
    },
    {
      "cell_type": "code",
      "source": [
        "# Cálculo del promedio ponderado del salario de los empleados\n",
        "promedio_ponderado = (c_vigilante * s_vigilante + c_docente * s_docente\n",
        "                      + c_coordinador * s_coordinador) / total_empleados\n",
        "print (promedio_ponderado)\n",
        "print (round(promedio_ponderado,2))"
      ],
      "metadata": {
        "colab": {
          "base_uri": "https://localhost:8080/"
        },
        "id": "Inr5z-kLaTbs",
        "outputId": "4bad6632-1c5c-4c0c-f2d3-15238b740c66"
      },
      "execution_count": null,
      "outputs": [
        {
          "output_type": "stream",
          "name": "stdout",
          "text": [
            "465.2173913043478\n",
            "465.22\n"
          ]
        }
      ]
    },
    {
      "cell_type": "code",
      "source": [
        "# verificar tipo de dato\n",
        "type (promedio_ponderado)"
      ],
      "metadata": {
        "colab": {
          "base_uri": "https://localhost:8080/"
        },
        "id": "qROH3LcNa2qb",
        "outputId": "10394081-11f8-42a9-ebd3-81f28266bdd2"
      },
      "execution_count": null,
      "outputs": [
        {
          "output_type": "execute_result",
          "data": {
            "text/plain": [
              "float"
            ]
          },
          "metadata": {},
          "execution_count": 36
        }
      ]
    },
    {
      "cell_type": "markdown",
      "source": [
        "## Strings"
      ],
      "metadata": {
        "id": "yQy7b0ZWoD-P"
      }
    },
    {
      "cell_type": "markdown",
      "source": [
        "Strings hace referencia a un conjunto de caracteres formando un texto.\n",
        "\n",
        "Podemos crear Strings cuando atribuimos un dato a una variable entre comillas sencillas (`'`) o comillas dobles (`\"`)."
      ],
      "metadata": {
        "id": "vlo2-DXusv3s"
      }
    },
    {
      "cell_type": "code",
      "source": [
        "t = 'Alura'\n",
        "type (t)"
      ],
      "metadata": {
        "colab": {
          "base_uri": "https://localhost:8080/"
        },
        "id": "d9ceTdiDHvcd",
        "outputId": "d0ed4a7d-1c45-4f6c-9b38-f63b1d5e4285"
      },
      "execution_count": null,
      "outputs": [
        {
          "output_type": "execute_result",
          "data": {
            "text/plain": [
              "str"
            ]
          },
          "metadata": {},
          "execution_count": 1
        }
      ]
    },
    {
      "cell_type": "markdown",
      "source": [
        "Las variables textuales son objetos que poseen métodos que nos ayudan a formatear strings. Los métodos los podemos ejecutar al definir un objeto de acuerdo con la siguiente estructura:\n",
        "\n",
        "```\n",
        "objeto.metodo()\n",
        "```\n",
        "\n",
        "Existen métodos que no necesitan los `()`, siempre es una buena práctica verificar la documentación para cada caso."
      ],
      "metadata": {
        "id": "2e9UD_CCxqz_"
      }
    },
    {
      "cell_type": "markdown",
      "source": [
        "---\n",
        "**Situación:**\n",
        "\n",
        "Recibimos una variable con el nombre de una profesora de la escuela para añadirla a los registros. Sin embargo, necesitamos darle un tratamiento a este texto antes de insertarlo al sistema."
      ],
      "metadata": {
        "id": "p6aPmMGP4tf9"
      }
    },
    {
      "cell_type": "code",
      "source": [
        "texto = '  Micaela de los Sanyos '\n",
        "id(texto)"
      ],
      "metadata": {
        "id": "icDWtYTjBO0n",
        "colab": {
          "base_uri": "https://localhost:8080/"
        },
        "outputId": "4e001055-88a1-4ee5-d453-85e82b55bf03"
      },
      "execution_count": null,
      "outputs": [
        {
          "output_type": "execute_result",
          "data": {
            "text/plain": [
              "139877169808288"
            ]
          },
          "metadata": {},
          "execution_count": 2
        }
      ]
    },
    {
      "cell_type": "markdown",
      "source": [
        "El objetivo final es que el nombre aparezca de la siguiente forma:\n",
        "\n",
        "```\n",
        "'MICAELA DE LOS SANTOS'\n",
        "```"
      ],
      "metadata": {
        "id": "Dg2ZXSZOGzjC"
      }
    },
    {
      "cell_type": "markdown",
      "source": [
        "### [`str.upper()` ](https://docs.python.org/3/library/stdtypes.html#str.upper)\n",
        "Convierte una string a mayúsculas."
      ],
      "metadata": {
        "id": "iVTAD8q702eN"
      }
    },
    {
      "cell_type": "code",
      "source": [
        "texto.upper()"
      ],
      "metadata": {
        "id": "wMVshJrY_ZXh",
        "colab": {
          "base_uri": "https://localhost:8080/",
          "height": 35
        },
        "outputId": "af43a449-ed8b-412c-943c-3f5a75dba287"
      },
      "execution_count": null,
      "outputs": [
        {
          "output_type": "execute_result",
          "data": {
            "text/plain": [
              "'  MICAELA DE LOS SANYOS '"
            ],
            "application/vnd.google.colaboratory.intrinsic+json": {
              "type": "string"
            }
          },
          "metadata": {},
          "execution_count": 3
        }
      ]
    },
    {
      "cell_type": "markdown",
      "source": [
        "### [`str.lower()`](https://docs.python.org/3/library/stdtypes.html#str.lower)\n",
        "Convierte una string a minúsculas."
      ],
      "metadata": {
        "id": "hbDSBtMV1TpG"
      }
    },
    {
      "cell_type": "code",
      "source": [
        "texto.lower()"
      ],
      "metadata": {
        "id": "px3yEeNH_YK4",
        "colab": {
          "base_uri": "https://localhost:8080/",
          "height": 35
        },
        "outputId": "340cb3d6-686b-4463-eefb-cd94433f092c"
      },
      "execution_count": null,
      "outputs": [
        {
          "output_type": "execute_result",
          "data": {
            "text/plain": [
              "'  micaela de los sanyos '"
            ],
            "application/vnd.google.colaboratory.intrinsic+json": {
              "type": "string"
            }
          },
          "metadata": {},
          "execution_count": 4
        }
      ]
    },
    {
      "cell_type": "markdown",
      "source": [
        "### [`str.strip()`](https://docs.python.org/3/library/stdtypes.html#str.strip)\n",
        "Elimina los espacios en blanco al inicio y al final de una string."
      ],
      "metadata": {
        "id": "kz47eWM11gii"
      }
    },
    {
      "cell_type": "code",
      "source": [
        "texto.strip ()"
      ],
      "metadata": {
        "id": "76dLgNa4_XAe",
        "colab": {
          "base_uri": "https://localhost:8080/",
          "height": 35
        },
        "outputId": "948cddbf-8c00-4e2b-cb1b-f8adee4dc8e3"
      },
      "execution_count": null,
      "outputs": [
        {
          "output_type": "execute_result",
          "data": {
            "text/plain": [
              "'Micaela de los Sanyos'"
            ],
            "application/vnd.google.colaboratory.intrinsic+json": {
              "type": "string"
            }
          },
          "metadata": {},
          "execution_count": 5
        }
      ]
    },
    {
      "cell_type": "markdown",
      "source": [
        "### [`str.replace(antiguo, nuevo)`](https://docs.python.org/3/library/stdtypes.html#str.replace)\n",
        "\n",
        "Sustituye todas las ocurrencias del texto \"antiguo\" en la string por el  \"nuevo\"."
      ],
      "metadata": {
        "id": "m6notiyS1SCV"
      }
    },
    {
      "cell_type": "code",
      "source": [
        "texto.replace('y','t')"
      ],
      "metadata": {
        "id": "PNXAixtE_V6R",
        "colab": {
          "base_uri": "https://localhost:8080/",
          "height": 35
        },
        "outputId": "d463b4f5-0767-4010-95d4-00ed2bf067b3"
      },
      "execution_count": null,
      "outputs": [
        {
          "output_type": "execute_result",
          "data": {
            "text/plain": [
              "'  Micaela de los Santos '"
            ],
            "application/vnd.google.colaboratory.intrinsic+json": {
              "type": "string"
            }
          },
          "metadata": {},
          "execution_count": 6
        }
      ]
    },
    {
      "cell_type": "markdown",
      "source": [
        "### Observaciones\n",
        "\n",
        "1. Los métodos devuelven una **tranformación**, no son ejecutados directamente sobre la variable donde está almacenado el texto.\n",
        "\n",
        "2. Adicionalmente, podemos acumular la ejecución de los métodos."
      ],
      "metadata": {
        "id": "zukvEjhG2Rcn"
      }
    },
    {
      "cell_type": "code",
      "source": [
        "texto\n"
      ],
      "metadata": {
        "id": "JjkBRklr_T5n",
        "colab": {
          "base_uri": "https://localhost:8080/",
          "height": 35
        },
        "outputId": "7750ddbe-f708-4f0d-fd53-c2499f65133a"
      },
      "execution_count": null,
      "outputs": [
        {
          "output_type": "execute_result",
          "data": {
            "text/plain": [
              "'  Micaela de los Sanyos '"
            ],
            "application/vnd.google.colaboratory.intrinsic+json": {
              "type": "string"
            }
          },
          "metadata": {},
          "execution_count": 9
        }
      ]
    },
    {
      "cell_type": "code",
      "source": [
        "id(texto)"
      ],
      "metadata": {
        "colab": {
          "base_uri": "https://localhost:8080/"
        },
        "id": "DAGC05YAMTiB",
        "outputId": "33471e7d-ab16-4dda-95ba-c4d1c543f46a"
      },
      "execution_count": null,
      "outputs": [
        {
          "output_type": "execute_result",
          "data": {
            "text/plain": [
              "139876360744960"
            ]
          },
          "metadata": {},
          "execution_count": 8
        }
      ]
    },
    {
      "cell_type": "markdown",
      "source": [
        "Para que la transformación se pueda ejecutar debemos atribuir la salida de las transformaciones a las variables"
      ],
      "metadata": {
        "id": "1KbwfVut2h6I"
      }
    },
    {
      "cell_type": "code",
      "source": [
        "nuevo_texto = texto.strip().replace('y','t').upper()\n",
        "print(nuevo_texto)\n",
        "print(id(texto), id(nuevo_texto))"
      ],
      "metadata": {
        "id": "ocPP-Jaj_SJI",
        "colab": {
          "base_uri": "https://localhost:8080/"
        },
        "outputId": "17616b41-79ca-44c7-ba7c-0bca31b7ab46"
      },
      "execution_count": null,
      "outputs": [
        {
          "output_type": "stream",
          "name": "stdout",
          "text": [
            "MICAELA DE LOS SANTOS\n",
            "139876360744960 139876360739840\n"
          ]
        }
      ]
    },
    {
      "cell_type": "code",
      "source": [
        "texto = texto.strip().replace('y','t').upper()\n",
        "print(texto)\n",
        "print(id(texto), id(nuevo_texto))\n",
        "# Cambio el numero del espacio de memoria por que se definio nuevamente el valor de la variable nuevo texto"
      ],
      "metadata": {
        "id": "m1RvLGZZ_SP3",
        "colab": {
          "base_uri": "https://localhost:8080/"
        },
        "outputId": "d2848d87-1d0d-4ce3-99b6-854f3ad28eb1"
      },
      "execution_count": null,
      "outputs": [
        {
          "output_type": "stream",
          "name": "stdout",
          "text": [
            "MICAELA DE LOS SANTOS\n",
            "139876775585520 139876360739840\n"
          ]
        }
      ]
    },
    {
      "cell_type": "markdown",
      "source": [
        "## Capturando datos\n",
        "\n",
        "En algunas aplicaciones necesitamos capturar los valores del usuario de nuestro proyecto. En python, logramos capturar los datos del usuario a través del comando [`input()`](https://docs.python.org/3/library/functions.html#input).\n",
        "\n",
        "Para ejecutar la captura debemos atribuir el resultado de esta función a una variable."
      ],
      "metadata": {
        "id": "0h9Fh5G9kHCa"
      }
    },
    {
      "cell_type": "code",
      "source": [
        "nombre = input ('Escribe tu nombre aquí, por favor: ')"
      ],
      "metadata": {
        "id": "zbH_9i3q_PdY",
        "colab": {
          "base_uri": "https://localhost:8080/"
        },
        "outputId": "9b2c2034-6d2d-4357-dbca-3e5d1c7a6303"
      },
      "execution_count": null,
      "outputs": [
        {
          "name": "stdout",
          "output_type": "stream",
          "text": [
            "Escribe tu nombre aquí, por favor: Laura\n"
          ]
        }
      ]
    },
    {
      "cell_type": "code",
      "source": [
        "type (nombre)"
      ],
      "metadata": {
        "id": "JZy1Q9Tl_PgL",
        "colab": {
          "base_uri": "https://localhost:8080/"
        },
        "outputId": "5124f0da-8e25-4090-8ba8-45042e08eb2c"
      },
      "execution_count": null,
      "outputs": [
        {
          "output_type": "execute_result",
          "data": {
            "text/plain": [
              "str"
            ]
          },
          "metadata": {},
          "execution_count": 16
        }
      ]
    },
    {
      "cell_type": "markdown",
      "source": [
        "La salida de este comando siempre será una *string*. Esto quiere decir que aunque capturemos un valor de variable numérica, este será de tipo string.\n",
        "\n",
        "Entonces, será necesario **convertir el resultado cuando no se desea utilizar el valor como tipo string**."
      ],
      "metadata": {
        "id": "7z7hcLCk_aCY"
      }
    },
    {
      "cell_type": "markdown",
      "source": [
        "Existen funciones para la conversión de valores:\n",
        "\n",
        "- Enteros: [`int(dato_para_conversion)`](https://docs.python.org/3/library/functions.html#int)\n",
        "- Coma flotante: [`float(dato_para_conversion)`](https://docs.python.org/3/library/functions.html#float)\n",
        "- String: [`str(dato_para_conversion)`](https://docs.python.org/3/library/functions.html#func-str)\n",
        "- Booleano: [`bool(dato_para_conversion)`](https://docs.python.org/3/library/functions.html#bool)"
      ],
      "metadata": {
        "id": "TOlegATj1Jfp"
      }
    },
    {
      "cell_type": "code",
      "source": [
        "ano_admision = input ('En que año ingresaste a la universidad? : ')"
      ],
      "metadata": {
        "id": "M2ueeH6l_NMe",
        "colab": {
          "base_uri": "https://localhost:8080/"
        },
        "outputId": "1130aed0-9370-4ea2-dbe9-63d8c6b89985"
      },
      "execution_count": null,
      "outputs": [
        {
          "name": "stdout",
          "output_type": "stream",
          "text": [
            "En que año ingresaste a la universidad? : 2023\n"
          ]
        }
      ]
    },
    {
      "cell_type": "code",
      "source": [
        "type (ano_admision)\n"
      ],
      "metadata": {
        "id": "xfWwuViK_NUn",
        "colab": {
          "base_uri": "https://localhost:8080/"
        },
        "outputId": "562e2f8e-2f9f-434d-cec8-99ecb8216820"
      },
      "execution_count": null,
      "outputs": [
        {
          "output_type": "execute_result",
          "data": {
            "text/plain": [
              "str"
            ]
          },
          "metadata": {},
          "execution_count": 18
        }
      ]
    },
    {
      "cell_type": "code",
      "source": [
        "ano_salida = input ('En que año egresaste de la universidad? : ')"
      ],
      "metadata": {
        "id": "uFCHDyew_NZm",
        "colab": {
          "base_uri": "https://localhost:8080/"
        },
        "outputId": "0b0dc76f-e0fb-4ac8-e0f2-2361901d0956"
      },
      "execution_count": null,
      "outputs": [
        {
          "name": "stdout",
          "output_type": "stream",
          "text": [
            "En que año egresaste de la universidad? : 2024\n"
          ]
        }
      ]
    },
    {
      "cell_type": "code",
      "source": [
        "type (ano_salida)"
      ],
      "metadata": {
        "colab": {
          "base_uri": "https://localhost:8080/"
        },
        "id": "Q7IKJWEUVGoc",
        "outputId": "09baaaf2-4d17-4ac4-eb94-9a867ef93c91"
      },
      "execution_count": null,
      "outputs": [
        {
          "output_type": "execute_result",
          "data": {
            "text/plain": [
              "str"
            ]
          },
          "metadata": {},
          "execution_count": 20
        }
      ]
    },
    {
      "cell_type": "code",
      "source": [
        "# Si sumo las dos variables tipo string, se concatena. 20232024\n",
        "ano_admision + ano_salida"
      ],
      "metadata": {
        "colab": {
          "base_uri": "https://localhost:8080/",
          "height": 35
        },
        "id": "2Vc01HN_VKYl",
        "outputId": "fe3721a8-3394-46c8-ad00-3575d67f2b45"
      },
      "execution_count": null,
      "outputs": [
        {
          "output_type": "execute_result",
          "data": {
            "text/plain": [
              "'20232024'"
            ],
            "application/vnd.google.colaboratory.intrinsic+json": {
              "type": "string"
            }
          },
          "metadata": {},
          "execution_count": 21
        }
      ]
    },
    {
      "cell_type": "code",
      "source": [
        "# se debe hacer la conversion de variables tipo string a entero o float\n",
        "ano_admision = int(input ('En que año ingresaste a la universidad? : '))"
      ],
      "metadata": {
        "colab": {
          "base_uri": "https://localhost:8080/"
        },
        "id": "u3PpqmUgVXSx",
        "outputId": "2eb7f684-a43d-40ea-d61f-1110c0c683d8"
      },
      "execution_count": null,
      "outputs": [
        {
          "name": "stdout",
          "output_type": "stream",
          "text": [
            "En que año ingresaste a la universidad? : 2007\n"
          ]
        }
      ]
    },
    {
      "cell_type": "code",
      "source": [
        "type (ano_admision)"
      ],
      "metadata": {
        "colab": {
          "base_uri": "https://localhost:8080/"
        },
        "id": "Rd3dScxfVlW-",
        "outputId": "06b4789b-ab3a-4b44-a1a0-78cd40aa139d"
      },
      "execution_count": null,
      "outputs": [
        {
          "output_type": "execute_result",
          "data": {
            "text/plain": [
              "int"
            ]
          },
          "metadata": {},
          "execution_count": 23
        }
      ]
    },
    {
      "cell_type": "code",
      "source": [
        "ano_salida = int(input ('En que año egresaste de la universidad? : '))"
      ],
      "metadata": {
        "colab": {
          "base_uri": "https://localhost:8080/"
        },
        "id": "E5csWzfgVouW",
        "outputId": "c253c7ff-ab95-41d6-84e3-3222c23170af"
      },
      "execution_count": null,
      "outputs": [
        {
          "name": "stdout",
          "output_type": "stream",
          "text": [
            "En que año egresaste de la universidad? : 2023\n"
          ]
        }
      ]
    },
    {
      "cell_type": "code",
      "source": [
        "type (ano_salida)"
      ],
      "metadata": {
        "colab": {
          "base_uri": "https://localhost:8080/"
        },
        "id": "bDu3XJOgVuFa",
        "outputId": "8b9afc51-673c-43d1-9706-6aa592b9b3ea"
      },
      "execution_count": null,
      "outputs": [
        {
          "output_type": "execute_result",
          "data": {
            "text/plain": [
              "int"
            ]
          },
          "metadata": {},
          "execution_count": 25
        }
      ]
    },
    {
      "cell_type": "code",
      "source": [
        "# Ejemplo input dato tipo float conversion\n",
        "nota_admision = float(input ('Cual fue tu nota final de admisión? : '))"
      ],
      "metadata": {
        "colab": {
          "base_uri": "https://localhost:8080/"
        },
        "id": "452GiJnrVxLY",
        "outputId": "8d6cbed2-6b8b-4d68-df7b-872b62ccb600"
      },
      "execution_count": null,
      "outputs": [
        {
          "name": "stdout",
          "output_type": "stream",
          "text": [
            "Cual fue tu nota final de admisión? : 70.5\n"
          ]
        }
      ]
    },
    {
      "cell_type": "code",
      "source": [
        "type (nota_admision)"
      ],
      "metadata": {
        "colab": {
          "base_uri": "https://localhost:8080/"
        },
        "id": "thtDw2iFV_yG",
        "outputId": "373a1126-be13-4d8c-e8e9-a89c8383f9a4"
      },
      "execution_count": null,
      "outputs": [
        {
          "output_type": "execute_result",
          "data": {
            "text/plain": [
              "float"
            ]
          },
          "metadata": {},
          "execution_count": 27
        }
      ]
    },
    {
      "cell_type": "markdown",
      "source": [
        "Trataremos de representar mejor ahora el resultado de la transformación que obtuvimos. Nosotros podemos formatear y presentar nuestro resultado mezclando strings con valores no textuales.\n",
        "\n",
        "Para ello utilizamos la estructura de formatación `f` con strings."
      ],
      "metadata": {
        "id": "yNI2-XTbB3aS"
      }
    },
    {
      "cell_type": "code",
      "source": [
        "# Separar cada dato en una nueva línea \\n\n",
        "print (f'El año de admisión fue: {ano_admision} \\nLa nota de admisión fue: {nota_admision}')"
      ],
      "metadata": {
        "id": "keJjA5N9_K5i",
        "colab": {
          "base_uri": "https://localhost:8080/"
        },
        "outputId": "e1854e90-ce13-4522-8b51-e05fdf2de949"
      },
      "execution_count": null,
      "outputs": [
        {
          "output_type": "stream",
          "name": "stdout",
          "text": [
            "El año de admisión fue: 2007 \n",
            "La nota de admisión fue: 70.5\n"
          ]
        }
      ]
    },
    {
      "cell_type": "code",
      "source": [
        "# Con tabulación \\t\n",
        "print (f'\\tEl año de admisión fue: {ano_admision} \\n\\tLa nota de admisión fue: {nota_admision}')"
      ],
      "metadata": {
        "colab": {
          "base_uri": "https://localhost:8080/"
        },
        "id": "QcNuwi60YvJN",
        "outputId": "675a95c8-e193-492f-fec9-30cf7daff3b2"
      },
      "execution_count": null,
      "outputs": [
        {
          "output_type": "stream",
          "name": "stdout",
          "text": [
            "\tEl año de admisión fue: 2007 \n",
            "\tLa nota de admisión fue: 70.5\n"
          ]
        }
      ]
    },
    {
      "cell_type": "markdown",
      "source": [
        "# **Unicode**"
      ],
      "metadata": {
        "id": "tPiuBqs_crYQ"
      }
    },
    {
      "cell_type": "code",
      "source": [
        "# Crear la palabra hola con la tabla unicode\n",
        "chr(72) + chr(111) +  chr(108) + chr(97)"
      ],
      "metadata": {
        "colab": {
          "base_uri": "https://localhost:8080/",
          "height": 35
        },
        "id": "IXBOczZVcq1o",
        "outputId": "3fe3e7c4-6e34-490d-f2b9-66752291ae02"
      },
      "execution_count": null,
      "outputs": [
        {
          "output_type": "execute_result",
          "data": {
            "text/plain": [
              "'Hola'"
            ],
            "application/vnd.google.colaboratory.intrinsic+json": {
              "type": "string"
            }
          },
          "metadata": {},
          "execution_count": 30
        }
      ]
    },
    {
      "cell_type": "code",
      "source": [
        "chr(64)"
      ],
      "metadata": {
        "colab": {
          "base_uri": "https://localhost:8080/",
          "height": 35
        },
        "id": "huKf1miceufy",
        "outputId": "9c5b757a-88f8-4c4d-b383-b6a22efdc1ac"
      },
      "execution_count": null,
      "outputs": [
        {
          "output_type": "execute_result",
          "data": {
            "text/plain": [
              "'@'"
            ],
            "application/vnd.google.colaboratory.intrinsic+json": {
              "type": "string"
            }
          },
          "metadata": {},
          "execution_count": 38
        }
      ]
    },
    {
      "cell_type": "markdown",
      "source": [
        "# **DIVERSOS FORMATOS DE PRINT()**"
      ],
      "metadata": {
        "id": "nWIwpJrvm7fK"
      }
    },
    {
      "cell_type": "code",
      "source": [
        "# Metodo F string\n",
        "nombre = \"Ana María\"\n",
        "edad = 17\n",
        "print(f\"El nombre de la alumna es {nombre} y su edad es {edad} años.\")"
      ],
      "metadata": {
        "colab": {
          "base_uri": "https://localhost:8080/"
        },
        "id": "cg4UCA5om1dK",
        "outputId": "5da33192-82ee-4406-ae05-ac36763515c9"
      },
      "execution_count": null,
      "outputs": [
        {
          "output_type": "stream",
          "name": "stdout",
          "text": [
            "El nombre de la alumna es Ana María y su edad es 17 años.\n"
          ]
        }
      ]
    },
    {
      "cell_type": "code",
      "source": [
        "# Operador de formateo\n",
        "nombre_alumno = 'Penélope Camacho'\n",
        "edad_alumno = 11\n",
        "media_alumno = 9.95\n",
        "print('Nombre del alumno es %s, tiene %d años y su media es %f.' %(nombre_alumno, edad_alumno, media_alumno))\n",
        "# Ajustar numeros decimales\n",
        "print('Nombre del alumno es %s, tiene %d años y su media es %.2f.' %(nombre_alumno, edad_alumno, media_alumno))\n",
        "# Caso con booleanos\n",
        "x = True\n",
        "print(\"Valor de x: %s\" % str(x))"
      ],
      "metadata": {
        "colab": {
          "base_uri": "https://localhost:8080/"
        },
        "id": "FEGX5icAmaFr",
        "outputId": "26d9f776-dd8f-4c8f-92e9-134fa4969ad1"
      },
      "execution_count": null,
      "outputs": [
        {
          "output_type": "stream",
          "name": "stdout",
          "text": [
            "Nombre del alumno es Penélope Camacho, tiene 11 años y su media es 9.950000.\n",
            "Nombre del alumno es Penélope Camacho, tiene 11 años y su media es 9.95.\n",
            "Valor de x: True\n"
          ]
        }
      ]
    },
    {
      "cell_type": "code",
      "source": [
        "# Metodo .format\n",
        "nombre_alumno = 'Fabricio Daniel'\n",
        "edad_alumno = 15\n",
        "media_alumno = 9.95\n",
        "print('Nombre del alumno es {}, tiene {} años y su media es {}.' .format(nombre_alumno, edad_alumno, media_alumno))"
      ],
      "metadata": {
        "colab": {
          "base_uri": "https://localhost:8080/"
        },
        "id": "spZhDFAfl4nt",
        "outputId": "a3cd9841-d122-4a9e-b29c-35fac3ec1818"
      },
      "execution_count": null,
      "outputs": [
        {
          "output_type": "stream",
          "name": "stdout",
          "text": [
            "Nombre del alumno es Fabricio Daniel, tiene 15 años y su media es 9.95.\n"
          ]
        }
      ]
    },
    {
      "cell_type": "markdown",
      "source": [
        "# **Caracteres especiales**"
      ],
      "metadata": {
        "id": "3cFw1zLP4ZHq"
      }
    },
    {
      "cell_type": "code",
      "source": [
        "# Nueva linea \\n para escribir en una linea nueva\n",
        "print(\"Estudiar es un esfuerzo constante,\\nEs como cultivar una planta,\\nNecesitamos dedicación y paciencia,\\nPara ver madurar el fruto.\")"
      ],
      "metadata": {
        "colab": {
          "base_uri": "https://localhost:8080/"
        },
        "id": "Tk1iDKcenCX1",
        "outputId": "826c23a6-a8e7-47f4-8fca-3bb8b1d471eb"
      },
      "execution_count": null,
      "outputs": [
        {
          "output_type": "stream",
          "name": "stdout",
          "text": [
            "Estudiar es un esfuerzo constante,\n",
            "Es como cultivar una planta,\n",
            "Necesitamos dedicación y paciencia,\n",
            "Para ver madurar el fruto.\n"
          ]
        }
      ]
    },
    {
      "cell_type": "code",
      "source": [
        "# \\t para crear un espacio tabular\n",
        "print('Cantidad\\tCalidad\\n5 muestras\\tAlta\\n3 muestras\\tBaja')"
      ],
      "metadata": {
        "colab": {
          "base_uri": "https://localhost:8080/"
        },
        "id": "0FAF_JSH4h-o",
        "outputId": "b1e0efb2-f9c4-4d1b-e1a4-a3264b4df872"
      },
      "execution_count": null,
      "outputs": [
        {
          "output_type": "stream",
          "name": "stdout",
          "text": [
            "Cantidad\tCalidad\n",
            "5 muestras\tAlta\n",
            "3 muestras\tBaja\n"
          ]
        }
      ]
    },
    {
      "cell_type": "code",
      "source": [
        "#\\\\ para imprimir una barra \\\n",
        "print(\"Ruta del archivo: C:\\\\archivos\\\\documento.csv\")\n",
        "print ('\\\\')"
      ],
      "metadata": {
        "colab": {
          "base_uri": "https://localhost:8080/"
        },
        "id": "suWrvu0d5D66",
        "outputId": "6df4e186-b325-4526-8e95-edfb117c9675"
      },
      "execution_count": null,
      "outputs": [
        {
          "output_type": "stream",
          "name": "stdout",
          "text": [
            "Ruta del archivo: C:\\archivos\\documento.csv\n",
            "\\\n"
          ]
        }
      ]
    },
    {
      "cell_type": "code",
      "source": [
        "# \\\" para hacer comillas dobles dentro de otras comillas dobles\n",
        "print(\"Una vez oí: \\\"Los frutos del conocimiento son los más dulces y duraderos de todos.\\\" \")"
      ],
      "metadata": {
        "colab": {
          "base_uri": "https://localhost:8080/"
        },
        "id": "S6basehN5-qW",
        "outputId": "a25119b2-896b-4c28-e724-56a397626e18"
      },
      "execution_count": null,
      "outputs": [
        {
          "output_type": "stream",
          "name": "stdout",
          "text": [
            "Una vez oí: \"Los frutos del conocimiento son los más dulces y duraderos de todos.\"\n"
          ]
        }
      ]
    },
    {
      "cell_type": "code",
      "source": [
        "#'\\ para hacer comillas simples dentro de otras comillas simples\n",
        "print(' Mi profesora una vez dijo: \\'Estudiar es la clave del éxito.\\' ')\n",
        "print(' Mi profesora una vez dijo: \"Estudiar es la clave del éxito.\" ')\n"
      ],
      "metadata": {
        "colab": {
          "base_uri": "https://localhost:8080/"
        },
        "id": "bYaD6kjC6SMu",
        "outputId": "01ca241d-dd65-4fb4-cd7a-15a57dd717c5"
      },
      "execution_count": null,
      "outputs": [
        {
          "output_type": "stream",
          "name": "stdout",
          "text": [
            " Mi profesora una vez dijo: 'Estudiar es la clave del éxito.' \n",
            " Mi profesora una vez dijo: \"Estudiar es la clave del éxito.\" \n"
          ]
        }
      ]
    },
    {
      "cell_type": "markdown",
      "source": [
        "# **1.2.14 Desafío: Manipulacion datos python**"
      ],
      "metadata": {
        "id": "AH3-1NE68-cO"
      }
    },
    {
      "cell_type": "code",
      "source": [
        "#Recopilación y muestra de datos\n",
        "#1. Crea un programa que solicite al usuario que escriba su nombre y luego imprima \"Hola, [nombre].\"\n",
        "nombre_usuario = input ('Escribe tu nombre aquí por favor: ')\n",
        "print (f'Hola, {nombre_usuario}')\n"
      ],
      "metadata": {
        "colab": {
          "base_uri": "https://localhost:8080/"
        },
        "id": "7n7N8ENJ8-H6",
        "outputId": "2fe8e650-24c6-457f-88cf-9ace62fd8612"
      },
      "execution_count": null,
      "outputs": [
        {
          "output_type": "stream",
          "name": "stdout",
          "text": [
            "Escribe tu nombre aquí por favor: lau\n",
            "Hola, lau\n"
          ]
        }
      ]
    },
    {
      "cell_type": "code",
      "source": [
        "#2. Crea un programa que solicite al usuario que escriba su nombre y edad, y luego imprima \"Hola, [nombre], tienes [edad] años.\"\n",
        "nombre_usuario = input ('Escribe tu nombre aquí, por favor: ')\n",
        "edad_usuario = int(input ('Escriba su edad aquí, por favor: '))\n",
        "print (f'Hola, {nombre_usuario}, tienes {edad_usuario} años.')"
      ],
      "metadata": {
        "colab": {
          "base_uri": "https://localhost:8080/"
        },
        "id": "CHL6V8989356",
        "outputId": "d6e74263-176d-4de9-b80f-8173e8ca200d"
      },
      "execution_count": null,
      "outputs": [
        {
          "output_type": "stream",
          "name": "stdout",
          "text": [
            "Escribe tu nombre aquí, por favor: Laura\n",
            "Escriba su edad aquí, por favor: 34\n",
            "Hola, Laura, tienes 34 años.\n"
          ]
        }
      ]
    },
    {
      "cell_type": "code",
      "source": [
        "#3. Crea un programa que solicite al usuario que escriba su nombre, edad\n",
        "#y altura en metros, y luego imprima \"Hola, [nombre], tienes [edad] años\n",
        "#y mides [altura] metros.\"\n",
        "nombre_usuario = input ('Escribe tu nombre aquí, por favor: ')\n",
        "edad_usuario = int(input ('Escriba su edad aquí, por favor: '))\n",
        "altura_usuario = float(input ('Escriba aquí su altura en metros: '))\n",
        "print (f'Hola, {nombre_usuario}, tienes {edad_usuario} años y mides {altura_usuario} metros.')"
      ],
      "metadata": {
        "colab": {
          "base_uri": "https://localhost:8080/"
        },
        "id": "6M7WkfO4-Xmb",
        "outputId": "98e98ec2-a89e-4d0b-c9d6-14dd0d39cde0"
      },
      "execution_count": null,
      "outputs": [
        {
          "output_type": "stream",
          "name": "stdout",
          "text": [
            "Escribe tu nombre aquí, por favor: Luis\n",
            "Escriba su edad aquí, por favor: 23\n",
            "Escriba aquí su altura en metros: 1.67\n",
            "Hola, Luis, tienes 23 años y mides 1.67 metros.\n"
          ]
        }
      ]
    },
    {
      "cell_type": "code",
      "source": [
        "# Calculadora con operadores\n",
        "#4. Crea un programa que solicite dos valores numéricos al usuario\n",
        "#y luego imprima la suma de ambos valores.\n",
        "numero_1 = input ('Escriba aquí el primer número: ')\n",
        "numero_2 = input ('Escriba aquí el segundo número: ')\n",
        "suma_valores = float(numero_1) + float(numero_2)\n",
        "print(f'La suma total de los valores son: {suma_valores} ' )"
      ],
      "metadata": {
        "colab": {
          "base_uri": "https://localhost:8080/"
        },
        "id": "3U8q8ONU-1yS",
        "outputId": "b75c50c0-a217-4526-b41d-4a7024c31d4f"
      },
      "execution_count": null,
      "outputs": [
        {
          "output_type": "stream",
          "name": "stdout",
          "text": [
            "Escriba aquí el primer número: 23\n",
            "Escriba aquí el segundo número: 34\n",
            "La suma total de los valores son: 57.0 \n"
          ]
        }
      ]
    },
    {
      "cell_type": "code",
      "source": [
        "#5. Crea un programa que solicite tres valores numéricos al usuario\n",
        "# y luego imprima la suma de los tres valores.\n",
        "numero_1 = int(input ('Escriba aquí el primer número: '))\n",
        "numero_2 = input ('Escriba aquí el segundo número: ')\n",
        "numero_3 = input ('Escriba aquí el tercer número: ')\n",
        "suma_valores_1 = float(numero_1) + float(numero_2) + float(numero_3)\n",
        "print(f'La suma total de los valores son: {suma_valores_1}')"
      ],
      "metadata": {
        "colab": {
          "base_uri": "https://localhost:8080/"
        },
        "id": "Ldp4y17k_9dB",
        "outputId": "69a80743-f668-4ee0-a073-fcd29d4acfda"
      },
      "execution_count": null,
      "outputs": [
        {
          "output_type": "stream",
          "name": "stdout",
          "text": [
            "Escriba aquí el primer número: 345\n",
            "Escriba aquí el segundo número: 566\n",
            "Escriba aquí el tercer número: 566\n",
            "La suma total de los valores son: 1477.0 \n"
          ]
        }
      ]
    },
    {
      "cell_type": "code",
      "source": [
        "#6. Crea un programa que solicite dos valores numéricos al usuario\n",
        "# y luego imprima la resta del primero menos el segundo valor.\n",
        "numero_1 = input ('Escriba aquí el primer número: ')\n",
        "numero_2 = input ('Escriba aquí el segundo número: ')\n",
        "resta_valores = float(numero_1) - float(numero_2)\n",
        "print(f'La resta total de los valores son: {resta_valores}')"
      ],
      "metadata": {
        "colab": {
          "base_uri": "https://localhost:8080/"
        },
        "id": "2bE-FlJfAP4M",
        "outputId": "8c081243-8e3f-4678-cf89-f2c634d4c850"
      },
      "execution_count": null,
      "outputs": [
        {
          "output_type": "stream",
          "name": "stdout",
          "text": [
            "Escriba aquí el primer número: 234\n",
            "Escriba aquí el segundo número: 654\n",
            "La resta total de los valores son: -420.0 \n"
          ]
        }
      ]
    },
    {
      "cell_type": "code",
      "source": [
        "#7. Crea un programa que solicite dos valores numéricos al usuario\n",
        "#y luego imprima la multiplicación de los dos valores.\n",
        "numero_1_mult = input ('Escriba aquí el primer número: ')\n",
        "numero_2_mult = input ('Escriba aquí el segundo número: ')\n",
        "mult_valores = float(numero_1_mult) * float(numero_2_mult)\n",
        "print(f'La multiplicación total de los valores son: {mult_valores}')"
      ],
      "metadata": {
        "colab": {
          "base_uri": "https://localhost:8080/"
        },
        "id": "Vdjzc-yIAvIV",
        "outputId": "be199555-7443-426f-9cd7-e9f6435bee7f"
      },
      "execution_count": null,
      "outputs": [
        {
          "output_type": "stream",
          "name": "stdout",
          "text": [
            "Escriba aquí el primer número: 10\n",
            "Escriba aquí el segundo número: 1\n",
            "La multiplicación total de los valores son: 10.0\n"
          ]
        }
      ]
    },
    {
      "cell_type": "code",
      "source": [
        "# 8. Crea un programa que solicite dos valores numéricos, un numerador y un denominador,\n",
        "# y realice la división entre los dos valores. Asegúrate de que el valor del denominador no sea igual a 0.\n",
        "numero_num = input ('Escriba aquí el numerador: ')\n",
        "numero_den = input ('Escriba aquí el denominador: ')\n",
        "div_valores = float(numero_num) / float(numero_den)\n",
        "print(f'La divición total de los valores son: {div_valores}')\n"
      ],
      "metadata": {
        "colab": {
          "base_uri": "https://localhost:8080/"
        },
        "id": "Ad7mFPNIB8wK",
        "outputId": "14105d5f-6586-475d-dd2d-d5578346eb67"
      },
      "execution_count": null,
      "outputs": [
        {
          "output_type": "stream",
          "name": "stdout",
          "text": [
            "Escriba aquí el numerador: 23\n",
            "Escriba aquí el denominador: 12\n",
            "La divición total de los valores son: 1.9166666666666667\n"
          ]
        }
      ]
    },
    {
      "cell_type": "code",
      "source": [
        "#9. Crea un programa que solicite dos valores numéricos, un operador y una potencia,\n",
        "# y realice la exponenciación entre estos dos valores.\n",
        "numero_operador = input ('Escriba aquí el operador o base: ')\n",
        "numero_potencia = input ('Escriba aquí el potencia: ')\n",
        "potencia_valores = float(numero_operador) ** float(numero_potencia)\n",
        "print(f'El resultado es: {potencia_valores}')"
      ],
      "metadata": {
        "colab": {
          "base_uri": "https://localhost:8080/"
        },
        "id": "QciwosbOCeZE",
        "outputId": "e833df0e-3b49-4f1b-e950-2543c311e30a"
      },
      "execution_count": null,
      "outputs": [
        {
          "output_type": "stream",
          "name": "stdout",
          "text": [
            "Escriba aquí el operador o base: 2\n",
            "Escriba aquí el potencia: 5\n",
            "El resultado es: 32.0\n"
          ]
        }
      ]
    },
    {
      "cell_type": "code",
      "source": [
        "# 10. Crea un programa que solicite dos valores numéricos, un numerador y un denominador,\n",
        "# y realice la división entera entre los dos valores.\n",
        "#Asegúrate de que el valor del denominador no sea igual a 0.\n",
        "numero_num = input ('Escriba aquí el numerador: ')\n",
        "numero_den = input ('Escriba aquí el denominador: ')\n",
        "div_entera = float(numero_num) // float(numero_den)\n",
        "print(f'La división entera es: {div_entera}')"
      ],
      "metadata": {
        "colab": {
          "base_uri": "https://localhost:8080/"
        },
        "id": "00IeeAM0DDWS",
        "outputId": "6b5e8dfe-5f6b-4b50-c992-d1357f8b6f94"
      },
      "execution_count": null,
      "outputs": [
        {
          "output_type": "stream",
          "name": "stdout",
          "text": [
            "Escriba aquí el numerador: 23\n",
            "Escriba aquí el denominador: 12\n",
            "La división entera es: 1.0\n"
          ]
        }
      ]
    },
    {
      "cell_type": "code",
      "source": [
        "# 11. Crea un programa que solicite dos valores numéricos, un numerador y un denominador,\n",
        "# y devuelva el resto de la división entre los dos valores.\n",
        "# Asegúrate de que el valor del denominador no sea igual a 0.\n",
        "numero_num = input ('Escriba aquí el numerador: ')\n",
        "numero_den = input ('Escriba aquí el denominador: ')\n",
        "residuo_div = float(numero_num) % float(numero_den)\n",
        "print(f'El residuo de la división es: {residuo_div }')"
      ],
      "metadata": {
        "colab": {
          "base_uri": "https://localhost:8080/"
        },
        "id": "YLsfB3RVDwXN",
        "outputId": "19f057a9-ddd0-4d10-a336-52f72a0a1e01"
      },
      "execution_count": null,
      "outputs": [
        {
          "output_type": "stream",
          "name": "stdout",
          "text": [
            "Escriba aquí el numerador: 156\n",
            "Escriba aquí el denominador: 23\n",
            "El residuo de la división es: 18.0\n"
          ]
        }
      ]
    },
    {
      "cell_type": "code",
      "source": [
        "# 12.Crea un código que solicite las 3 notas de un estudiante e imprima el promedio de las notas.\n",
        "nota_est_1 = input ('Escriba aquí la nota del primer estudiante: ')\n",
        "nota_est_2 = input ('Escriba aquí la nota del segundo estudiante: ')\n",
        "nota_est_3 = input ('Escriba aquí la nota del tercer estudiante: ')\n",
        "promedio_num = (float(nota_est_1) + float(nota_est_2) + float(nota_est_3))/3\n",
        "print(f'El promedio de los valores son: {promedio_num}')\n"
      ],
      "metadata": {
        "colab": {
          "base_uri": "https://localhost:8080/"
        },
        "id": "HBKirJQ2ENLM",
        "outputId": "25e71555-a8dc-4412-eafa-08dacfaff539"
      },
      "execution_count": null,
      "outputs": [
        {
          "output_type": "stream",
          "name": "stdout",
          "text": [
            "Escriba aquí la nota del primer estudiante: 3.2\n",
            "Escriba aquí la nota del segundo estudiante: 4.5\n",
            "Escriba aquí la nota del tercer estudiante: 2.5\n",
            "El promedio de los valores son: 3.4\n"
          ]
        }
      ]
    },
    {
      "cell_type": "code",
      "source": [
        "#13. Crea un código que calcule e imprima el promedio ponderado de los números 5, 12, 20 y 15\n",
        "# con pesos respectivamente iguales a 1, 2, 3 y 4.\n",
        "num_1 =  5\n",
        "num_2 = 12\n",
        "num_3 = 20\n",
        "num_4 = 15\n",
        "peso_1 = 1\n",
        "peso_2 = 2\n",
        "peso_3 = 3\n",
        "peso_4 = 4\n",
        "promedio_pond = (num_1 * peso_1 +\n",
        "                 num_2 * peso_2 +\n",
        "                 num_3 * peso_3 +\n",
        "                 num_4 * peso_4) / (peso_1 + peso_2 + peso_3 + peso_4)\n",
        "\n",
        "print(f'El promedio ponderado de los valores son: {promedio_pond}')\n",
        "\n",
        "# Promedio ponderado = (valor1 * peso1 + valor2 * peso2 + ... + valorN * pesoN) / (peso1 + peso2 + ... + pesoN).\n",
        "# Donde valor1, valor2 hasta valorN son los valores individuales,\n",
        "#peso1, peso2 hasta pesoN son los pesos correspondientes y N es el número de valores y pesos"
      ],
      "metadata": {
        "colab": {
          "base_uri": "https://localhost:8080/"
        },
        "id": "2ZXWUlEgE7td",
        "outputId": "b6dc21d6-9afd-43b7-be9f-2f3aeb882b86"
      },
      "execution_count": null,
      "outputs": [
        {
          "output_type": "stream",
          "name": "stdout",
          "text": [
            "El promedio ponderado de los valores son: 14.9\n"
          ]
        }
      ]
    },
    {
      "cell_type": "code",
      "source": [
        "# Editando textos\n",
        "# 14. Crea una variable llamada \"frase\" y asígnale una cadena de texto de tu elección. Luego, imprime la frase en pantalla.\n",
        "\n",
        "frase = 'Si te caes, levántate y sigue adelante, siempre hay una nueva oportunidad'\n",
        "print(frase)"
      ],
      "metadata": {
        "colab": {
          "base_uri": "https://localhost:8080/"
        },
        "id": "97GFb7gAF4hq",
        "outputId": "6a86ee1d-dc94-4a16-dcd5-075781a36871"
      },
      "execution_count": null,
      "outputs": [
        {
          "output_type": "stream",
          "name": "stdout",
          "text": [
            "Si te caes, levántate y sigue adelante, siempre hay una nueva oportunidad\n"
          ]
        }
      ]
    },
    {
      "cell_type": "code",
      "source": [
        "#15. Crea un código que solicite una frase y luego imprima la frase en pantalla.\n",
        "\n",
        "frase_usuario = input (' Escriba aquí una frase: ')\n",
        "\n",
        "print (frase_usuario)"
      ],
      "metadata": {
        "colab": {
          "base_uri": "https://localhost:8080/"
        },
        "id": "ZXshTTW4GrFH",
        "outputId": "7d475337-f420-445e-d74e-636cd5b0bd68"
      },
      "execution_count": null,
      "outputs": [
        {
          "output_type": "stream",
          "name": "stdout",
          "text": [
            " Escriba aquí una frase: Siempre que dudes, apaga el ruido y escucha tu corazón\n",
            "Siempre que dudes, apaga el ruido y escucha tu corazón\n"
          ]
        }
      ]
    },
    {
      "cell_type": "code",
      "source": [
        "# 16. Crea un código que solicite una frase al usuario y luego imprima la misma frase ingresada pero en mayúsculas.\n",
        "frase_usuario_mayuscula = input (' Escriba aquí una frase: ')\n",
        "\n",
        "print (frase_usuario_mayuscula.upper())\n",
        "\n"
      ],
      "metadata": {
        "colab": {
          "base_uri": "https://localhost:8080/"
        },
        "id": "s0pdSTnhHVmR",
        "outputId": "844229f6-1afe-4973-a1fc-025cf88cd83f"
      },
      "execution_count": null,
      "outputs": [
        {
          "output_type": "stream",
          "name": "stdout",
          "text": [
            " Escriba aquí una frase: La mejor manera de predecir tu futuro es crearlo\n",
            "LA MEJOR MANERA DE PREDECIR TU FUTURO ES CREARLO\n"
          ]
        }
      ]
    },
    {
      "cell_type": "code",
      "source": [
        "# 17. Crea un código que solicite una frase al usuario y luego imprima la misma frase ingresada pero en minúsculas.\n",
        "frase_usuario_min = input (' Escriba aquí una frase: ')\n",
        "\n",
        "print (frase_usuario_min.lower())"
      ],
      "metadata": {
        "colab": {
          "base_uri": "https://localhost:8080/"
        },
        "id": "EP40E-N0IKLA",
        "outputId": "f028ee13-2bec-4b6a-fc93-6d10ea999650"
      },
      "execution_count": null,
      "outputs": [
        {
          "output_type": "stream",
          "name": "stdout",
          "text": [
            " Escriba aquí una frase: El éxito es la suma de pequeños esfuerzos repetidos día tras día\n",
            "el éxito es la suma de pequeños esfuerzos repetidos día tras día\n"
          ]
        }
      ]
    },
    {
      "cell_type": "code",
      "source": [
        "# 18. Crea una variable llamada \"frase\" y asígnale una cadena de texto de tu elección.\n",
        "# Luego, imprime la frase sin espacios en blanco al principio y al final.\n",
        "\n",
        "frase_1 ='    Si te caes, levántate y sigue adelante, siempre hay una nueva oportunidad    '\n",
        "print(frase_1.strip())"
      ],
      "metadata": {
        "colab": {
          "base_uri": "https://localhost:8080/"
        },
        "id": "ya0J6xQPIeK9",
        "outputId": "524b06d2-1d70-4da1-8147-c370c4d840bd"
      },
      "execution_count": null,
      "outputs": [
        {
          "output_type": "stream",
          "name": "stdout",
          "text": [
            "Si te caes, levántate y sigue adelante, siempre hay una nueva oportunidad\n"
          ]
        }
      ]
    },
    {
      "cell_type": "code",
      "source": [
        "# 19.  Crea un código que solicite una frase al usuario\n",
        "# y luego imprima la misma frase sin espacios en blanco al principio y al final.\n",
        "\n",
        "frase_usuario_no_space = input (' Escriba aquí una frase: ')\n",
        "\n",
        "print (frase_usuario_no_space.strip())"
      ],
      "metadata": {
        "colab": {
          "base_uri": "https://localhost:8080/"
        },
        "id": "TGq8Cu4wI-_E",
        "outputId": "80ba03b7-c311-4f51-b8bc-8fd7d9a8b593"
      },
      "execution_count": null,
      "outputs": [
        {
          "output_type": "stream",
          "name": "stdout",
          "text": [
            " Escriba aquí una frase: No dejes que nadie apague tu chispa de curiosidad\n",
            "No dejes que nadie apague tu chispa de curiosidad\n"
          ]
        }
      ]
    },
    {
      "cell_type": "code",
      "source": [
        "# 20. Crea un código que solicite una frase al usuario\n",
        "# y luego imprima la misma frase sin espacios en blanco al principio y al final, además de convertirla a minúsculas.\n",
        "frase_usuario_no_space = input (' Escriba aquí una frase: ')\n",
        "\n",
        "print (frase_usuario_no_space.lower().strip())"
      ],
      "metadata": {
        "colab": {
          "base_uri": "https://localhost:8080/"
        },
        "id": "mjYevgWkKdHZ",
        "outputId": "e30996d0-240f-464e-88cd-cb9f70959db6"
      },
      "execution_count": null,
      "outputs": [
        {
          "output_type": "stream",
          "name": "stdout",
          "text": [
            " Escriba aquí una frase: El único modo de hacer un gran trabajo es amar lo que haces\n",
            "el único modo de hacer un gran trabajo es amar lo que haces\n"
          ]
        }
      ]
    },
    {
      "cell_type": "code",
      "source": [
        "# 21. Crea un código que solicite una frase al usuario y luego imprima la misma\n",
        "#frase con todas las vocales \"e\" reemplazadas por la letra \"f\".\n",
        "frase_usuario_vocales = input (' Escriba aquí una frase: ')\n",
        "\n",
        "print (frase_usuario_vocales.replace ('e','f'))"
      ],
      "metadata": {
        "colab": {
          "base_uri": "https://localhost:8080/"
        },
        "id": "S9cMjwi7K4vQ",
        "outputId": "a93f690c-6c36-4b36-98e5-4a23ebbe6a64"
      },
      "execution_count": null,
      "outputs": [
        {
          "output_type": "stream",
          "name": "stdout",
          "text": [
            " Escriba aquí una frase: Cree en ti mismo, el mundo necesita tu luz\n",
            "Crff fn ti mismo, fl mundo nfcfsita tu luz\n"
          ]
        }
      ]
    },
    {
      "cell_type": "code",
      "source": [
        "# 22. Crea un código que solicite una frase al usuario y luego imprima la misma\n",
        "# frase con todas las vocales \"a\" reemplazadas por el carácter \"@\".\n",
        "frase_usuario_vocales_1 = input (' Escriba aquí una frase: ')\n",
        "\n",
        "print (frase_usuario_vocales_1.replace ('a','@'))"
      ],
      "metadata": {
        "colab": {
          "base_uri": "https://localhost:8080/"
        },
        "id": "4Nuc28RwLVBT",
        "outputId": "55a3ad2e-bb79-4545-fca3-37b3ff25929b"
      },
      "execution_count": null,
      "outputs": [
        {
          "output_type": "stream",
          "name": "stdout",
          "text": [
            " Escriba aquí una frase: No cuentes los días, haz que los días cuenten\n",
            "No cuentes los dí@s, h@z que los dí@s cuenten\n"
          ]
        }
      ]
    },
    {
      "cell_type": "code",
      "source": [
        "# 22a. Crea un código que solicite una frase al usuario y luego imprima la misma\n",
        "# frase con todas las vocales \"a\" reemplazadas por el carácter \"@\".\n",
        "frase_usuario_vocales_1 = input (' Escriba aquí una frase: ')\n",
        "\n",
        "print (frase_usuario_vocales_1.replace ('a',chr(64)))"
      ],
      "metadata": {
        "colab": {
          "base_uri": "https://localhost:8080/"
        },
        "id": "oIIb9ODML1Xn",
        "outputId": "b29f143d-219e-408b-b4f9-ccb313364315"
      },
      "execution_count": null,
      "outputs": [
        {
          "output_type": "stream",
          "name": "stdout",
          "text": [
            " Escriba aquí una frase: No cuentes los días, haz que los días cuenten\n",
            "No cuentes los dí@s, h@z que los dí@s cuenten\n"
          ]
        }
      ]
    },
    {
      "cell_type": "code",
      "source": [
        "# 23. Crea un código que solicite una frase al usuario\n",
        "# y luego imprima la misma frase con todas las consonantes \"s\" reemplazadas por el carácter \"$\".\n",
        "frase_usuario_vocales_2 = input (' Escriba aquí una frase: ')\n",
        "\n",
        "print (frase_usuario_vocales_2.replace ('s','$'))"
      ],
      "metadata": {
        "colab": {
          "base_uri": "https://localhost:8080/"
        },
        "id": "UjpLV7QXMIkr",
        "outputId": "089387cb-c586-4142-d837-711381cec67d"
      },
      "execution_count": null,
      "outputs": [
        {
          "output_type": "stream",
          "name": "stdout",
          "text": [
            " Escriba aquí una frase: No es lo que tienes, sino cómo usas lo que tienes lo que marca la diferencia\n",
            "No e$ lo que tiene$, $ino cómo u$a$ lo que tiene$ lo que marca la diferencia\n"
          ]
        }
      ]
    },
    {
      "cell_type": "code",
      "source": [
        "# 23. Crea un código que solicite una frase al usuario\n",
        "# y luego imprima la misma frase con todas las consonantes \"s\" reemplazadas por el carácter \"$\".\n",
        "frase_usuario_vocales_2 = input (' Escriba aquí una frase: ')\n",
        "\n",
        "print (frase_usuario_vocales_2.replace ('s',chr(36)))"
      ],
      "metadata": {
        "colab": {
          "base_uri": "https://localhost:8080/"
        },
        "id": "TFCiK2GfMYhR",
        "outputId": "eb6988ff-3629-4289-a57e-1e1393f19814"
      },
      "execution_count": null,
      "outputs": [
        {
          "output_type": "stream",
          "name": "stdout",
          "text": [
            " Escriba aquí una frase: No es lo que tienes, sino cómo usas lo que tienes lo que marca la diferencia\n",
            "No e$ lo que tiene$, $ino cómo u$a$ lo que tiene$ lo que marca la diferencia\n"
          ]
        }
      ]
    },
    {
      "cell_type": "markdown",
      "source": [
        "# Estructuras condicionales"
      ],
      "metadata": {
        "id": "NwRaiHHHhhyl"
      }
    },
    {
      "cell_type": "code",
      "source": [
        "# Nota de aprobación entre 7 y 10 == nota de aprobación >=7\n",
        "# Nota de desaprobación entre 7 y 10 == nota de aprobación < 7\n",
        "\"\"\"\n",
        "Si la nota de es mayor o igual a 7 el estudiante aprueba\n",
        "Si la nota de es menor a 7 el estudiante desaprueba\n",
        "\"\"\"\n"
      ],
      "metadata": {
        "id": "pa4gLncu-mvU",
        "colab": {
          "base_uri": "https://localhost:8080/",
          "height": 35
        },
        "outputId": "a10179d0-9781-43ef-9832-93f6256380b9"
      },
      "execution_count": null,
      "outputs": [
        {
          "output_type": "execute_result",
          "data": {
            "text/plain": [
              "'\\nSi la nota de es mayor o igual a 7 el estudiante aprueba\\nSi la nota de es menor a 7 el estudiante desaprueba\\n'"
            ],
            "application/vnd.google.colaboratory.intrinsic+json": {
              "type": "string"
            }
          },
          "metadata": {},
          "execution_count": 1
        }
      ]
    },
    {
      "cell_type": "markdown",
      "source": [
        "## `IF` y `ELSE`\n",
        "\n",
        "Los comandos `if` y `else` son dos estructuras condicionales. El comando `if` ejecutará el bloque de comandos en caso de que la condición citada sea  **verdadera**. El comando `else` ejecutará el bloque de comandos en el caso de que la condicional de `if` sea **falsa**."
      ],
      "metadata": {
        "id": "qXZqg9aYEhAh"
      }
    },
    {
      "cell_type": "markdown",
      "source": [
        "El comando `if` es una palabra clave en Python que significa \"si\". Este se emplea para conformar la estructura condicional, que te permite verificar si una determinada condición es verdadera o falsa e, inmediatamente después, ejecute un bloque de código específico dependiendo del resultado de la verificación. La sintaxis para usar el comando `if` es:\n",
        "\n",
        "\n",
        "\n",
        "```\n",
        "if condicion:\n",
        "    # Realiza algo\n",
        "```\n",
        "\n"
      ],
      "metadata": {
        "id": "EIhlqHXd2Gil"
      }
    },
    {
      "cell_type": "code",
      "source": [
        "if 2 < 7:\n",
        "  print ('La condición es verdadera.')\n"
      ],
      "metadata": {
        "id": "S2S6XAFz-czM",
        "colab": {
          "base_uri": "https://localhost:8080/"
        },
        "outputId": "958f39a7-6719-4262-cec3-2ef6302916a6"
      },
      "execution_count": null,
      "outputs": [
        {
          "output_type": "stream",
          "name": "stdout",
          "text": [
            "La condición es verdadera.\n"
          ]
        }
      ]
    },
    {
      "cell_type": "code",
      "source": [
        "if 2 > 7:\n",
        "  print ('La condición es verdadera.')\n",
        "print('Fin de la consulta.')"
      ],
      "metadata": {
        "id": "YHkwMMyY-c1r",
        "colab": {
          "base_uri": "https://localhost:8080/"
        },
        "outputId": "f0c12194-4ea5-41d8-c117-d66980629375"
      },
      "execution_count": null,
      "outputs": [
        {
          "output_type": "stream",
          "name": "stdout",
          "text": [
            "Fin de la consulta.\n"
          ]
        }
      ]
    },
    {
      "cell_type": "markdown",
      "source": [
        "Ya el comando `else` en Python se usa en junción con la palabra clave `if` para formar una estructura condicional. la sintaxis para usar el `else` es:\n",
        "\n",
        "```\n",
        "if condicion:\n",
        "  # codigo en caso de que sea verdad\n",
        "else:\n",
        "  # codigo en caso de que sea falso\n",
        "```\n",
        "\n",
        "el comando `else` se ejecuta cuando la condición verificada por el `if` es evaluada como `False`."
      ],
      "metadata": {
        "id": "27RW2v_sIKct"
      }
    },
    {
      "cell_type": "code",
      "source": [
        "if 2 < 7:\n",
        "  print ('La condición es verdadera.')\n",
        "else:\n",
        "  print ('La condición es falsa.')\n",
        "\n",
        "print('Fin de la consulta.')"
      ],
      "metadata": {
        "id": "ZTfNJd_f-aOq",
        "colab": {
          "base_uri": "https://localhost:8080/"
        },
        "outputId": "b8a4332c-60ed-4702-896c-b2a6c98824cd"
      },
      "execution_count": null,
      "outputs": [
        {
          "output_type": "stream",
          "name": "stdout",
          "text": [
            "La condición es verdadera.\n",
            "Fin de la consulta.\n"
          ]
        }
      ]
    },
    {
      "cell_type": "markdown",
      "source": [
        "---\n",
        "**Situación:**\n",
        "\n",
        "Recibiremos el promedio de la nota de los estudiantes y necesitamos de un algoritmo que ejecute el análisis y determine si el estudiante fue **Aprobado** o **Reprobado**, mostrando un mensaje del resultado. Para ser aprobado, el promedio necesita ser igual o superior a 7.0."
      ],
      "metadata": {
        "id": "BqORg85XX-Nl"
      }
    },
    {
      "cell_type": "code",
      "source": [
        "nota = float(input('Digita aquí la nota: '))\n",
        "\n",
        "if nota >= 7:\n",
        "  print('Aprobó')\n",
        "else:\n",
        "  print('Reprobó')\n",
        "\n",
        "print('Fin de la consulta.')"
      ],
      "metadata": {
        "id": "UukCN4AQ-YYW",
        "colab": {
          "base_uri": "https://localhost:8080/"
        },
        "outputId": "717667e3-429c-4892-db46-33baf821ae3c"
      },
      "execution_count": null,
      "outputs": [
        {
          "output_type": "stream",
          "name": "stdout",
          "text": [
            "Digita aquí la nota: 4\n",
            "Reprobó\n",
            "Fin de la consulta.\n"
          ]
        }
      ]
    },
    {
      "cell_type": "markdown",
      "source": [
        "Ahora, nuestra institución educativa estableció que las personas que tengan el promedio entre 5.0 y 7.0 pueden participar del curso de **Recuperación** durante las vacaciones para lograr aprobar.\n",
        "\n",
        "Entonces podemos apoyarnos en un conjunto de `if`s para poder estructurar esta nueva condición."
      ],
      "metadata": {
        "id": "bD9O17HB6LUo"
      }
    },
    {
      "cell_type": "code",
      "source": [
        "nota_1 = float(input('Digita aquí la nota: '))\n",
        "\n",
        "if nota_1 >= 7:\n",
        "  print('Aprobó')\n",
        "if 7 > nota_1 >= 5:\n",
        "  print('Recuperación')\n",
        "if nota_1 < 5:\n",
        "  print('Reprobó')\n",
        "\n",
        "print('Fin de la consulta.')"
      ],
      "metadata": {
        "id": "X0o8FW1H-YkA",
        "colab": {
          "base_uri": "https://localhost:8080/"
        },
        "outputId": "498808eb-8081-4048-c905-2b7293f7ed25"
      },
      "execution_count": null,
      "outputs": [
        {
          "output_type": "stream",
          "name": "stdout",
          "text": [
            "Digita aquí la nota: 6\n",
            "Recuperación\n",
            "Fin de la consulta.\n"
          ]
        }
      ]
    },
    {
      "cell_type": "markdown",
      "source": [
        "Observa que en casos con 3 situaciones como este necesitamos definir bien nuestras condiciones. Pues, si realizamos una condición con `else` al final, este irá a considerar solamente la condición `if` inmediatamente anterior para generar la salida en caso de que el resultado de su operación lógica sea **falso** dando como resultado, dos o más ejecuciones.\n",
        "\n",
        "Por ejemplo:"
      ],
      "metadata": {
        "id": "D5e2mByjvycO"
      }
    },
    {
      "cell_type": "code",
      "source": [
        "nota_2 = float(input('Digita aquí la nota: '))\n",
        "\n",
        "if nota_2 >= 7:\n",
        "  print('Aprobó')\n",
        "if 7 > nota_2 >= 5:\n",
        "  print('Recuperación')\n",
        "else:\n",
        "  print('Reprobó')\n",
        "\n",
        "print('Fin de la consulta.')"
      ],
      "metadata": {
        "colab": {
          "base_uri": "https://localhost:8080/"
        },
        "id": "v-gIxGjq6Bo3",
        "outputId": "e37e9863-87a5-4706-abdd-93d2ae9c0a94"
      },
      "execution_count": null,
      "outputs": [
        {
          "output_type": "stream",
          "name": "stdout",
          "text": [
            "Digita aquí la nota: 8\n",
            "Aprobó\n",
            "Reprobó\n",
            "Fin de la consulta.\n"
          ]
        }
      ]
    },
    {
      "cell_type": "markdown",
      "source": [
        "## `ELIF`\n",
        "\n",
        "El comando `elif` es una palabra clave en Python que significa \"si no, si\" y lo podemos considerar una *contracción* entre `else` e `if`. Se utiliza en conjunto con la palabra clave `if` para formar una estructura condicional en cadena."
      ],
      "metadata": {
        "id": "04T5g-7h4zWx"
      }
    },
    {
      "cell_type": "markdown",
      "source": [
        "la sintaxis para utilizar el comando `elif` es:\n",
        "\n",
        "```\n",
        "if condicion1:\n",
        "    # Realiza algo\n",
        "elif condicion2:\n",
        "    # Realiza otra cosa\n",
        "elif condicion3:\n",
        "    # Realiza otra cosa\n",
        "else:\n",
        "    # Realiza algo diferente\n",
        "```\n",
        "\n",
        "El comando `elif` permite que puedas verificar varias condiciones en cadena, economizando espacio en tu código. Si la primera condición se evalúa como `False`, el interpretador de Python evaluará la próxima condición con el `elif`. Ello continuará hasta que una condición sea evaluada como `True` o hasta que el `else` sea alcazado. Si ninguna de las condiciones es evaluada como `True`, la ejecución del código del comando `else` será iniciada."
      ],
      "metadata": {
        "id": "rNBHr5mm1Lm6"
      }
    },
    {
      "cell_type": "markdown",
      "source": [
        "Vamos a emplear el mismo caso anterior:"
      ],
      "metadata": {
        "id": "MVoykFbB4bd4"
      }
    },
    {
      "cell_type": "code",
      "source": [
        "nota_2 = float(input('Digita aquí la nota: '))\n",
        "\n",
        "if nota_2 >= 7:\n",
        "  print('Aprobó')\n",
        "elif 7 > nota_2 >= 5:  # elif\n",
        "  print('Recuperación')\n",
        "else:\n",
        "  print('Reprobó')\n",
        "\n",
        "print('Fin de la consulta.')"
      ],
      "metadata": {
        "id": "QFamB78s-TW_",
        "colab": {
          "base_uri": "https://localhost:8080/"
        },
        "outputId": "56e721e9-e8bf-43ab-81e7-027ea95d9be2"
      },
      "execution_count": null,
      "outputs": [
        {
          "output_type": "stream",
          "name": "stdout",
          "text": [
            "Digita aquí la nota: 8\n",
            "Aprobó\n",
            "Fin de la consulta.\n"
          ]
        }
      ]
    },
    {
      "cell_type": "markdown",
      "source": [
        "## Operadores\n",
        "\n",
        "Durante la construcción de comandos a veces necesitamos de una elaboración mayor de la expresión condicional, necesitando que algunos operadores lógicos se encuentren integrados."
      ],
      "metadata": {
        "id": "Tf1wSOem6iwZ"
      }
    },
    {
      "cell_type": "markdown",
      "source": [
        "### `AND`, `OR`, `NOT`\n",
        "\n",
        "Los operadores lógicos `and`, `or` y `not` son usados para combinar expresiones lógicas en Python. Ellos son usados frecuentemente en conjunto con el comando `if` para crear estructuras condicionales más complejas.\n"
      ],
      "metadata": {
        "id": "GFIZnRWXGPWO"
      }
    },
    {
      "cell_type": "markdown",
      "source": [
        "- `AND` es usado para verificar si dos condiciones son verdaderas. La expresión lógica¹ `x and y` se evalúa como `True` tan solo si **ambas condiciones `x` y `y` son verdaderas**, y como `False` en caso contrario.\n",
        "\n",
        "- `OR` es usado para verificar si al menos una de las condiciones es verdadera. La expresión lógica `x or y` se evalúa como `True` **si al menos una de las condiciones `x` o `y` es verdadera**, y como `False` si ambas condiciones son falsas.\n",
        "\n",
        "- `NOT` es usado para **negar una condición**. La expresión lógica `not x` es evaluada como `True` si la condición x es falsa, y como `False` si la condición x es verdadera.\n",
        "\n",
        "¹ Una expresión lógica es una declaración que puede ser evaluada como verdadera o falsa. Ella se compone por operandos lógicos² y por operadores lógicos³, que son usados ​​para combinar varias expresiones lógicas en una única expresión.\n",
        "\n",
        "² Los operandos lógicos son los elementos que son comparados o evaluados en una expresión lógica. Ellos son generalmente valores verdaderos o falsos, pero también pueden ser expresiones lógicas más complejas. En Python, los operandos lógicos son los valores `True` y `False`.\n",
        "\n",
        "³ Los operadores lógicos son ls símbolos o palabras clave que son usados ​​para combinar varias expresiones lógicas en una única expresión. En Python, los operadores lógicos son `and`, `or` y `not`, bien como las palabras clave `if`, `elif` e `else`."
      ],
      "metadata": {
        "id": "Z_dgAoHXJbzB"
      }
    },
    {
      "cell_type": "markdown",
      "source": [
        "> Operadores lógicos más comunes\n",
        "\n",
        "|a|b|AND|OR|NOT|\n",
        "|-|-|-|-|-|\n",
        "|0|0|0|0|1\n",
        "|0|1|0|1|-\n",
        "|1|0|0|1|-\n",
        "|1|1|1|1|0\n"
      ],
      "metadata": {
        "id": "2E5aUogf-49u"
      }
    },
    {
      "cell_type": "code",
      "source": [
        "v = True\n",
        "f = False"
      ],
      "metadata": {
        "id": "DFKmpvmS-Pa6"
      },
      "execution_count": null,
      "outputs": []
    },
    {
      "cell_type": "code",
      "source": [
        "# Tabla de la verdad con operador AND\n",
        "if v and f:\n",
        "  print('La condición es verdadera')\n",
        "else:\n",
        "  print('La condición es falsa')"
      ],
      "metadata": {
        "id": "W5BIrpOD-PeI",
        "colab": {
          "base_uri": "https://localhost:8080/"
        },
        "outputId": "51e46d65-6dc6-4db0-9f4c-db76e951d16d"
      },
      "execution_count": null,
      "outputs": [
        {
          "output_type": "stream",
          "name": "stdout",
          "text": [
            "La condición es falsa\n"
          ]
        }
      ]
    },
    {
      "cell_type": "code",
      "source": [
        "# Tabla de la verdad con operador OR\n",
        "if v or v:\n",
        "  print('La condición es verdadera')\n",
        "else:\n",
        "  print('La condición es falsa')"
      ],
      "metadata": {
        "id": "fpDhYxq4-PiM",
        "colab": {
          "base_uri": "https://localhost:8080/"
        },
        "outputId": "d6ade5cf-1beb-411c-e3bc-ae2cb3ccd880"
      },
      "execution_count": null,
      "outputs": [
        {
          "output_type": "stream",
          "name": "stdout",
          "text": [
            "La condición es verdadera\n"
          ]
        }
      ]
    },
    {
      "cell_type": "code",
      "source": [
        "# Tabla de la verdad con operador NOT\n",
        "if not v:\n",
        "  print('La condición es verdadera')\n",
        "else:\n",
        "  print('La condición es falsa')"
      ],
      "metadata": {
        "colab": {
          "base_uri": "https://localhost:8080/"
        },
        "id": "uaIsGbfiHwQp",
        "outputId": "8484a26c-48ce-4b6e-99c7-64632b98d757"
      },
      "execution_count": null,
      "outputs": [
        {
          "output_type": "execute_result",
          "data": {
            "text/plain": [
              "True"
            ]
          },
          "metadata": {},
          "execution_count": 45
        }
      ]
    },
    {
      "cell_type": "markdown",
      "source": [
        "### `IN`\n",
        "\n",
        "Es usado para verificar si un elemento está presente en una lista, tupla u otra colección de conjunto. La expresión `x in y` se evalúa como `True` si el elemento `x` esta presente en la variable de conjunto `y`, y como `False` en caso contrario."
      ],
      "metadata": {
        "id": "w7EXG1dhWtja"
      }
    },
    {
      "cell_type": "markdown",
      "source": [
        "Podemos verificarlo con variables de texto.\n",
        "\n",
        "---\n",
        "\n",
        "**Situación:**\n",
        "\n",
        "En la escuela nos entregaron una lista con nombres de estudiantes que fueron aprobados según el promedio del semestre, pero es necesario verificar si algunos nombres están en esa lista para confirmar que los datos estén correctos.\n",
        "\n",
        "La lista distribuida puede ser observada a continuación:\n",
        "\n",
        "```\n",
        "lista = 'Juan Pérez, María González, Pedro Rodríguez, Ana López, Carlos Martínez,\n",
        "    Laura Sánchez, José García, Elena Fernández, Luis Morales, Carmen Torres,\n",
        "    David Ruiz, Isabel Ramírez, Javier Díaz, Sara Herrera, Miguel Castro,\n",
        "    Patricia Ortega, Francisco Vargas, Marta Jiménez, Manuel Medina, Rosa Molina,\n",
        "    Alejandro Silva, Silvia Ruiz, Andrés Torres, Natalia Soto, Diego Guerrero,\n",
        "    Paula Ríos, Ricardo Navarro, Alicia Cordero, Carlos Vidal, Lorena Gómez'\n",
        "```\n",
        "\n",
        "Los nombres que necesitas verificar son los siguientes:\n",
        "\n",
        "```\n",
        "nombre_1 = 'Miguel Castro'\n",
        "nombre_2 = 'Marcelo Noguera'\n",
        "```"
      ],
      "metadata": {
        "id": "enJNp6JenQbq"
      }
    },
    {
      "cell_type": "code",
      "source": [
        "lista = 'Juan Pérez, María González, Pedro Rodríguez, Ana López, Carlos Martínez, Laura Sánchez, José García, Elena Fernández, Luis Morales, Carmen Torres, David Ruiz, Isabel Ramírez, Javier Díaz, Sara Herrera, Miguel Castro, Patricia Ortega, Francisco Vargas, Marta Jiménez, Manuel Medina, Rosa Molina, Alejandro Silva, Silvia Ruiz, Andrés Torres, Natalia Soto, Diego Guerrero, Paula Ríos, Ricardo Navarro, Alicia Cordero, Carlos Vidal, Lorena Gómez'"
      ],
      "metadata": {
        "id": "gPPN9BCT-Mki"
      },
      "execution_count": null,
      "outputs": []
    },
    {
      "cell_type": "code",
      "source": [
        "nombre_1 = 'Miguel Castro'\n",
        "nombre_2 = 'Marcelo Noguera'"
      ],
      "metadata": {
        "id": "GINbG3Fa-Mnb"
      },
      "execution_count": null,
      "outputs": []
    },
    {
      "cell_type": "code",
      "source": [
        "if nombre_1 in lista:\n",
        "  print (\"El estudiante aprobó.\")\n",
        "else:\n",
        "  print (\"El estudiante no aprobó.\")"
      ],
      "metadata": {
        "id": "hk-RhNRT-Mp7",
        "colab": {
          "base_uri": "https://localhost:8080/"
        },
        "outputId": "639c561a-b5c3-44e0-ca14-cd7a8ec835fd"
      },
      "execution_count": null,
      "outputs": [
        {
          "output_type": "stream",
          "name": "stdout",
          "text": [
            "El estudiante aprobó\n"
          ]
        }
      ]
    },
    {
      "cell_type": "code",
      "source": [
        "if nombre_2 in lista:\n",
        "  print (\"El estudiante aprobó.\")\n",
        "else:\n",
        "  print (\"El estudiante no aprobó.\")"
      ],
      "metadata": {
        "colab": {
          "base_uri": "https://localhost:8080/"
        },
        "id": "p41T8GDnK0FA",
        "outputId": "e8965ad7-2eba-49c0-cbff-cb774b785492"
      },
      "execution_count": null,
      "outputs": [
        {
          "output_type": "stream",
          "name": "stdout",
          "text": [
            "El estudiante no aprobó.\n"
          ]
        }
      ]
    },
    {
      "cell_type": "markdown",
      "source": [
        "# **1.3.12 Desafío: Estructuras Condicionales**"
      ],
      "metadata": {
        "id": "VLdygwHZOxnt"
      }
    },
    {
      "cell_type": "code",
      "source": [
        "# 1 - Escribe un programa que pida a la persona usuaria que proporcione dos números y muestre el número más grande.\n",
        "\n",
        "big_num_1 = float(input('Escribe el primer número, por favor: '))\n",
        "big_num_2 = float(input('Escribe el segundo número, por favor: '))\n",
        "\n",
        "if big_num_1 > big_num_2:\n",
        "  print (f'El número más grande es: {big_num_1}')\n",
        "else:\n",
        "  print (f'El número más grande es: {big_num_2}')\n"
      ],
      "metadata": {
        "colab": {
          "base_uri": "https://localhost:8080/"
        },
        "id": "wgvxiS1RO3uZ",
        "outputId": "ed06be81-32c5-4f45-9fed-cf3d5559cfb8"
      },
      "execution_count": null,
      "outputs": [
        {
          "output_type": "stream",
          "name": "stdout",
          "text": [
            "Escribe el primer número, por favor: 34\n",
            "Escribe el segundo número, por favor: 2\n",
            "El número más grande es: 34.0\n"
          ]
        }
      ]
    },
    {
      "cell_type": "code",
      "source": [
        "# 2 - Escribe un programa que solicite el porcentaje de crecimiento de producción de una empresa\n",
        "# e informe si hubo un crecimiento (porcentaje positivo) o una disminución (porcentaje negativo).\n",
        "\n",
        "porcentaje_crecimiento= float(input('Escribe el porcentaje de crecimiento de producción, por favor: '))\n",
        "\n",
        "\n",
        "if porcentaje_crecimiento > 0 :\n",
        "  print (f'Hubo un crecimiento igual a {porcentaje_crecimiento}')\n",
        "elif porcentaje_crecimiento < 0:\n",
        "  print (f'Hubo un decrecimiento igual a {porcentaje_crecimiento}')\n",
        "else:\n",
        "  print (f'No hubo crecimiento ni decrecimiento')\n"
      ],
      "metadata": {
        "colab": {
          "base_uri": "https://localhost:8080/"
        },
        "id": "8fv2KVGRQDCQ",
        "outputId": "300f0941-e5f1-45a1-e2d8-0dffa95d04c7"
      },
      "execution_count": null,
      "outputs": [
        {
          "output_type": "stream",
          "name": "stdout",
          "text": [
            "Escribe el porcentaje de crecimiento de producción, por favor: 65\n",
            "Hubo un crecimiento igual a 65.0\n"
          ]
        }
      ]
    },
    {
      "cell_type": "code",
      "source": [
        "# 3 - Escribe un programa que determine si una letra proporcionada por la persona usuaria es una vocal o una consonante.\n",
        "\n",
        "letra_usuario= input('Escribe una letra, por favor: ')\n",
        "\n",
        "if letra_usuario =='a':\n",
        "  print (f'Esta letra {letra_usuario} es una vocal')\n",
        "elif letra_usuario =='e':\n",
        "  print (f'Esta letra {letra_usuario} es una vocal')\n",
        "elif letra_usuario =='i':\n",
        "  print (f'Esta letra {letra_usuario} es una vocal')\n",
        "elif letra_usuario =='o':\n",
        "  print (f'Esta letra {letra_usuario} es una vocal')\n",
        "elif letra_usuario =='u':\n",
        "  print (f'Esta letra {letra_usuario} es una vocal')\n",
        "else:\n",
        "  print (f'Esta letra {letra_usuario} es una consonante')"
      ],
      "metadata": {
        "colab": {
          "base_uri": "https://localhost:8080/"
        },
        "id": "ZV0AsOPgRxsQ",
        "outputId": "c280148a-216e-438f-b1c3-de08b9617377"
      },
      "execution_count": null,
      "outputs": [
        {
          "output_type": "stream",
          "name": "stdout",
          "text": [
            "Escribe una letra, por favor: rr\n",
            "Esta letra rr es una consonante\n"
          ]
        }
      ]
    },
    {
      "cell_type": "code",
      "source": [
        "# 4 - Escribe un programa que lea valores promedio de precios de un modelo de automóvil durante 3 años consecutivos\n",
        "# y muestre el valor más alto y más bajo entre esos tres años.\n",
        "\n",
        "precio_ano_1 = float(input('Escribe el precio promedio del automovil para el primer año, por favor: '))\n",
        "precio_ano_2 = float(input('Escribe el precio promedio del automovil para el segundo año, por favor: '))\n",
        "precio_ano_3 = float(input('Escribe el precio promedio del automovil para el tercer año, por favor: '))\n",
        "\n",
        "\n",
        "if precio_ano_1 > precio_ano_2 and precio_ano_1 > precio_ano_3:\n",
        "  print (f'El precio promedio más alto de los ultimos tres años fue igual a {precio_ano_1}')\n",
        "elif precio_ano_2 > precio_ano_1 and precio_ano_2 > precio_ano_3:\n",
        "  print (f'El precio promedio más alto de los ultimos tres años fue igual a {precio_ano_2}')\n",
        "elif precio_ano_3 > precio_ano_1 and precio_ano_3 > precio_ano_2:\n",
        "  print (f'El precio promedio más alto de los ultimos tres años fue igual a {precio_ano_3}')\n",
        "else:\n",
        "  print (f'No hubo precios bajos ni altos')\n",
        "\n",
        "if precio_ano_1 < precio_ano_2 and precio_ano_1 < precio_ano_3:\n",
        "  print (f'El precio promedio más bajo de los ultimos tres años fue igual a {precio_ano_1}')\n",
        "elif precio_ano_2 < precio_ano_1 and precio_ano_2 < precio_ano_3:\n",
        "  print (f'El precio promedio más bajo de los ultimos tres años fue igual a {precio_ano_2}')\n",
        "elif precio_ano_3 < precio_ano_1 and precio_ano_3 < precio_ano_2:\n",
        "  print (f'El precio promedio más bajo de los ultimos tres años fue igual a {precio_ano_3}')\n",
        "else:\n",
        "  print (f'No hubo precios bajos ni altos')\n",
        "\n",
        "\"\"\"\n",
        "mayor_precio=precio_ano_1\n",
        "\n",
        "if precio_ano_2 > mayor_precio:\n",
        "  mayor_precio = precio_ano_2\n",
        "if precio_ano_3 > mayor_precio:\n",
        "  mayor_precio = precio_ano_3\n",
        "\n",
        "menor_precio=precio_ano_1\n",
        "\n",
        "if precio_ano_2 < menor_precio:\n",
        "  menor_precio = precio_ano_2\n",
        "if precio_ano_3 < menor_precio:\n",
        "  menor_precio = precio_ano_3\n",
        "\n",
        "print (f'El precio promedio más alto de los ultimos tres años fue igual a {mayor_precio}')\n",
        "print (f'El precio promedio más bajo de los ultimos tres años fue igual a {menor_precio}')\n",
        "\n",
        "\"\"\""
      ],
      "metadata": {
        "colab": {
          "base_uri": "https://localhost:8080/"
        },
        "id": "7C0CaVKbSqAd",
        "outputId": "58a77cc5-e7cf-4254-838a-0f83456eefa4"
      },
      "execution_count": null,
      "outputs": [
        {
          "output_type": "stream",
          "name": "stdout",
          "text": [
            "Escribe el precio promedio del automovil para el primer año, por favor: 456\n",
            "Escribe el precio promedio del automovil para el segundo año, por favor: 765\n",
            "Escribe el precio promedio del automovil para el tercer año, por favor: 456\n",
            "El precio promedio más alto de los ultimos tres años fue igual a 765.0\n",
            "El precio promedio más bajo de los ultimos tres años fue igual a 456.0\n"
          ]
        }
      ]
    },
    {
      "cell_type": "code",
      "source": [
        "# 5 - Escribe un programa que pregunte sobre el precio de tres productos\n",
        "# e indique cuál es el producto más barato para comprar.\n",
        "\n",
        "precio_producto_1 = float(input('Escribe el precio del primer producto, por favor: '))\n",
        "precio_producto_2 = float(input('Escribe el precio del segundo producto, por favor: '))\n",
        "precio_producto_3 = float(input('Escribe el precio del tercer pproducto, por favor: '))\n",
        "\n",
        "producto_barato=precio_producto_1\n",
        "\n",
        "if precio_producto_2 < producto_barato:\n",
        "  producto_barato = precio_producto_2\n",
        "  print(f'El producto más económico es el producto No. 2')\n",
        "elif precio_producto_3 < producto_barato:\n",
        "  producto_barato = precio_producto_3\n",
        "  print(f'El producto más económico es el producto No. 3')\n",
        "else:\n",
        "  print(f'El producto más económico es el producto No. 1')\n"
      ],
      "metadata": {
        "id": "CZ5DbQaVWMei"
      },
      "execution_count": null,
      "outputs": []
    },
    {
      "cell_type": "code",
      "source": [
        "# 6 - Escribe un programa que lea tres números y los muestre en orden descendente.\n",
        "\n",
        "# Se solicita los tres numeros al usuario\n",
        "numero_1 = float(input('Escriba aqui su primer número, por favor: '))\n",
        "numero_2 = float(input('Escriba aqui su segundo número, por favor: '))\n",
        "numero_3 = float(input('Escriba aqui su tercer número, por favor: '))\n",
        "\n",
        "# se realiza el programa para hacer la comparación de cual número es más grande\n",
        "\n",
        "if numero_1 > numero_2 and numero_1 > numero_3 and numero_2 > numero_3:\n",
        "  print (f'El orden descendente de los número son: {numero_1} , {numero_2} y {numero_3}')\n",
        "elif numero_1 > numero_2 and numero_1 > numero_3 and numero_3 > numero_2:\n",
        "  print (f'El orden descendente de los número son: {numero_1} , {numero_3} y {numero_2}')\n",
        "elif numero_2 > numero_1 and numero_2 > numero_3 and numero_1 > numero_3:\n",
        "  print (f'El orden descendente de los número son: {numero_2} , {numero_1} y {numero_3}')\n",
        "elif numero_2 > numero_1 and numero_2 > numero_3 and numero_3 > numero_1:\n",
        "  print (f'El orden descendente de los número son: {numero_2} , {numero_3} y {numero_1}')\n",
        "elif numero_3 > numero_1 and numero_3 > numero_2 and numero_1 > numero_2 :\n",
        "  print (f'El orden descendente de los número son: {numero_3} , {numero_1} y {numero_2}')\n",
        "elif numero_3 > numero_1 and numero_3 > numero_2 and numero_2 > numero_1 :\n",
        "  print (f'El orden descendente de los número son: {numero_3} , {numero_2} y {numero_1}')\n",
        "else:\n",
        "  print (f'No hay orden descendente')\n",
        "\n",
        "\n",
        "'''\n",
        "# Recolectamos los 3 números\n",
        "num1 = int(input('Ingrese el primer número: '))\n",
        "num2 = int(input('Ingrese el segundo número: '))\n",
        "num3 = int(input('Ingrese el tercer número: '))\n",
        "\n",
        "# Comparación entre los 3 números\n",
        "if (num1 >= num2) and (num1 >= num3):\n",
        "    print(num1)\n",
        "    if num2 >= num3:\n",
        "        print(num2)\n",
        "        print(num3)\n",
        "    else:\n",
        "        print(num3)\n",
        "        print(num2)\n",
        "elif (num2 >= num1) and (num2 >= num3):\n",
        "    print(num2)\n",
        "    if num1 >= num3:\n",
        "        print(num1)\n",
        "        print(num3)\n",
        "    else:\n",
        "        print(num3)\n",
        "        print(num1)\n",
        "else:\n",
        "    print(num3)\n",
        "    if num1 >= num2:\n",
        "        print(num1)\n",
        "        print(num2)\n",
        "    else:\n",
        "        print(num2)\n",
        "        print(num1)\n",
        "'''\n"
      ],
      "metadata": {
        "colab": {
          "base_uri": "https://localhost:8080/",
          "height": 174
        },
        "id": "lqcUKC7GcHA4",
        "outputId": "fb0dda33-f9b9-42ec-f8e9-fad9de7b74b1"
      },
      "execution_count": null,
      "outputs": [
        {
          "output_type": "stream",
          "name": "stdout",
          "text": [
            "Escriba aqui su primer número, por favor: 3\n",
            "Escriba aqui su segundo número, por favor: 5\n",
            "Escriba aqui su tercer número, por favor: 6\n",
            "El orden descendente de los número son: 6.0 , 5.0 y 3.0\n"
          ]
        },
        {
          "output_type": "execute_result",
          "data": {
            "text/plain": [
              "\"\\n# Recolectamos los 3 números\\nnum1 = int(input('Ingrese el primer número: '))\\nnum2 = int(input('Ingrese el segundo número: '))\\nnum3 = int(input('Ingrese el tercer número: '))\\n\\n# Comparación entre los 3 números\\nif (num1 >= num2) and (num1 >= num3):\\n    print(num1)\\n    if num2 >= num3:\\n        print(num2)\\n        print(num3)\\n    else:\\n        print(num3)\\n        print(num2)\\nelif (num2 >= num1) and (num2 >= num3):\\n    print(num2)\\n    if num1 >= num3:\\n        print(num1)\\n        print(num3)\\n    else:\\n        print(num3)\\n        print(num1)\\nelse:\\n    print(num3)\\n    if num1 >= num2:\\n        print(num1)\\n        print(num2)\\n    else:\\n        print(num2)\\n        print(num1)\\n\""
            ],
            "application/vnd.google.colaboratory.intrinsic+json": {
              "type": "string"
            }
          },
          "metadata": {},
          "execution_count": 89
        }
      ]
    },
    {
      "cell_type": "code",
      "source": [
        "# 7 -Escribe un programa que pregunte en qué turno estudia la persona usuaria (\"mañana\", \"tarde\" o \"noche\")\n",
        "# y muestre el mensaje \"¡Buenos Días!\", \"¡Buenas Tardes!\", \"¡Buenas Noches!\" o \"Valor Inválido!\", según el caso.\n",
        "\n",
        "# Se solicita al ususario la información necesaria\n",
        "\n",
        "turno_usuario = input('Escriba aquí, en que turno estudia, si en la mañana, en la tarde o en la noche?: ')\n",
        "\n",
        "# Se realiza el programa solciitado para generar el mensaje de salud sea el caso\n",
        "if turno_usuario == 'mañana':\n",
        "  print ('¡Buenos Días!')   # Mensaje buenos días\n",
        "elif turno_usuario == 'tarde':\n",
        "  print ('!Buenas tardes!') # Mensaje buenas tardes\n",
        "elif turno_usuario == 'noche':\n",
        "  print ('!Buenas noches!') # Mensaje buenas noches\n",
        "else:\n",
        "  print ('Dato ingresado Inválido!') # Mensaje no valido"
      ],
      "metadata": {
        "colab": {
          "base_uri": "https://localhost:8080/"
        },
        "id": "Axsd49d0slcc",
        "outputId": "04f699e0-f37d-44d8-d1b7-b645ace0d2af"
      },
      "execution_count": null,
      "outputs": [
        {
          "output_type": "stream",
          "name": "stdout",
          "text": [
            "Escriba aquí, en que turno estudia, si en la mañana, en la tarde o en la noche?: \n",
            "Dato ingresado Inválido!\n"
          ]
        }
      ]
    },
    {
      "cell_type": "code",
      "source": [
        "# 8 - Escribe un programa que solicite un número entero a la persona usuaria\n",
        "# y determine si es par o impar. Pista: Puedes usar el operador módulo (%).\n",
        "\n",
        "# Se solicita el número entero al usuario\n",
        "\n",
        "numero_entero_usuario = int(input('Escribar aqui su número entero, por favor: '))\n",
        "# crear programa evaluador de la solicitud\n",
        "if numero_entero_usuario % 2 == 0:   # evalua si el residuo al dividir el número entero en dos es igual a cero, si es así el número es par\n",
        "  print (f'El número entero ingresado {numero_entero_usuario} es par')\n",
        "elif numero_entero_usuario % 2 != 0:   # evalua si el residuo al dividir el número entero en dos es diferente a cero, si es así el número es impar\n",
        "  print (f'El número entero ingresado {numero_entero_usuario} es impar')\n",
        "else:\n",
        "  print (f'El número entero ingresado no es un número entero') # En el caso en que el número ingresado no es entero"
      ],
      "metadata": {
        "colab": {
          "base_uri": "https://localhost:8080/"
        },
        "id": "xxrziI00xvs0",
        "outputId": "a0c49608-f210-4157-b91a-134a4e286aed"
      },
      "execution_count": null,
      "outputs": [
        {
          "output_type": "stream",
          "name": "stdout",
          "text": [
            "Escribar aqui su número entero, por favor: 4\n",
            "El número entero ingresado 4 es par\n"
          ]
        }
      ]
    },
    {
      "cell_type": "code",
      "source": [
        "# 9 - Escribe un programa que pida un número a la persona usuaria y le informe si es entero o decimal.\n",
        "\n",
        "# Se solicita el número entero o decimal al usuario\n",
        "\n",
        "numero_usuario = input('Escribar aqui su número, por favor: ')\n",
        "\n",
        "# Crear programa evaluador de la solicitud\n",
        "\n",
        "if '.' in numero_usuario :\n",
        "  numero_decimal = float(numero_usuario)\n",
        "  print (f'El número ingresado {numero_decimal} es un número decimal')\n",
        "else:\n",
        "  numero_entero = int(numero_usuario)\n",
        "  print (f'El número ingresado {numero_entero} es un número entero')\n",
        "\n",
        "\n",
        "\n",
        "'''\n",
        "# Recolectamos los datos\n",
        "num = float(input('Ingresa un número: '))\n",
        "# Verificamos si el número es entero o decimal según el resultado del módulo\n",
        "if num % 1 == 0:\n",
        "    print('El número es entero.')\n",
        "else:\n",
        "    print('El número es decimal.')\n",
        "\n",
        "'''\n"
      ],
      "metadata": {
        "colab": {
          "base_uri": "https://localhost:8080/",
          "height": 87
        },
        "id": "wOouM6t9zqV7",
        "outputId": "ba429d5f-6d5a-4b0a-d9c1-68935cfb1d06"
      },
      "execution_count": null,
      "outputs": [
        {
          "output_type": "stream",
          "name": "stdout",
          "text": [
            "Escribar aqui su número, por favor: 3.4\n",
            "El número ingresado 3.4 es un número decimal\n"
          ]
        },
        {
          "output_type": "execute_result",
          "data": {
            "text/plain": [
              "\"\\n# Recolectamos los datos\\nnum = float(input('Ingresa un número: '))\\n# Verificamos si el número es entero o decimal según el resultado del módulo\\nif num % 1 == 0:\\n    print('El número es entero.')\\nelse:\\n    print('El número es decimal.')\\n\\n\""
            ],
            "application/vnd.google.colaboratory.intrinsic+json": {
              "type": "string"
            }
          },
          "metadata": {},
          "execution_count": 77
        }
      ]
    },
    {
      "cell_type": "code",
      "source": [
        "# 10 - Un programa debe ser escrito para leer dos números y luego preguntar a la persona usuaria qué operación desea realizar.\n",
        "# El resultado de la operación debe incluir información sobre el número, si es par o impar, positivo o negativo, e entero o decimal.\n",
        "\n",
        "# Se solicita al usuario dos números\n",
        "number_1 = float(input('Escriba aqui su primer número, por favor: '))\n",
        "number_2 = float(input('Escriba aqui su segundo número, por favor: '))\n",
        "operacion_usuario = input('Escriba aqui que operación (suma, resta, multiplicación o división) desea realizar, por favor: ')\n",
        "\n",
        "if number_1 != ' ' and number_2 != ' ' :\n",
        "\n",
        "  if operacion_usuario == 'suma':\n",
        "    resultado = number_1 + number_2\n",
        "    print (f'El resultado de la suma es: {resultado}')\n",
        "  elif operacion_usuario == 'resta':\n",
        "    resultado = number_1 - number_2\n",
        "    print (f'El resultado de la resta es: {resultado}')\n",
        "  elif operacion_usuario == 'multiplicación':\n",
        "    resultado = number_1 * number_2\n",
        "    print (f'El resultado de la multiplicación es: {resultado}')\n",
        "  elif operacion_usuario == 'división':\n",
        "    resultado = number_1 / number_2\n",
        "    print (f'El resultado de la división es: {resultado}')\n",
        "  else:\n",
        "    print (f'Operación no válida')\n",
        "    resultado = 0\n",
        "  # Se evalua si el resultado es decimal o entero\n",
        "\n",
        "  if resultado % 1 == 0:\n",
        "    print('El número es entero.')\n",
        "  else:\n",
        "    print('El número es decimal.')\n",
        "\n",
        "  # Se evalua si el resultado es par o impar\n",
        "\n",
        "  if resultado % 2  == 0:   # evalua si el residuo al dividir el número entero en dos es igual a cero, si es así el número es par\n",
        "    print (f'El número ingresado {resultado} es par')\n",
        "  elif resultado % 2 != 0:   # evalua si el residuo al dividir el número entero en dos es diferente a cero, si es así el número es impar\n",
        "    print (f'El número ingresado {resultado} es impar')\n",
        "  else:\n",
        "    print (f'El número ingresado no es un número entero') # En el caso en que el número ingresado no es entero\n",
        "\n",
        "# Se evalua si el resultado es par o impar\n",
        "\n",
        "  if resultado > 0:   # evalua si el número es mayor a cero, si es así es positivo\n",
        "    print (f'El número ingresado {resultado} es positivo')\n",
        "  elif resultado < 0:   # evalua si el número es menor a cero, si es así es negativo\n",
        "    print (f'El número ingresado {resultado} es negativo')\n",
        "  else:\n",
        "    print (f'El número ingresado es igual a cero') # En el caso en que el número ingresado es igual a cero\n",
        "\n",
        "else:\n",
        "  print (f'Los campos están vacios')\n"
      ],
      "metadata": {
        "colab": {
          "base_uri": "https://localhost:8080/"
        },
        "id": "bw3EbciJ0XdZ",
        "outputId": "fd603037-de46-44be-bb81-27fe2e587d8a"
      },
      "execution_count": null,
      "outputs": [
        {
          "output_type": "stream",
          "name": "stdout",
          "text": [
            "Escriba aqui su primer número, por favor: -9\n",
            "Escriba aqui su segundo número, por favor: 4\n",
            "Escriba aqui que operación (suma, resta, multiplicación o división) desea realizar, por favor: resta\n",
            "El resultado de la resta es: -13.0\n",
            "El número es entero.\n",
            "El número ingresado -13.0 es impar\n",
            "El número ingresado -13.0 es negativo\n"
          ]
        }
      ]
    },
    {
      "cell_type": "code",
      "source": [
        "# Escribe un programa que pida a la persona usuaria tres números que representan\n",
        "# los lados de un triángulo. El programa debe informar si los valores pueden utilizarse para formar un triángulo y, en caso afirmativo, si es equilátero, isósceles o escaleno. Ten en cuenta algunas sugerencias:\n",
        "'''\n",
        "Tres lados forman un triángulo cuando la suma de cualesquiera dos lados es mayor que el tercero;\n",
        "Triángulo Equilátero: tres lados iguales;\n",
        "Triángulo Isósceles: dos lados iguales;\n",
        "Triángulo Escaleno: tres lados diferentes.\n",
        "'''\n",
        "\n",
        "# Se solicita los tres numeros al usuario\n",
        "lado_trian_1 = float(input('Escriba aqui su primer número para el lado uno del triángulo, por favor: '))\n",
        "lado_trian_2 = float(input('Escriba aqui su primer número para el lado dos del triángulo, por favor: '))\n",
        "lado_trian_3 = float(input('Escriba aqui su primer número para el lado tres del triángulo, por favor: '))\n",
        "\n",
        "# Programa que evalua si se peude haer un triángulo y que tipo de triángulo es\n",
        "if lado_trian_1 + lado_trian_2 > lado_trian_3 and lado_trian_1 + lado_trian_3 > lado_trian_2 and lado_trian_2 + lado_trian_3 > lado_trian_1:\n",
        "  print (f'Los datos ingresados permiten formar un triángulo')\n",
        "\n",
        "  if lado_trian_1 == lado_trian_2 and lado_trian_2 == lado_trian_3:\n",
        "        print (f'El triángulo con lados {lado_trian_1}, {lado_trian_2} y {lado_trian_3} es un triángulo Equilátero')\n",
        "  elif lado_trian_1 == lado_trian_2 and lado_trian_2 != lado_trian_3 or lado_trian_1 != lado_trian_2 and lado_trian_2 == lado_trian_3:\n",
        "        print (f'El triángulo con lados {lado_trian_1}, {lado_trian_2} y {lado_trian_3} es un triángulo Isóseles')\n",
        "  elif lado_trian_1 != lado_trian_2 and lado_trian_2 != lado_trian_3 and lado_trian_1 != lado_trian_3 :\n",
        "        print (f'El triángulo con lados {lado_trian_1}, {lado_trian_2} y {lado_trian_3} es un triángulo Escaleno')\n",
        "\n",
        "else:\n",
        "    print (f'Los datos ingresados NO permiten formar un triángulo')\n",
        "\n"
      ],
      "metadata": {
        "colab": {
          "base_uri": "https://localhost:8080/"
        },
        "id": "z7h1cWdpLj2G",
        "outputId": "a0e04c39-cdcd-49af-b36d-6cc4426aa192"
      },
      "execution_count": null,
      "outputs": [
        {
          "output_type": "stream",
          "name": "stdout",
          "text": [
            "Escriba aqui su primer número para el lado uno del triángulo, por favor: 2\n",
            "Escriba aqui su primer número para el lado dos del triángulo, por favor: 0.5\n",
            "Escriba aqui su primer número para el lado tres del triángulo, por favor: 0.5\n",
            "Los datos ingresados NO permiten formar un triángulo\n"
          ]
        }
      ]
    },
    {
      "cell_type": "code",
      "source": [
        "# 12 - Un establecimiento está vendiendo combustibles con descuentos variables.\n",
        "'''\n",
        "Para el etanol, si la cantidad comprada es de hasta 15 litros, el descuento será del 2% por litro.\n",
        "En caso contrario, será del 4% por litro. Para el diésel, si la cantidad comprada es de hasta 15 litros,\n",
        "el descuento será del 3% por litro. En caso contrario, será del 5% por litro.\n",
        "El precio por litro de diésel es de R$ 2,00 y el precio por litro de etanol es de R$ 1,70.\n",
        "\n",
        "Escribe un programa que lea la cantidad de litros vendidos y el tipo de combustible (E para etanol y D para diésel)\n",
        "y calcule el valor a pagar por el cliente.\n",
        "Ten en cuenta algunas sugerencias:\n",
        "El valor del descuento será el producto del precio por litro, la cantidad de litros y el valor del descuento.\n",
        "El valor a pagar por un cliente será el resultado de la multiplicación del precio\n",
        "por litro por la cantidad de litros menos el valor del descuento resultante del cálculo.\n",
        "\n",
        "'''\n",
        "\n",
        "'''# Recolectamos la cantidad de litros y el tipo de combustible,\n",
        "# convirtiendo el carácter en mayúsculas para facilitar nuestro análisis\n",
        "cantidad_litros = float(input('Ingrese la cantidad de litros vendidos: '))\n",
        "tipo_combustible = input('Ingrese el tipo de combustible (E para etanol y D para diésel): ').upper()\n",
        "\n",
        "# Verificamos primero el tipo de combustible\n",
        "if tipo_combustible == 'E':\n",
        "  # Establecemos el precio por litro de etanol\n",
        "  precio_litro = 1.70\n",
        "  # Según la cantidad de litros, establecemos el descuento correspondiente\n",
        "  if cantidad_litros <= 15:\n",
        "    descuento = 0.02\n",
        "  else:\n",
        "    descuento = 0.04\n",
        "elif tipo_combustible == 'D':\n",
        "  # Establecemos el precio por litro de diésel\n",
        "  precio_litro = 2.00\n",
        "  # Según la cantidad de litros, establecemos el descuento correspondiente\n",
        "  if cantidad_litros <= 15:\n",
        "    descuento = 0.03\n",
        "  else:\n",
        "    descuento = 0.05\n",
        "# En caso de error en la especificación del tipo de combustible,\n",
        "# consideramos las entradas como no válidas y establecemos los precios y descuentos en 0\n",
        "else:\n",
        "    print('Entradas no válidas!')\n",
        "    precio_litro = 0\n",
        "    descuento = 0\n",
        "\n",
        "# Calculamos el valor del descuento, seguido del cálculo del precio descontado\n",
        "valor_descuento = precio_litro * cantidad_litros * descuento\n",
        "valor_pagado = precio_litro * cantidad_litros - valor_descuento\n",
        "\n",
        "# Resultado\n",
        "print(f'Valor a pagar por el cliente: R$ {valor_pagado}')\n",
        "'''\n",
        "# Se solicita la información al usuario del combustible a comprar y su cantidad\n",
        "\n",
        "combustible_vendido = input('Por favor, escriba aquí el combustible vendido (E para etanol y D para diésel): ')\n",
        "cantidad_vendida_en_litros = float(input('Escriba la cantidad de combustible vendido en litros, por favor: '))\n",
        "\n",
        "# Se crea el condicional para evaluar las opciones para el calculo del valor a pagar teniendo en cuenta el combustible y la cantidad\n",
        "\n",
        "if combustible_vendido == 'E':  #En caso que se venda etanol, se calcula el valor a pagar\n",
        "\n",
        "  precio_etanol=2 # valor del combustible por litro\n",
        "  if cantidad_vendida_en_litros <= 15:\n",
        "\n",
        "     valor_descuento = precio_etanol*cantidad_vendida_en_litros*(0.02)\n",
        "\n",
        "  else:\n",
        "\n",
        "     valor_descuento = precio_etanol*cantidad_vendida_en_litros*(0.04)\n",
        "\n",
        "  valor_a_pagar = precio_etanol*cantidad_vendida_en_litros - valor_descuento\n",
        "\n",
        "  print (f'El valor a pagar del etanol con descuento es igual a {valor_a_pagar}.')\n",
        "\n",
        "elif combustible_vendido == 'D':   #En caso que se venda diesel, se calcula el valor a pagar\n",
        "\n",
        "  precio_diesel = 1.7    # valor del combustible por litro\n",
        "\n",
        "  if cantidad_vendida_en_litros <= 15:\n",
        "\n",
        "      valor_descuento = precio_diesel*cantidad_vendida_en_litros*(3/100)\n",
        "\n",
        "  else:\n",
        "\n",
        "      valor_descuento = precio_diesel*cantidad_vendida_en_litros*(5/100)\n",
        "\n",
        "  valor_a_pagar = precio_diesel*cantidad_vendida_en_litros - valor_descuento\n",
        "\n",
        "  print (f'El valor a pagar del diesel con descuento es igual a {valor_a_pagar}.')\n",
        "\n",
        "else:\n",
        "\n",
        "  print('Entradas no válidas!')\n",
        "  precio_litro = 0\n",
        "  descuento = 0"
      ],
      "metadata": {
        "colab": {
          "base_uri": "https://localhost:8080/"
        },
        "id": "fCZpWo4KSDCh",
        "outputId": "29bc1f1c-6c8f-4413-ee1b-cdc0e258344c"
      },
      "execution_count": null,
      "outputs": [
        {
          "output_type": "stream",
          "name": "stdout",
          "text": [
            "Por favor, escriba aquí el combustible vendido (E para etanol y D para diésel): E\n",
            "Escriba la cantidad de combustible vendido en litros, por favor: 90\n",
            "El valor a pagar del etanol con descuento es igual a 172.8.\n"
          ]
        }
      ]
    },
    {
      "cell_type": "code",
      "source": [
        "# En una empresa de venta de bienes raíces, debes crear un código que analice los datos de ventas anuales\n",
        "# para ayudar a la dirección en la toma de decisiones.\n",
        "#El código debe recopilar los datos de cantidad de ventas durante los años 2022 y 2023 y calcular la variación porcentual.\n",
        "#A partir del valor de la variación, se deben proporcionar las siguientes sugerencias:\n",
        "\n",
        "#Para una variación superior al 20%: bonificación para el equipo de ventas.\n",
        "#Para una variación entre el 2% y el 20%: pequeña bonificación para el equipo de ventas.\n",
        "#Para una variación entre el 2% y el -10%: planificación de políticas de incentivo a las ventas.\n",
        "#Para bonificaciones inferiores al -10%: recorte de gastos.\n",
        "\n",
        "# Se solicita la información al usuario sobre las ventas anuales en el año 2022 y 2023\n",
        "\n",
        "ventas_2022 = float(input('Por favor, escriba las ventas anuales del año 2022: '))\n",
        "ventas_2023 = float(input('Por favor, escriba las ventas anuales del año 2023: '))\n",
        "\n",
        "# Se calcula la variación porcentual de las ventas anuales\n",
        "\n",
        "variacion_porcentual = ((ventas_2023 - ventas_2022)/ventas_2022)*100\n",
        "\n",
        "# Se realiza la evaluación de las decisiones teniendo en cuenta la variacio porcentual\n",
        "\n",
        "if ventas_2022 != 0 and ventas_2023 != 0:\n",
        "\n",
        "  if variacion_porcentual > 20:\n",
        "\n",
        "    print(f'La variación porcentual es igual a {variacion_porcentual} y tiene una bonificación para el equipo de ventas')\n",
        "\n",
        "  elif variacion_porcentual > 2 and variacion_porcentual <= 20:\n",
        "\n",
        "    print(f'La variación porcentual es igual a {variacion_porcentual} y debe dar una pequeña bonificación para el equipo de ventas')\n",
        "\n",
        "  elif variacion_porcentual >-10 and variacion_porcentual <=2:\n",
        "\n",
        "    print(f'La variación porcentual es igual a {variacion_porcentual} y debe hacer una planificación de políticas de incentivo a las ventas')\n",
        "\n",
        "  elif variacion_porcentual < -10:\n",
        "\n",
        "    print(f'La variación porcentual es igual a {variacion_porcentual} y debe hacer un recorte de gastos')\n"
      ],
      "metadata": {
        "colab": {
          "base_uri": "https://localhost:8080/"
        },
        "id": "Rcsy1iqIvPMn",
        "outputId": "c9bb71f2-daad-4fad-bacf-3f1ceece83d3"
      },
      "execution_count": null,
      "outputs": [
        {
          "output_type": "stream",
          "name": "stdout",
          "text": [
            "Por favor, escriba las ventas anuales del año 2022: 20\n",
            "Por favor, escriba las ventas anuales del año 2023: 5\n",
            "La variación porcentual es igual a -75.0 y debe hacer un recorte de gastos\n"
          ]
        }
      ]
    },
    {
      "cell_type": "markdown",
      "source": [
        "# Estructuras de repetición"
      ],
      "metadata": {
        "id": "aL1vJPewvwvz"
      }
    },
    {
      "cell_type": "markdown",
      "source": [
        "Cuando tenemos que ejecutar un mismo bloque de comandos durante varias ocasiones no es nada práctico hacerlo a mano.\n",
        "\n",
        "**Situación**: Nos fue solicitado obtener e imprimir el promedio de 2 notas de **3 estudiantes**:"
      ],
      "metadata": {
        "id": "VcPfCa8d-84t"
      }
    },
    {
      "cell_type": "code",
      "source": [
        "# solicitud de notas al usuario estudiante 1\n",
        "nota_1=float(input(\"Digita la primera nota aquí, por favor: \"))\n",
        "nota_2=float(input(\"Digita la segunda nota aquí, por favor: \"))\n",
        "\n",
        "# calculo del promedio estudiante 1 y se muetra el resultado\n",
        "print(f'El promedio del estudiante No. 1 fue igual a: {(nota_1+nota_2)/2}')\n",
        "\n",
        "# solicitud de notas al usuario estudiante 2\n",
        "nota_1=float(input(\"Digita la primera nota aquí, por favor: \"))\n",
        "nota_2=float(input(\"Digita la segunda nota aquí, por favor: \"))\n",
        "\n",
        "# calculo del promedio estudiante 2 y se muetra el resultado\n",
        "print(f'El promedio del estudiante No. 2 fue igual a: {(nota_1+nota_2)/2}')\n",
        "\n",
        "# solicitud de notas al usuario estudiante 3\n",
        "nota_1=float(input(\"Digita la primera nota aquí, por favor: \"))\n",
        "nota_2=float(input(\"Digita la segunda nota aquí, por favor: \"))\n",
        "\n",
        "# calculo del promedio estudiante 3 y se muetra el resultado\n",
        "print(f'El promedio del estudiante No. 3 fue igual a: {(nota_1+nota_2)/2}')\n",
        "\n"
      ],
      "metadata": {
        "id": "xcx21IGT9qA0",
        "colab": {
          "base_uri": "https://localhost:8080/"
        },
        "outputId": "cb8ceac5-171e-4087-8168-a20b72136d4e"
      },
      "execution_count": null,
      "outputs": [
        {
          "output_type": "stream",
          "name": "stdout",
          "text": [
            "Digita la primera nota aquí, por favor: 4.5\n",
            "Digita la segunda nota aquí, por favor: 6\n",
            "El promedio del estudiante No. 1 fue igual a: 5.25\n",
            "Digita la primera nota aquí, por favor: 6\n",
            "Digita la segunda nota aquí, por favor: 8\n",
            "El promedio del estudiante No. 2 fue igual a: 7.0\n",
            "Digita la primera nota aquí, por favor: 9\n",
            "Digita la segunda nota aquí, por favor: 7\n",
            "El promedio del estudiante No. 3 fue igual a: 8.0\n"
          ]
        }
      ]
    },
    {
      "cell_type": "markdown",
      "source": [
        "Ahora imaginemos una situación en que no son tan solo 3 estudiantes, sino 100 estudiantes. No sería nada interesante repetir el mismo código 100 veces, sino **ejecutar el mismo código 100 veces**.\n",
        "\n",
        "¡Esta estructura la logramos construir con lazos de repetición!"
      ],
      "metadata": {
        "id": "9puIuvUbFSFX"
      }
    },
    {
      "cell_type": "markdown",
      "source": [
        "## `WHILE`"
      ],
      "metadata": {
        "id": "uLO9-aE4-wx8"
      }
    },
    {
      "cell_type": "markdown",
      "source": [
        "El lazo `while` es una estructura de control de repetición en Python que permite ejecutar un bloque de código repetidamente mientras que una determinada condición sea verdadera. Su estructura es:\n",
        "\n",
        "\n",
        "\n",
        "```\n",
        "while condicion:\n",
        "    # bloque de codigo\n",
        "```\n",
        "\n",
        "Vamos a construir un ejemplo con un contador de 1 hasta 10.\n"
      ],
      "metadata": {
        "id": "rXZxDMiqHxm9"
      }
    },
    {
      "cell_type": "code",
      "source": [
        "contador = 1\n",
        "while contador <= 10:\n",
        "  print(contador)\n",
        "  contador = contador + 1"
      ],
      "metadata": {
        "id": "Hd0ZSWxD9wCD",
        "colab": {
          "base_uri": "https://localhost:8080/"
        },
        "outputId": "66ad7b0a-ee7a-4a97-d318-141d84b40e31"
      },
      "execution_count": null,
      "outputs": [
        {
          "output_type": "stream",
          "name": "stdout",
          "text": [
            "1\n",
            "2\n",
            "3\n",
            "4\n",
            "5\n",
            "6\n",
            "7\n",
            "8\n",
            "9\n",
            "10\n"
          ]
        }
      ]
    },
    {
      "cell_type": "code",
      "source": [
        "contador = 1\n",
        "while contador <= 10:\n",
        "  print(contador)\n",
        "  contador += 1"
      ],
      "metadata": {
        "id": "miFHNqp29nOL",
        "colab": {
          "base_uri": "https://localhost:8080/"
        },
        "outputId": "1693c93d-5390-473e-b7f5-69738f3d3343"
      },
      "execution_count": null,
      "outputs": [
        {
          "output_type": "stream",
          "name": "stdout",
          "text": [
            "1\n",
            "2\n",
            "3\n",
            "4\n",
            "5\n",
            "6\n",
            "7\n",
            "8\n",
            "9\n",
            "10\n"
          ]
        }
      ]
    },
    {
      "cell_type": "markdown",
      "source": [
        "Ahora vamos a colectar las notas y promedios de cada alumno dentro del lazo `while`. Haremos un ejemplo con 3 promedios."
      ],
      "metadata": {
        "id": "W4KZPBJuIrut"
      }
    },
    {
      "cell_type": "code",
      "source": [
        "contador = 1\n",
        "while contador <=3:\n",
        "  # solicitud de notas al usuario estudiante 1\n",
        "  nota_1=float(input(\"Digita la primera nota aquí, por favor: \"))\n",
        "  nota_2=float(input(\"Digita la segunda nota aquí, por favor: \"))\n",
        "\n",
        "  # calculo del promedio estudiante x y se muetra el resultado\n",
        "  print(f'El promedio del estudiante No. {contador} fue igual a: {(nota_1+nota_2)/2}')\n",
        "  contador += 1  # contabiliza las veces que se realiza el while"
      ],
      "metadata": {
        "id": "9T5eCLFx9wk6",
        "colab": {
          "base_uri": "https://localhost:8080/"
        },
        "outputId": "21916bbe-6515-4bc6-d1d3-a5a40e02b68f"
      },
      "execution_count": null,
      "outputs": [
        {
          "output_type": "stream",
          "name": "stdout",
          "text": [
            "Digita la primera nota aquí, por favor: 5\n",
            "Digita la segunda nota aquí, por favor: 6\n",
            "El promedio del estudiante No. 1 fue igual a: 5.5\n",
            "Digita la primera nota aquí, por favor: 10\n",
            "Digita la segunda nota aquí, por favor: 9\n",
            "El promedio del estudiante No. 2 fue igual a: 9.5\n",
            "Digita la primera nota aquí, por favor: 7\n",
            "Digita la segunda nota aquí, por favor: 8\n",
            "El promedio del estudiante No. 3 fue igual a: 7.5\n"
          ]
        }
      ]
    },
    {
      "cell_type": "markdown",
      "source": [
        "## `FOR`"
      ],
      "metadata": {
        "id": "WgAIaENMMfCP"
      }
    },
    {
      "cell_type": "markdown",
      "source": [
        "El lazo `for` es un tipo de estructura de control de flujo en Python que permite iterar sobre un conjunto de elementos. Su estructura es:\n",
        "\n",
        "\n",
        "\n",
        "```\n",
        "for elemento in conjunto:\n",
        "    # codigo a ser ejecutado para cada elemento\n",
        "```\n",
        "\n",
        "El lazo `for` itera sobre cada elemento del conjunto especificado y ejecuta el bloque de código dentro del lazo para cada elemento. Cuando el lazo llega al final del conjunto, este se interrumpe y el programa continúa la ejecución después del lazo.\n",
        "\n"
      ],
      "metadata": {
        "id": "HxrSZoRAMh-x"
      }
    },
    {
      "cell_type": "markdown",
      "source": [
        "El conjunto lo podemos generar con la función incorporada [`range()`](https://docs.python.org/3/library/functions.html#func-range). Se trata de una función capaz de generar una secuencia de números enteros. La estructura de esta función es:\n",
        "\n",
        "```\n",
        "range(inicio, fin, paso)\n",
        "```\n",
        "\n",
        "Según la documentación, `range()` genera una secuencia de números enteros a partir del valor del parámetro `inicio` hasta el valor del parámetro `fin`, de acuerdo con el valor del parámetro `paso`. Si `inicio` no es especificado, el valor por defecto es `0`. Si `paso` no es especificado, el valor por defecto es `1`.\n",
        "\n",
        "\n"
      ],
      "metadata": {
        "id": "6VgjyoQtPHBM"
      }
    },
    {
      "cell_type": "markdown",
      "source": [
        "Vamos a recrear el mismo contador `while` con el lazo `for`."
      ],
      "metadata": {
        "id": "ryn0hfdlUwC8"
      }
    },
    {
      "cell_type": "code",
      "source": [
        "for n in range (1,11,1):\n",
        "  print(n)"
      ],
      "metadata": {
        "id": "KkL1wUIj9jL4",
        "colab": {
          "base_uri": "https://localhost:8080/"
        },
        "outputId": "fcc20fb0-68d3-458e-9353-6086d1e5d607"
      },
      "execution_count": null,
      "outputs": [
        {
          "output_type": "stream",
          "name": "stdout",
          "text": [
            "1\n",
            "2\n",
            "3\n",
            "4\n",
            "5\n",
            "6\n",
            "7\n",
            "8\n",
            "9\n",
            "10\n"
          ]
        }
      ]
    },
    {
      "cell_type": "code",
      "source": [
        "for e in range (1,4):\n",
        "  # solicitud de notas al usuario estudiante 1\n",
        "  nota_1=float(input(\"Digita la primera nota aquí, por favor: \"))\n",
        "  nota_2=float(input(\"Digita la segunda nota aquí, por favor: \"))\n",
        "\n",
        "  # calculo del promedio estudiante x y se muetra el resultado\n",
        "  print(f'El promedio del estudiante No. {e} fue igual a: {(nota_1+nota_2)/2}')\n"
      ],
      "metadata": {
        "id": "uXIZnLSr9jOu",
        "colab": {
          "base_uri": "https://localhost:8080/"
        },
        "outputId": "5eedb1f0-f0b8-4d07-a136-29ceffc5c507"
      },
      "execution_count": null,
      "outputs": [
        {
          "output_type": "stream",
          "name": "stdout",
          "text": [
            "Digita la primera nota aquí, por favor: 4.5\n",
            "Digita la segunda nota aquí, por favor: 5\n",
            "El promedio del estudiante No. 1 fue igual a: 4.75\n",
            "Digita la primera nota aquí, por favor: 105\n",
            "Digita la segunda nota aquí, por favor: 45\n",
            "El promedio del estudiante No. 2 fue igual a: 75.0\n",
            "Digita la primera nota aquí, por favor: 10\n",
            "Digita la segunda nota aquí, por favor: 9\n",
            "El promedio del estudiante No. 3 fue igual a: 9.5\n"
          ]
        }
      ]
    },
    {
      "cell_type": "markdown",
      "source": [
        "**Comandos de control**"
      ],
      "metadata": {
        "id": "mfNo_i5Hx3jE"
      }
    },
    {
      "cell_type": "code",
      "source": [
        "# Continue\n",
        "for i in range(1, 6):\n",
        "    if i == 4:\n",
        "        continue\n",
        "    print(i)"
      ],
      "metadata": {
        "colab": {
          "base_uri": "https://localhost:8080/"
        },
        "id": "cJ1GxMHpx700",
        "outputId": "88d71cdb-f4db-411d-a377-21d73d781975"
      },
      "execution_count": null,
      "outputs": [
        {
          "output_type": "stream",
          "name": "stdout",
          "text": [
            "1\n",
            "2\n",
            "3\n",
            "5\n"
          ]
        }
      ]
    },
    {
      "cell_type": "code",
      "source": [
        "# Break\n",
        "\n",
        "for i in range(1, 6):\n",
        "    if i == 4:\n",
        "        break\n",
        "    print(i)"
      ],
      "metadata": {
        "colab": {
          "base_uri": "https://localhost:8080/"
        },
        "id": "EM1Dxh36zZ29",
        "outputId": "a6b2b326-6b77-40da-e863-75c3153c36d2"
      },
      "execution_count": null,
      "outputs": [
        {
          "output_type": "stream",
          "name": "stdout",
          "text": [
            "1\n",
            "2\n",
            "3\n"
          ]
        }
      ]
    },
    {
      "cell_type": "markdown",
      "source": [
        "# **1.4.9 Desafío: Estructuras de repetición**"
      ],
      "metadata": {
        "id": "giHozR6LwoQa"
      }
    },
    {
      "cell_type": "code",
      "source": [
        "# 1 - Escribe un programa que solicite dos números enteros e imprima todos los números enteros entre ellos.\n",
        "\n",
        " # solicitud de números enteros al usuario\n",
        "\n",
        "num_ent_1=int(input(\"Digite aquí su primer número entero, por favor: \"))\n",
        "num_ent_2=int(input(\"Digite aquí su segundo número entero, por favor: \"))\n",
        "\n",
        " # Programa para imprimir números enteros\n",
        "\n",
        "if num_ent_1 < num_ent_2:\n",
        "\n",
        "  for i in range (num_ent_1+1,num_ent_2):\n",
        "\n",
        "    print(f'Los número enteros entre {num_ent_1} y {num_ent_2} son: {i}')\n",
        "\n",
        "elif num_ent_1 > num_ent_2:\n",
        "\n",
        "  for i in range (num_ent_2 + 1,num_ent_1):\n",
        "    print (f'Los número enteros entre {num_ent_2} y {num_ent_1} son: {i}')\n",
        "\n",
        "else:\n",
        "  print (f'Los números son iguales')\n",
        "\n",
        "\n",
        "# Recolectamos los valores de inicio y fin\n",
        "inicio = int(input('Ingresa el primer número entero: '))\n",
        "fin = int(input('Ingresa el segundo número entero: '))\n",
        "\n",
        "# Verificamos si el valor de inicio es menor que el fin\n",
        "if inicio < fin:\n",
        "  # Podemos imprimir los enteros entre el valor menor y el valor mayor\n",
        "  for i in range(inicio + 1, fin):\n",
        "    print(i)\n",
        "elif inicio > fin:\n",
        "  for i in range(fin + 1, inicio):\n",
        "    print(i)\n",
        "else: # En caso de que los números sean iguales, no podemos imprimir ninguna secuencia.\n",
        "  print('Los números son iguales.')\n"
      ],
      "metadata": {
        "colab": {
          "base_uri": "https://localhost:8080/"
        },
        "id": "VBloUfHHwxn9",
        "outputId": "a40c0814-b9fa-432a-f9b8-5544184a0da9"
      },
      "execution_count": null,
      "outputs": [
        {
          "output_type": "stream",
          "name": "stdout",
          "text": [
            "Digite aquí su primer número entero, por favor: 45\n",
            "Digite aquí su segundo número entero, por favor: 40\n",
            "Los número enteros entre 40 y 45 son: 41\n",
            "Los número enteros entre 40 y 45 son: 42\n",
            "Los número enteros entre 40 y 45 son: 43\n",
            "Los número enteros entre 40 y 45 son: 44\n",
            "Ingresa el primer número entero: 60\n",
            "Ingresa el segundo número entero: 70\n",
            "61\n",
            "62\n",
            "63\n",
            "64\n",
            "65\n",
            "66\n",
            "67\n",
            "68\n",
            "69\n"
          ]
        }
      ]
    },
    {
      "cell_type": "code",
      "source": [
        "# 2 - Escribe un programa para calcular cuántos días tomará que la colonia de una bacteria A supere o igual a la colonia de una bacteria B,\n",
        "#basado en tasas de crecimiento del 3% y 1.5%, respectivamente.\n",
        "#Supón que la colonia A comienza con 4 elementos y B con 10.\n",
        "\n",
        "colonia_A = 4\n",
        "colonia_B = 10\n",
        "dia=0\n",
        "\n",
        "while colonia_A < colonia_B:\n",
        "\n",
        "    colonia_A = colonia_A*1.03\n",
        "    #colonia_A *= 1.03\n",
        "    colonia_B = colonia_B*1.015\n",
        "    #colonia_B *= 1.015\n",
        "    dia += 1\n",
        "print(f' La colonia de la bactería A le tómo {dia} días para igualar o superar a la colonia de la bacteria B ')\n"
      ],
      "metadata": {
        "colab": {
          "base_uri": "https://localhost:8080/"
        },
        "id": "wI_bBsWl1ual",
        "outputId": "6a688177-d786-4ed4-c263-9aa8c53ff822"
      },
      "execution_count": null,
      "outputs": [
        {
          "output_type": "stream",
          "name": "stdout",
          "text": [
            " La colonia de la bactería A le tómo 63 días para igualar o superar a la colonia de la bacteria B \n"
          ]
        }
      ]
    },
    {
      "cell_type": "code",
      "source": [
        "# 3 - Para procesar una cantidad de 15 datos de evaluaciones de usuarios de un servicio de la empresa, necesitamos verificar si las calificaciones son válidas.\n",
        "# Por lo tanto, escribe un programa que recibirá calificaciones del 0 al 5 y verificará si son valores válidos.\n",
        "#Si se ingresa una calificación superior a 5 o inferior a 0, se repetirá hasta que el usuario ingrese un valor válido.\n",
        "\n",
        "# For para recorrer las 15 calificaciones ingresadas por el usuario y verificar si son validas\n",
        "for i in range (1,16):\n",
        "  calificacion=float(input(f'Ingrese la calificación del usuario {i}, por favor: '))\n",
        "  while calificacion > 5 or calificacion < 0:        # verifica que las calificaciones cumplan con la condicion\n",
        "    calificacion=float(input(f'Calificación del usuario {i} no válida, por favor ingresela de nuevo: '))\n",
        "\n",
        "print(f'Verificación realizada. No. de notas verificadas {i} ')"
      ],
      "metadata": {
        "colab": {
          "base_uri": "https://localhost:8080/"
        },
        "id": "ZHr7dsKfOPZG",
        "outputId": "90f4a7bd-ad81-45a4-c2d4-91feae5f5927"
      },
      "execution_count": null,
      "outputs": [
        {
          "output_type": "stream",
          "name": "stdout",
          "text": [
            "Ingrese la calificación del usuario 1, por favor: 4\n",
            "Ingrese la calificación del usuario 2, por favor: 5\n",
            "Ingrese la calificación del usuario 3, por favor: 4\n",
            "Ingrese la calificación del usuario 4, por favor: 2\n",
            "Ingrese la calificación del usuario 5, por favor: 1\n",
            "Ingrese la calificación del usuario 6, por favor: 0\n",
            "Ingrese la calificación del usuario 7, por favor: 3\n",
            "Ingrese la calificación del usuario 8, por favor: 4\n",
            "Ingrese la calificación del usuario 9, por favor: 2\n",
            "Ingrese la calificación del usuario 10, por favor: 6\n",
            "Calificación del usuario 10 no válida, por favor ingresela de nuevo: 3\n",
            "Ingrese la calificación del usuario 11, por favor: 4\n",
            "Ingrese la calificación del usuario 12, por favor: 9\n",
            "Calificación del usuario 12 no válida, por favor ingresela de nuevo: 2\n",
            "Ingrese la calificación del usuario 13, por favor: 3\n",
            "Ingrese la calificación del usuario 14, por favor: 4\n",
            "Ingrese la calificación del usuario 15, por favor: 5\n",
            "Verificación realizada. No. de notas verificadas 15 \n"
          ]
        }
      ]
    },
    {
      "cell_type": "code",
      "source": [
        "#4 - Desarrolla un programa que lea un conjunto indefinido de temperaturas en grados Celsius y calcule su promedio.\n",
        "#La lectura debe detenerse al ingresar el valor -273°C.\n",
        "\n",
        "# Ingreso de la temperatura por parte del usuario\n",
        "\n",
        "temperatura_celsius=float(input(f'Digite la temperatura en grados celsius que desee ingresar, por favor: '))\n",
        "\n",
        "suma_temperatura = 0\n",
        "cantidad_temperatura = 0\n",
        "\n",
        "while temperatura_celsius != -273:  # el programa solo funciona si la temepratura es diferente de -273\n",
        "    suma_temperatura += temperatura_celsius  # calculo de la suma de las temperaturas\n",
        "    cantidad_temperatura += 1  # suma la cantidad de temperaturas ingresadas\n",
        "    temperatura_celsius=float(input(f'Digite la temperatura que desee ingresar, por favor: ')) # se le solicita al usuario de nuevo otra temperatura\n",
        "\n",
        "promedio_temperatura = suma_temperatura / cantidad_temperatura\n",
        "\n",
        "print(f'El promedio de la temperaturas fue igual {promedio_temperatura}')\n",
        "\n",
        "\n",
        "'''\n",
        "# Recopilamos la temperatura\n",
        "temperatura = float(input('Ingresa la temperatura en grados Celsius: '))\n",
        "\n",
        "# Inicializamos un contador y una suma para calcular el promedio\n",
        "contador = 0\n",
        "suma = 0\n",
        "\n",
        "# Nuestro código se ejecuta hasta que el valor de temperatura sea igual a -273\n",
        "while temperatura != -273:\n",
        "    # La suma se actualiza sumando la temperatura a la variable suma\n",
        "    suma += temperatura\n",
        "    # Contamos la cantidad de valores recopilados con el contador\n",
        "    contador += 1\n",
        "    # Recopilamos nuevamente la temperatura\n",
        "    temperatura = float(input('Ingresa la temperatura en grados Celsius: '))\n",
        "\n",
        "promedio = suma / contador\n",
        "\n",
        "print(f'El promedio de las temperaturas es: {promedio}')\n",
        "'''"
      ],
      "metadata": {
        "colab": {
          "base_uri": "https://localhost:8080/",
          "height": 157
        },
        "id": "ctXnjLYkT0Lm",
        "outputId": "d27af26f-4f33-4b6e-8236-c688b3859bc3"
      },
      "execution_count": null,
      "outputs": [
        {
          "output_type": "stream",
          "name": "stdout",
          "text": [
            "Digite la temperatura en grados celsius que desee ingresar, por favor: 120\n",
            "Digite la temperatura que desee ingresar, por favor: -273\n",
            "El promedio de la temperaturas fue igual 120.0\n"
          ]
        },
        {
          "output_type": "execute_result",
          "data": {
            "text/plain": [
              "\"\\n# Recopilamos la temperatura\\ntemperatura = float(input('Ingresa la temperatura en grados Celsius: '))\\n\\n# Inicializamos un contador y una suma para calcular el promedio\\ncontador = 0\\nsuma = 0\\n\\n# Nuestro código se ejecuta hasta que el valor de temperatura sea igual a -273\\nwhile temperatura != -273:\\n    # La suma se actualiza sumando la temperatura a la variable suma\\n    suma += temperatura\\n    # Contamos la cantidad de valores recopilados con el contador\\n    contador += 1\\n    # Recopilamos nuevamente la temperatura\\n    temperatura = float(input('Ingresa la temperatura en grados Celsius: '))\\n\\npromedio = suma / contador\\n\\nprint(f'El promedio de las temperaturas es: {promedio}')\\n\""
            ],
            "application/vnd.google.colaboratory.intrinsic+json": {
              "type": "string"
            }
          },
          "metadata": {},
          "execution_count": 55
        }
      ]
    },
    {
      "cell_type": "code",
      "source": [
        "# 5 5 - Escribe un programa que calcule el factorial de un número entero proporcionado por el usuario.\n",
        "#Recuerda que el factorial de un número entero es el producto de ese número por todos sus antecesores hasta llegar al número 1.\n",
        "#Por ejemplo, el factorial de 5 es 5 x 4 x 3 x 2 x 1 = 120.\n",
        "'''\n",
        "# Ingreso del número entero por aprte del usuario\n",
        "\n",
        "numero_entero=int(input(f'Digite un número entero, por favor: '))\n",
        "\n",
        "factorial = 1\n",
        "\n",
        "if numero_entero != 0:\n",
        "\n",
        "  for i in range (1, numero_entero + 1):\n",
        "    factorial *= i.   # variable factorial va a cambiar su valor cada iteración 1,2,6,24  factorial=factorial*i\n",
        "\n",
        "  print(f'El factorial del número entero {numero_entero} es igual a {factorial}')\n",
        "'''\n",
        "# Numero entero solicitado al usuario\n",
        "numero_entero=int(input(f'Digite un número entero, por favor: '))\n",
        "# inicializa variable factorial en uno\n",
        "factorial = 1\n",
        "# programa para calcular el factorial de un numero\n",
        "if numero_entero != 0:\n",
        "\n",
        "  for i in range (numero_entero, 1,-1):\n",
        "    factorial = factorial*i. # variable factorial va a cambiar su valor cada iteración 1,2,6,24  factorial=factorial*i\n",
        "\n",
        "  print(f'El factorial del número entero {numero_entero} es igual a {factorial}')\n",
        "else:\n",
        "  print(f'Por favor digitar un número diferente de cero')"
      ],
      "metadata": {
        "colab": {
          "base_uri": "https://localhost:8080/"
        },
        "id": "vXLUXLQkdnms",
        "outputId": "c23eca29-6933-4c97-d9ef-4a5db6ebfe6f"
      },
      "execution_count": null,
      "outputs": [
        {
          "output_type": "stream",
          "name": "stdout",
          "text": [
            "Digite un número entero, por favor: 6\n",
            "El factorial del número entero 6 es igual a 720\n"
          ]
        }
      ]
    },
    {
      "cell_type": "code",
      "source": [
        "# Momento de los proyectos\n",
        "# 6 - Escribe un programa que genere la tabla de multiplicar de un número entero del 1 al 10, según la elección del usuario.\n",
        "#Como ejemplo, para el número 2, la tabla de multiplicar debe mostrarse en el siguiente formato:\n",
        "\n",
        "# solicitar nuemero al uasuario\n",
        "numero_tabla=int(input(f'Digite un número entero, por favor: '))\n",
        "print(f'Tabla de multiplicar del número {numero_tabla} ')\n",
        "# inicializar la variable resultado, guarda los resultados de cada iteración\n",
        "resultado=0\n",
        "# programa para calcular la tabla de multiplicar del número indicado\n",
        "for i in range(1,11):\n",
        "\n",
        "  resultado = numero_tabla*i\n",
        "\n",
        "  print(f'{numero_tabla} x {i} = {resultado}')\n",
        "\n"
      ],
      "metadata": {
        "colab": {
          "base_uri": "https://localhost:8080/"
        },
        "id": "9jH9uPC6mRRf",
        "outputId": "e55152b6-db1a-46d8-a5d6-0f430d96f9e9"
      },
      "execution_count": null,
      "outputs": [
        {
          "output_type": "stream",
          "name": "stdout",
          "text": [
            "Digite un número entero, por favor: 3\n",
            "Tabla de multiplicar del número 3 \n",
            "3 x 1 = 3\n",
            "3 x 2 = 6\n",
            "3 x 3 = 9\n",
            "3 x 4 = 12\n",
            "3 x 5 = 15\n",
            "3 x 6 = 18\n",
            "3 x 7 = 21\n",
            "3 x 8 = 24\n",
            "3 x 9 = 27\n",
            "3 x 10 = 30\n"
          ]
        }
      ]
    },
    {
      "cell_type": "code",
      "source": [
        "# 7 - Los números primos tienen diversas aplicaciones en Ciencia de Datos, como en criptografía y seguridad.\n",
        "#Un número primo es aquel que es divisible solo por sí mismo y por 1.\n",
        "#Por lo tanto, crea un programa que solicite un número entero y determine si es un número primo o no.\n",
        "\n",
        "# solicitar número al usuario\n",
        "\n",
        "numero_primo=int(input(f'Digite un número entero, por favor: '))\n",
        "\n",
        "# Programa para calcular si es un número primo\n",
        "if numero_primo > 1: # numero primo debe ser mayor a uno pra serlo\n",
        "\n",
        "  for i in range(2,numero_primo): # se evalua si es numero primo entre el 2 y el valor numero_primo\n",
        "\n",
        "    if (numero_primo % i) == 0:  # se evalua el residuo obtenido en cada uno de las iteraciones es igual a cero si es asi NO es primo\n",
        "      print(f'El número {numero_primo} NO es primo')\n",
        "      break\n",
        "  else:\n",
        "    print(f'El número {numero_primo} SI es primo') #si el residuo es diferente de cero SI es primo\n",
        "\n",
        "else:\n",
        "          print(f'El número {numero_primo} NO es primo')\n"
      ],
      "metadata": {
        "colab": {
          "base_uri": "https://localhost:8080/"
        },
        "id": "dJkcJz_yqCjU",
        "outputId": "53fadc67-cf1d-4787-b18f-a35f4661c678"
      },
      "execution_count": null,
      "outputs": [
        {
          "output_type": "stream",
          "name": "stdout",
          "text": [
            "Digite un número entero, por favor: 16\n",
            "El número 16 NO es primo\n"
          ]
        }
      ]
    },
    {
      "cell_type": "code",
      "source": [
        "# 8 - Vamos a comprender la distribución de edades de los pensionistas de una empresa de seguros.\n",
        "#Escribe un programa que lea las edades de una cantidad no informada de clientes\n",
        "#y muestre la distribución en los intervalos [0-25], [26-50], [51-75] y [76-100].\n",
        "#La entrada de datos se detendrá al ingresar un número negativo.\n",
        "\n",
        "# Ingreso las edades de los clientes\n",
        "\n",
        "edad_cliente=int(input(f'Digite la edad del cliente, por favor: '))\n",
        "\n",
        "cantidad_int_0_25 = 0\n",
        "cantidad_int_26_50 = 0\n",
        "cantidad_int_51_75 = 0\n",
        "cantidad_int_76_100 = 0\n",
        "\n",
        "\n",
        "while edad_cliente > 0:  # el programa solo funciona si las edades son mayores a cero\n",
        "\n",
        "  if edad_cliente >= 0 and edad_cliente <= 25:\n",
        "     cantidad_int_0_25 = cantidad_int_0_25 + 1 # Calcula la cantidad de clientes en este rango de edad\n",
        "\n",
        "  elif edad_cliente >= 26 and edad_cliente <= 50:\n",
        "     cantidad_int_26_50 += 1 # Calcula la cantidad de clientes en este rango de edad\n",
        "\n",
        "  elif edad_cliente >= 51 and edad_cliente <= 75:\n",
        "     cantidad_int_51_75 = cantidad_int_51_75 + 1  # Calcula la cantidad de clientes en este rango de edad\n",
        "\n",
        "  elif edad_cliente >= 76 and edad_cliente <= 100:\n",
        "     cantidad_int_76_100 += 14 # Calcula la cantidad de clientes en este rango de edad\n",
        "\n",
        "  edad_cliente=int(input(f'Si desea continuar digite la edad de un cliente, pero si desea finalizar digite un número negativo, por favor: '))\n",
        "\n",
        "print(f'La distribución de las edades que se obtuvo fue la siguiente:')\n",
        "print(f'1. Para las edades entre [0-25] fue: {cantidad_int_0_25}')\n",
        "print(f'2. Para las edades entre [26-50] fue: {cantidad_int_26_50}')\n",
        "print(f'3. Para las edades entre [51-75] fue: {cantidad_int_51_75}')\n",
        "print(f'4. Para las edades entre [76-100] fue: {cantidad_int_76_100}')"
      ],
      "metadata": {
        "colab": {
          "base_uri": "https://localhost:8080/"
        },
        "id": "szabYmT9xK2_",
        "outputId": "663ec742-b02c-4575-8d2c-73e7018b9294"
      },
      "execution_count": null,
      "outputs": [
        {
          "output_type": "stream",
          "name": "stdout",
          "text": [
            "Digite la edad del cliente, por favor: 12\n",
            "Si desea continuar digite la edad de un cliente, pero si desea finalizar digite un número negativo, por favor: 23\n",
            "Si desea continuar digite la edad de un cliente, pero si desea finalizar digite un número negativo, por favor: 34\n",
            "Si desea continuar digite la edad de un cliente, pero si desea finalizar digite un número negativo, por favor: 5\n",
            "Si desea continuar digite la edad de un cliente, pero si desea finalizar digite un número negativo, por favor: 56\n",
            "Si desea continuar digite la edad de un cliente, pero si desea finalizar digite un número negativo, por favor: 67\n",
            "Si desea continuar digite la edad de un cliente, pero si desea finalizar digite un número negativo, por favor: 78\n",
            "Si desea continuar digite la edad de un cliente, pero si desea finalizar digite un número negativo, por favor: 89\n",
            "Si desea continuar digite la edad de un cliente, pero si desea finalizar digite un número negativo, por favor: 90\n",
            "Si desea continuar digite la edad de un cliente, pero si desea finalizar digite un número negativo, por favor: -0\n",
            "La distribución de las edades que se obtuvo fue la siguiente:\n",
            "1. Para las edades entre [0-25] fue: 3\n",
            "2. Para las edades entre [26-50] fue: 1\n",
            "3. Para las edades entre [51-75] fue: 2\n",
            "4. Para las edades entre [76-100] fue: 3\n"
          ]
        }
      ]
    },
    {
      "cell_type": "code",
      "source": [
        "#9 En una elección para la gerencia de una empresa con 20 empleados, hay cuatro candidatos.\n",
        "\n",
        "#Escribe un programa que calcule al ganador de la elección. La votación se realizó de la siguiente manera:\n",
        "\n",
        "#Cada empleado votó por uno de los cuatro candidatos (representados por los números 1, 2, 3 y 4).\n",
        "\n",
        "#También se contaron los votos nulos (representados por el número 5) y los votos en blanco (representados por el número 6).\n",
        "\n",
        "#Al final de la votación, el programa debe mostrar el número total de votos para cada candidato,\n",
        "#los votos nulos y los votos en blanco.\n",
        "#Además, debe calcular y mostrar el porcentaje de votos nulos con respecto al total de votos\n",
        "#y el porcentaje de votos en blanco con respecto al total de votos.\n",
        "'''\n",
        "# For para recorrer las 20 votaciones ingresadas por el usuario y verificar si son validas\n",
        "\n",
        "# Inicializamos las variables contadoras\n",
        "votos_candidato1 = 0\n",
        "votos_candidato2 = 0\n",
        "votos_candidato3 = 0\n",
        "votos_candidato4 = 0\n",
        "votos_nulos = 0\n",
        "votos_blanco = 0\n",
        "\n",
        "# Inicio del bucle para leer los votos\n",
        "for i in range(0, 20):\n",
        "    voto = int(input('Ingresa tu voto: '))\n",
        "\n",
        "    if voto == 1:\n",
        "        votos_candidato1 += 1\n",
        "    elif voto == 2:\n",
        "        votos_candidato2 += 1\n",
        "    elif voto == 3:\n",
        "        votos_candidato3 += 1\n",
        "    elif voto == 4:\n",
        "        votos_candidato4 += 1\n",
        "    elif voto == 5:\n",
        "        votos_nulos += 1\n",
        "    elif voto == 6:\n",
        "        votos_blanco += 1\n",
        "    else:\n",
        "        print(\"Voto inválido.\")\n",
        "\n",
        "print(f'Votos candidato 1: {votos_candidato1}')\n",
        "print(f'Votos candidato 2: {votos_candidato2}')\n",
        "print(f'Votos candidato 3: {votos_candidato3}')\n",
        "print(f'Votos candidato 4: {votos_candidato4}')\n",
        "print(f'Votos nulos: {votos_nulos}')\n",
        "print(f'Votos en blanco: {votos_blanco}')\n",
        "print(f'Porcentaje de votos nulos: {(votos_nulos / 20 * 100)}')\n",
        "print(f'Porcentaje de votos en blanco: {(votos_blanco / 20 * 100)}')\n",
        "'''\n",
        "# Inicializamos las variables contadoras\n",
        "voto_opcion_1 = 0\n",
        "voto_opcion_2 = 0\n",
        "voto_opcion_3 = 0\n",
        "voto_opcion_4 = 0\n",
        "voto_opcion_5 = 0\n",
        "voto_opcion_6 = 0\n",
        "\n",
        "votacion_total = 0\n",
        "\n",
        "porcentaje_candidato_1 = 0\n",
        "porcentaje_candidato_2 = 0\n",
        "porcentaje_candidato_3 = 0\n",
        "porcentaje_candidato_4 = 0\n",
        "porcentaje_candidato_5 = 0\n",
        "porcentaje_candidato_6 = 0\n",
        "# Se crea un for para recibir las votaciones y contarbilizarlas\n",
        "\n",
        "for i in range (1,21):\n",
        "\n",
        "  votacion = int(input(f'Por favor ingrese la votación del empleado No. Empleado No. {i}: '))\n",
        "\n",
        "  if votacion == 1:\n",
        "      voto_opcion_1 += 1\n",
        "      votacion_total += 1\n",
        "  elif votacion == 2:\n",
        "      voto_opcion_2 += 1\n",
        "      votacion_total += 1\n",
        "  elif votacion == 3:\n",
        "      voto_opcion_3 += 1\n",
        "      votacion_total += 1\n",
        "  elif votacion == 4:\n",
        "      voto_opcion_4 += 1\n",
        "      votacion_total += 1\n",
        "  elif votacion == 5:\n",
        "      voto_opcion_5 += 1\n",
        "      votacion_total += 1\n",
        "  elif votacion == 6:\n",
        "      voto_opcion_6 += 1\n",
        "      votacion_total += 1\n",
        "  else:\n",
        "        print(f'Votación no valida, por favor digite un número correcto')\n",
        "        votacion = int(input(f'Por favor ingrese la votación del empleado No. Empleado No. {i}: '))\n",
        "\n",
        "# calculo de la votación total\n",
        "#votacion_total = voto_opcion_1 + voto_opcion_2 + voto_opcion_3 + voto_opcion_4 + voto_opcion_5 + voto_opcion_6\n",
        "porcentaje_opcion_1 = (voto_opcion_1/votacion_total)*100\n",
        "porcentaje_opcion_2 = (voto_opcion_2/votacion_total)*100\n",
        "porcentaje_opcion_3 = (voto_opcion_3/votacion_total)*100\n",
        "porcentaje_opcion_4 = (voto_opcion_4/votacion_total)*100\n",
        "porcentaje_opcion_5 = (voto_opcion_5/votacion_total)*100\n",
        "porcentaje_opcion_6 = (voto_opcion_6/votacion_total)*100\n",
        "\n",
        " # Mostrar los resultados\n",
        "\n",
        "print(f'Los resultados de la votación son los siguientes:')\n",
        "print(f'El total de votos de las votaciones fueron: {votacion_total}')\n",
        "print(f'El total de votos para el candidato No. 1 es: {voto_opcion_1} y el porcentaje correspondiente es: {porcentaje_opcion_1}')\n",
        "print(f'El total de votos para el candidato No. 2 es: {voto_opcion_2} y el porcentaje correspondiente es: {porcentaje_opcion_2}')\n",
        "print(f'El total de votos para el candidato No. 3 es: {voto_opcion_3} y el porcentaje correspondiente es: {porcentaje_opcion_3}')\n",
        "print(f'El total de votos para el candidato No. 4 es: {voto_opcion_4} y el porcentaje correspondiente es: {porcentaje_opcion_4}')\n",
        "print(f'El total de votos nulos (opción 5) son igual: {voto_opcion_5} y el porcentaje correspondiente es: {porcentaje_opcion_5}')\n",
        "print(f'El total de votos blancos (opción 6) son igual: {voto_opcion_6} y el porcentaje correspondiente es: {porcentaje_opcion_6}')\n",
        "\n",
        "\n"
      ],
      "metadata": {
        "id": "3toxPsga7BmB",
        "colab": {
          "base_uri": "https://localhost:8080/"
        },
        "outputId": "a78f0468-7674-4ff1-c838-01db4ce99e58"
      },
      "execution_count": null,
      "outputs": [
        {
          "output_type": "stream",
          "name": "stdout",
          "text": [
            "Por favor ingrese la votación del empleado No. Empleado No. 1: 1\n",
            "Por favor ingrese la votación del empleado No. Empleado No. 2: 2\n",
            "Por favor ingrese la votación del empleado No. Empleado No. 3: 3\n",
            "Por favor ingrese la votación del empleado No. Empleado No. 4: 4\n",
            "Por favor ingrese la votación del empleado No. Empleado No. 5: 5\n",
            "Por favor ingrese la votación del empleado No. Empleado No. 6: 6\n",
            "Por favor ingrese la votación del empleado No. Empleado No. 7: 7\n",
            "Votación no valida, por favor digite un número correcto\n",
            "Por favor ingrese la votación del empleado No. Empleado No. 7: 6\n",
            "Por favor ingrese la votación del empleado No. Empleado No. 8: 5\n",
            "Por favor ingrese la votación del empleado No. Empleado No. 9: 4\n",
            "Por favor ingrese la votación del empleado No. Empleado No. 10: 3\n",
            "Por favor ingrese la votación del empleado No. Empleado No. 11: 2\n",
            "Por favor ingrese la votación del empleado No. Empleado No. 12: 3\n",
            "Por favor ingrese la votación del empleado No. Empleado No. 13: 4\n",
            "Por favor ingrese la votación del empleado No. Empleado No. 14: 5\n",
            "Por favor ingrese la votación del empleado No. Empleado No. 15: 6\n",
            "Por favor ingrese la votación del empleado No. Empleado No. 16: 4\n",
            "Por favor ingrese la votación del empleado No. Empleado No. 17: 1\n",
            "Por favor ingrese la votación del empleado No. Empleado No. 18: 2\n",
            "Por favor ingrese la votación del empleado No. Empleado No. 19: 3\n",
            "Por favor ingrese la votación del empleado No. Empleado No. 20: 4\n",
            "Los resultados de la votación son los siguientes:\n",
            "El total de votos de las votaciones fueron: 20\n",
            "El total de votos para el candidato No. 1 es: 2 y el porcentaje correspondiente es: 10.0\n",
            "El total de votos para el candidato No. 2 es: 3 y el porcentaje correspondiente es: 15.0\n",
            "El total de votos para el candidato No. 3 es: 4 y el porcentaje correspondiente es: 20.0\n",
            "El total de votos para el candidato No. 4 es: 5 y el porcentaje correspondiente es: 25.0\n",
            "El total de votos nulos (opción 5) son igual: 3 y el porcentaje correspondiente es: 15.0\n",
            "El total de votos blancos (opción 6) son igual: 2 y el porcentaje correspondiente es: 10.0\n"
          ]
        }
      ]
    },
    {
      "cell_type": "markdown",
      "source": [
        "# Estructuras de datos"
      ],
      "metadata": {
        "id": "8noP8OJ0Vhux"
      }
    },
    {
      "cell_type": "markdown",
      "source": [
        "Un conjunto de elementos es una colección de items, que son almacenados juntos de manera organizada. Algunos ejemplos de conjuntos de elementos en Python son las listas, los strings y los diccionarios."
      ],
      "metadata": {
        "id": "xpEUkefTu8fY"
      }
    },
    {
      "cell_type": "markdown",
      "source": [
        "## Listas"
      ],
      "metadata": {
        "id": "THSg4KYLwxIb"
      }
    },
    {
      "cell_type": "markdown",
      "source": [
        "Las listas pueden almacenar una colección de items en orden. Ellas son delimitadas por corchetes `[]` y sus elementos son separados por comas.\n",
        "\n",
        "Estas pueden almacenar cualquier tipo de items, incluyendo números, strings, objetos, otras listas, entre otros. También nos permiten almacenar items de tipos de datos diferentes juntos en una única lista."
      ],
      "metadata": {
        "id": "dzpsiqrOyJcK"
      }
    },
    {
      "cell_type": "code",
      "source": [
        "lista = ['Penélope Camacho',9.5,9.0,9.7,True]\n",
        "lista"
      ],
      "metadata": {
        "id": "DO3TBj7nAYeG",
        "colab": {
          "base_uri": "https://localhost:8080/"
        },
        "outputId": "70c29a12-ad9e-4b05-ef0c-b7721601e6bd"
      },
      "execution_count": null,
      "outputs": [
        {
          "output_type": "execute_result",
          "data": {
            "text/plain": [
              "['Penélope Camacho', 9.5, 9.0, 9.7, True]"
            ]
          },
          "metadata": {},
          "execution_count": 24
        }
      ]
    },
    {
      "cell_type": "code",
      "source": [
        "type(lista)"
      ],
      "metadata": {
        "id": "DO2ubP9N9D_2",
        "colab": {
          "base_uri": "https://localhost:8080/"
        },
        "outputId": "794ef3cd-4e37-42ff-d2ee-d023e3a75be7"
      },
      "execution_count": null,
      "outputs": [
        {
          "output_type": "execute_result",
          "data": {
            "text/plain": [
              "list"
            ]
          },
          "metadata": {},
          "execution_count": 25
        }
      ]
    },
    {
      "cell_type": "markdown",
      "source": [
        "Las listas son organizadas en Python porque **cada elemento de la lista tiene un índice que indica su posición al interior de la lista**. Los índices comienzan en 0 van hasta el tamaño de la lista menos 1."
      ],
      "metadata": {
        "id": "qUz3sJNl6LgK"
      }
    },
    {
      "cell_type": "markdown",
      "source": [
        "Tenemos entonces 5 elementos con índices que varían de 0 a 4, ordenadamente:\n",
        "\n",
        "```\n",
        "#             [0]           [1]   [2]   [3]    [4]\n",
        "lista = ['Penélope Camacho', 9.5 , 9.0 , 9.7 , True]\n",
        "```\n",
        "\n",
        "En Python tenemos también los índices **negativos** que se inician en el último elemento con el valor de `-1` y avanzan en el universo de los negativos hasta llegar al 1° elemento:\n",
        "\n",
        "```\n",
        "#             [-5]         [-4]  [-3]  [-2]   [-1]\n",
        "lista = ['Penélope Camacho', 9.5 , 9.0 , 9.7 , True]\n",
        "```\n",
        "\n",
        "Logramos seleccionar separadamente cada elemento a través de sus respectivos índices. Colocando el nombre de la lista y en seguida el índice que será seleccionado."
      ],
      "metadata": {
        "id": "rLf-Qg526hFD"
      }
    },
    {
      "cell_type": "code",
      "source": [
        "lista[0]\n"
      ],
      "metadata": {
        "id": "4hco1Zqy88Kw",
        "colab": {
          "base_uri": "https://localhost:8080/",
          "height": 35
        },
        "outputId": "79ee1d09-65dc-4f96-e66e-3e117fb92dbb"
      },
      "execution_count": null,
      "outputs": [
        {
          "output_type": "execute_result",
          "data": {
            "text/plain": [
              "'Penélope Camacho'"
            ],
            "application/vnd.google.colaboratory.intrinsic+json": {
              "type": "string"
            }
          },
          "metadata": {},
          "execution_count": 28
        }
      ]
    },
    {
      "cell_type": "code",
      "source": [
        "type(lista[0])"
      ],
      "metadata": {
        "id": "M8lH0I2288Ph",
        "colab": {
          "base_uri": "https://localhost:8080/"
        },
        "outputId": "8045a9a1-8a7f-4669-c587-2b19d400a938"
      },
      "execution_count": null,
      "outputs": [
        {
          "output_type": "execute_result",
          "data": {
            "text/plain": [
              "str"
            ]
          },
          "metadata": {},
          "execution_count": 29
        }
      ]
    },
    {
      "cell_type": "code",
      "source": [
        "lista[1]"
      ],
      "metadata": {
        "colab": {
          "base_uri": "https://localhost:8080/"
        },
        "id": "JojR2w0jQKBj",
        "outputId": "b0cbe1ba-46e8-4009-db57-12ed921190c8"
      },
      "execution_count": null,
      "outputs": [
        {
          "output_type": "execute_result",
          "data": {
            "text/plain": [
              "9.5"
            ]
          },
          "metadata": {},
          "execution_count": 30
        }
      ]
    },
    {
      "cell_type": "code",
      "source": [
        "type(lista[1])"
      ],
      "metadata": {
        "colab": {
          "base_uri": "https://localhost:8080/"
        },
        "id": "DSVAU_6EQME1",
        "outputId": "8bc27c0c-4e28-4e9b-e92f-751b19b1bf50"
      },
      "execution_count": null,
      "outputs": [
        {
          "output_type": "execute_result",
          "data": {
            "text/plain": [
              "float"
            ]
          },
          "metadata": {},
          "execution_count": 31
        }
      ]
    },
    {
      "cell_type": "code",
      "source": [
        "lista[-2]"
      ],
      "metadata": {
        "colab": {
          "base_uri": "https://localhost:8080/"
        },
        "id": "CDIZFZRqQOeb",
        "outputId": "cbef1e21-1a2e-4849-8c8d-b56914396527"
      },
      "execution_count": null,
      "outputs": [
        {
          "output_type": "execute_result",
          "data": {
            "text/plain": [
              "9.7"
            ]
          },
          "metadata": {},
          "execution_count": 34
        }
      ]
    },
    {
      "cell_type": "code",
      "source": [
        "type(lista[-2])"
      ],
      "metadata": {
        "colab": {
          "base_uri": "https://localhost:8080/"
        },
        "id": "AuP44wtdQROK",
        "outputId": "41d461bd-0c1a-4f77-8b4f-1fd57f9e5574"
      },
      "execution_count": null,
      "outputs": [
        {
          "output_type": "execute_result",
          "data": {
            "text/plain": [
              "float"
            ]
          },
          "metadata": {},
          "execution_count": 35
        }
      ]
    },
    {
      "cell_type": "markdown",
      "source": [
        "Una forma más dinámica de trabajar item a item en una lista es utilizando un lazo `for` para leer un elemento a la vez."
      ],
      "metadata": {
        "id": "6TaE1ijmBTCd"
      }
    },
    {
      "cell_type": "code",
      "source": [
        "for elemento in lista:\n",
        "  print(elemento)"
      ],
      "metadata": {
        "id": "rBx4Yu1786Sy",
        "colab": {
          "base_uri": "https://localhost:8080/"
        },
        "outputId": "9dc59f44-6ad4-48fa-cfb4-2e69b666e049"
      },
      "execution_count": null,
      "outputs": [
        {
          "output_type": "stream",
          "name": "stdout",
          "text": [
            "Penélope Camacho\n",
            "9.5\n",
            "9.0\n",
            "9.7\n",
            "True\n"
          ]
        }
      ]
    },
    {
      "cell_type": "markdown",
      "source": [
        "**Situación**: La nota `9.0` de Penélope necesita ser ajustada pues ganó 1 punto en su última nota por participación en clase. Entonces es necesario realizar un cambio en el índice `2` de `9.0` a `10.0`."
      ],
      "metadata": {
        "id": "Dh1_HnIVvucY"
      }
    },
    {
      "cell_type": "code",
      "source": [
        "lista[2]=10.0"
      ],
      "metadata": {
        "id": "bVPoZg668z3T"
      },
      "execution_count": null,
      "outputs": []
    },
    {
      "cell_type": "code",
      "source": [
        "lista"
      ],
      "metadata": {
        "id": "Jo_PBQ0g8z7D",
        "colab": {
          "base_uri": "https://localhost:8080/"
        },
        "outputId": "d60cb522-7784-41b2-9e4e-a1a7a62e3320"
      },
      "execution_count": null,
      "outputs": [
        {
          "output_type": "execute_result",
          "data": {
            "text/plain": [
              "['Penélope Camacho',\n",
              " 9.5,\n",
              " 10.0,\n",
              " 9.7,\n",
              " True,\n",
              " 9.733333333333333,\n",
              " 9.733333333333333,\n",
              " 9.733333333333333]"
            ]
          },
          "metadata": {},
          "execution_count": 68
        }
      ]
    },
    {
      "cell_type": "markdown",
      "source": [
        "También podemos calcular el promedio del estudiante a partir de los datos que tenemos."
      ],
      "metadata": {
        "id": "53XduzXkycAf"
      }
    },
    {
      "cell_type": "code",
      "source": [
        "promedio = (lista[1]+lista[2]+lista[3]) /  3\n",
        "promedio"
      ],
      "metadata": {
        "id": "SIH61Rrb8yv4",
        "colab": {
          "base_uri": "https://localhost:8080/"
        },
        "outputId": "9a1a767c-ef4a-4205-9571-96020e77bae0"
      },
      "execution_count": null,
      "outputs": [
        {
          "output_type": "execute_result",
          "data": {
            "text/plain": [
              "9.733333333333333"
            ]
          },
          "metadata": {},
          "execution_count": 48
        }
      ]
    },
    {
      "cell_type": "code",
      "source": [
        "lenguaje = 'Python'"
      ],
      "metadata": {
        "id": "CaEwe2rXVo3T"
      },
      "execution_count": null,
      "outputs": []
    },
    {
      "cell_type": "code",
      "source": [
        "print (lenguaje[0],lenguaje[1],lenguaje[2],lenguaje[-1],lenguaje[-3],lenguaje[-2],lenguaje[-1])"
      ],
      "metadata": {
        "colab": {
          "base_uri": "https://localhost:8080/"
        },
        "id": "vrd9JbcbVsCe",
        "outputId": "07867f14-aa51-49ee-e18c-e3ef92a62d5c"
      },
      "execution_count": null,
      "outputs": [
        {
          "output_type": "stream",
          "name": "stdout",
          "text": [
            "P y t n h o n\n"
          ]
        }
      ]
    },
    {
      "cell_type": "code",
      "source": [
        "print (lenguaje[0],lenguaje[1],lenguaje[2],lenguaje[3],lenguaje[4],lenguaje[5])"
      ],
      "metadata": {
        "colab": {
          "base_uri": "https://localhost:8080/"
        },
        "id": "unj_5j28V-6l",
        "outputId": "461d1cc9-428d-4d79-b23e-9a17b60c699f"
      },
      "execution_count": null,
      "outputs": [
        {
          "output_type": "stream",
          "name": "stdout",
          "text": [
            "P y t h o n\n"
          ]
        }
      ]
    },
    {
      "cell_type": "code",
      "source": [
        "# metodo split()\n",
        "# convertir una cadena de caracteres a una lista mediante un delimitador establecido\n",
        "\n",
        "pregunta = '¿Quién vino primero? ¿El huevo? ¿O la serpiente?'\n",
        "print(pregunta)\n",
        "lista_palabras = pregunta.split('?')\n",
        "print(lista_palabras)\n",
        "\n"
      ],
      "metadata": {
        "colab": {
          "base_uri": "https://localhost:8080/"
        },
        "id": "WkEV24m0bbfu",
        "outputId": "91c89b8f-bc47-4b6f-fcfb-d213b5937296"
      },
      "execution_count": null,
      "outputs": [
        {
          "output_type": "stream",
          "name": "stdout",
          "text": [
            "¿Quién vino primero? ¿El huevo? ¿O la serpiente?\n",
            "['¿Quién vino primero', ' ¿El huevo', ' ¿O la serpiente', '']\n"
          ]
        }
      ]
    },
    {
      "cell_type": "code",
      "source": [
        "# metodo join()\n",
        "# convertir una lista en una secuencia de caracteres\n",
        "\n",
        "mezclas = ['pinturas: rojo, azul y amarillo', 'verde: mezclas de azul y amarillo','Naranja: mezclas de amarillo y rojo','Morado:mezclas de rojo y azul']\n",
        "print(mezclas)\n",
        "unificador= ' . '\n",
        "cadena_mezclas = unificador.join(mezclas)\n",
        "print(cadena_mezclas)"
      ],
      "metadata": {
        "colab": {
          "base_uri": "https://localhost:8080/"
        },
        "id": "9XsyW9Abca3m",
        "outputId": "8c644618-cf35-4572-9949-f3bcbda0e03f"
      },
      "execution_count": null,
      "outputs": [
        {
          "output_type": "stream",
          "name": "stdout",
          "text": [
            "['pinturas: rojo, azul y amarillo', 'verde: mezclas de azul y amarillo', 'Naranja: mezclas de amarillo y rojo', 'Morado:mezclas de rojo y azul']\n",
            "pinturas: rojo, azul y amarillo . verde: mezclas de azul y amarillo . Naranja: mezclas de amarillo y rojo . Morado:mezclas de rojo y azul\n"
          ]
        }
      ]
    },
    {
      "cell_type": "markdown",
      "source": [
        "## Manipulación de listas\n",
        "\n",
        "Las listas son muy útiles en Python porque nos permiten almacenar y acceder a una colección de items de manera organizada y rápida. Estas también ofrecen muchos métodos útiles para manipular los itens almacenados, como adicionar, remover, clasificar y buscar elementos."
      ],
      "metadata": {
        "id": "d-iYr10-y4qw"
      }
    },
    {
      "cell_type": "markdown",
      "source": [
        "#### Cantidad de elementos\n",
        "\n",
        "Usamos la función [`len()`](https://docs.python.org/3/library/functions.html#len) para descubrir la cantidad de elementos de un conjunto."
      ],
      "metadata": {
        "id": "ZLqx9A97XVB_"
      }
    },
    {
      "cell_type": "code",
      "source": [
        "# Muestra la cantidad de elementos de la lista\n",
        "len(lista)"
      ],
      "metadata": {
        "id": "6q1Tmm7P8wQf",
        "colab": {
          "base_uri": "https://localhost:8080/"
        },
        "outputId": "f834e8f6-594f-47c3-afe0-6e75f8a83a2a"
      },
      "execution_count": null,
      "outputs": [
        {
          "output_type": "execute_result",
          "data": {
            "text/plain": [
              "5"
            ]
          },
          "metadata": {},
          "execution_count": 60
        }
      ]
    },
    {
      "cell_type": "markdown",
      "source": [
        "#### Partición\n",
        "\n",
        "La partición de listas por indexación en Python es una técnica muy útil para seleccionar un subconjunto de elementos de una lista. Esta se realiza usando la sintaxis `lista[inicio:fin]`, donde `inicio` es el índice del primer elemento que será incluído en la partición `fin` es el índice del primer elemento que será excluído de la partición."
      ],
      "metadata": {
        "id": "Z5tpstlHJss3"
      }
    },
    {
      "cell_type": "code",
      "source": [
        "# Particion hasta el elemento de la posicion uno (la posicion dos no lo incluye)\n",
        "# muestra los elementos desde posicion cero hasta la posicion uno\n",
        "lista[0:2]"
      ],
      "metadata": {
        "id": "NctvJTTU8uV9",
        "colab": {
          "base_uri": "https://localhost:8080/"
        },
        "outputId": "72e1705d-131c-4257-d6f6-253b0bd94527"
      },
      "execution_count": null,
      "outputs": [
        {
          "output_type": "execute_result",
          "data": {
            "text/plain": [
              "['Penélope Camacho', 9.5]"
            ]
          },
          "metadata": {},
          "execution_count": 61
        }
      ]
    },
    {
      "cell_type": "code",
      "source": [
        "# Particion hasta el elemento de la posicion 2 (la posicion tres no lo incluye),\n",
        "# muestra los elementos desde posicion cero hasta la posicion dos\n",
        "lista[:3]"
      ],
      "metadata": {
        "id": "bQZUwldj8uY2",
        "colab": {
          "base_uri": "https://localhost:8080/"
        },
        "outputId": "eaa7b390-a053-4dfd-d1e2-e7e5f8af9d10"
      },
      "execution_count": null,
      "outputs": [
        {
          "output_type": "execute_result",
          "data": {
            "text/plain": [
              "['Penélope Camacho', 9.5, 10.0]"
            ]
          },
          "metadata": {},
          "execution_count": 62
        }
      ]
    },
    {
      "cell_type": "code",
      "source": [
        "# Particion desde el elemento de la posicion 3 hasta la ultima posición,\n",
        "# muestra los elementos desde posicion tres hasta la ultima posición\n",
        "lista[3:]"
      ],
      "metadata": {
        "colab": {
          "base_uri": "https://localhost:8080/"
        },
        "id": "dRAUGbCrkAeh",
        "outputId": "e598253e-307c-4500-a184-1f653c73deae"
      },
      "execution_count": null,
      "outputs": [
        {
          "output_type": "execute_result",
          "data": {
            "text/plain": [
              "[9.7, True]"
            ]
          },
          "metadata": {},
          "execution_count": 63
        }
      ]
    },
    {
      "cell_type": "code",
      "source": [
        "# Particion desde el elemento de la posicion 0 hasta la ultima posición,\n",
        "# muestra los elementos desde posicion 0 hasta la ultima posición. muestra todos los elementos de la lista\n",
        "lista[:]"
      ],
      "metadata": {
        "colab": {
          "base_uri": "https://localhost:8080/"
        },
        "id": "yAx8FxbykPx6",
        "outputId": "f65df41a-2835-4be3-f6f2-b0cae648ab32"
      },
      "execution_count": null,
      "outputs": [
        {
          "output_type": "execute_result",
          "data": {
            "text/plain": [
              "['Penélope Camacho', 9.5, 10.0, 9.7, True]"
            ]
          },
          "metadata": {},
          "execution_count": 64
        }
      ]
    },
    {
      "cell_type": "markdown",
      "source": [
        "#### [`append()`](https://docs.python.org/3/tutorial/datastructures.html#:~:text=of%20list%20objects%3A-,list.append(x),-Add%20an%20item)\n",
        "\n",
        "Añade un elemento al final de la lista."
      ],
      "metadata": {
        "id": "O0RRyabkRzZC"
      }
    },
    {
      "cell_type": "code",
      "source": [
        "# Añade un elemento al final de la lista\n",
        "lista.append(promedio)"
      ],
      "metadata": {
        "id": "_Q0oODwa8spC",
        "colab": {
          "base_uri": "https://localhost:8080/"
        },
        "outputId": "adbe88cd-730c-4674-fca4-babce90369bb"
      },
      "execution_count": null,
      "outputs": [
        {
          "output_type": "stream",
          "name": "stdout",
          "text": [
            "['Penélope Camacho', 9.5, 10.0, 9.7, True, 9.733333333333333, 9.733333333333333, 9.733333333333333]\n"
          ]
        }
      ]
    },
    {
      "cell_type": "code",
      "source": [
        "# Muestra la lista con el valor agregado\n",
        "print(lista)"
      ],
      "metadata": {
        "id": "RM894r2M8sse",
        "colab": {
          "base_uri": "https://localhost:8080/"
        },
        "outputId": "b08af114-ad53-4df0-8b26-7b71be5f6d12"
      },
      "execution_count": null,
      "outputs": [
        {
          "output_type": "stream",
          "name": "stdout",
          "text": [
            "['Penélope Camacho', 9.5, 10.0, 9.7, True, 9.733333333333333, 9.733333333333333, 9.733333333333333]\n"
          ]
        }
      ]
    },
    {
      "cell_type": "markdown",
      "source": [
        "#### [`extend()`](https://docs.python.org/3/tutorial/datastructures.html#:~:text=list.extend(iterable))\n",
        "\n",
        "Añade varios elementos al final de la lista.\n",
        "\n",
        "Añadiremos las notas `[10.0,8.0,9.0]` En la lista de Penélope Camacho."
      ],
      "metadata": {
        "id": "uQV91XMsUOJD"
      }
    },
    {
      "cell_type": "code",
      "source": [
        "# Añade varios elementos al final de la lista\n",
        "lista.extend([10.0,8.0,9.0])"
      ],
      "metadata": {
        "id": "6Zk2MpMw8rQc"
      },
      "execution_count": null,
      "outputs": []
    },
    {
      "cell_type": "code",
      "source": [
        "# Muestra la lista con el valor agregado\n",
        "print(lista)"
      ],
      "metadata": {
        "id": "NnoKkoWb8rTQ",
        "colab": {
          "base_uri": "https://localhost:8080/"
        },
        "outputId": "ef9e8e5a-a083-4e3b-b6d6-09bea8f53677"
      },
      "execution_count": null,
      "outputs": [
        {
          "output_type": "stream",
          "name": "stdout",
          "text": [
            "['Penélope Camacho', 9.5, 10.0, 9.7, True, 9.733333333333333, 9.733333333333333, 9.733333333333333, 10.0, 8.0, 9.0]\n"
          ]
        }
      ]
    },
    {
      "cell_type": "markdown",
      "source": [
        "*A continuación te mostraremos lo que no puede realizarse con* `append`."
      ],
      "metadata": {
        "id": "IVJvkTwNUk6M"
      }
    },
    {
      "cell_type": "code",
      "source": [
        "# NO se puede usar append() para adicionar varios elementos, ya que lo que se adiciona es una lista de esos elementos\n",
        "lista.append([10.0,8.0,9.0])"
      ],
      "metadata": {
        "id": "u3Eub2ZL8pp3"
      },
      "execution_count": null,
      "outputs": []
    },
    {
      "cell_type": "code",
      "source": [
        "# Muestra la lista con el valor agregado\n",
        "print(lista)"
      ],
      "metadata": {
        "id": "tsKK5Ne58pvN",
        "colab": {
          "base_uri": "https://localhost:8080/"
        },
        "outputId": "a902fc92-160e-46ae-8caf-dd1a2aa93dd2"
      },
      "execution_count": null,
      "outputs": [
        {
          "output_type": "stream",
          "name": "stdout",
          "text": [
            "['Penélope Camacho', 9.5, 10.0, 9.7, True, 9.733333333333333, 9.733333333333333, 9.733333333333333, 10.0, 8.0, 9.0, [10.0, 8.0, 9.0]]\n"
          ]
        }
      ]
    },
    {
      "cell_type": "markdown",
      "source": [
        "#### [`remove()`](https://docs.python.org/3/tutorial/datastructures.html#:~:text=append(x).-,list.remove(x),-Remove%20the%20first)\n",
        "\n",
        "Remueve un elemento específico de la lista."
      ],
      "metadata": {
        "id": "dPGM5gpyUX1z"
      }
    },
    {
      "cell_type": "code",
      "source": [
        "# Se usa este metodo para eliminar elementos de la lista,\n",
        "# se eliminara la lista adicionada anteriormente\n",
        "lista.remove([10.0,8.0,9.0])"
      ],
      "metadata": {
        "id": "mmboODPc8nd5"
      },
      "execution_count": null,
      "outputs": []
    },
    {
      "cell_type": "code",
      "source": [
        "# Muestra la lista con el valor agregado\n",
        "print(lista)"
      ],
      "metadata": {
        "id": "T_w6vVgV8nh_",
        "colab": {
          "base_uri": "https://localhost:8080/"
        },
        "outputId": "2a92db1d-8942-40fe-fbab-a25e49d8c999"
      },
      "execution_count": null,
      "outputs": [
        {
          "output_type": "stream",
          "name": "stdout",
          "text": [
            "['Penélope Camacho', 9.5, 10.0, 9.7, True, 9.733333333333333, 9.733333333333333, 9.733333333333333, 10.0, 8.0, 9.0]\n"
          ]
        }
      ]
    },
    {
      "cell_type": "code",
      "source": [
        "# Metodo insert()\n",
        "# Este metodo agrega un elemento en una posicion especifica\n",
        "# Definición lista\n",
        "razas_de_perros = ['Labrador Retriever',\n",
        "                   'Bulldog Francés',\n",
        "                   'Pastor Alemán',\n",
        "                   'Poodle']\n",
        "print(razas_de_perros)"
      ],
      "metadata": {
        "colab": {
          "base_uri": "https://localhost:8080/"
        },
        "id": "R3460wjPErqB",
        "outputId": "d9322135-8da9-4516-f2f5-32816bb0e4e2"
      },
      "execution_count": null,
      "outputs": [
        {
          "output_type": "stream",
          "name": "stdout",
          "text": [
            "['Labrador Retriever', 'Bulldog Francés', 'Pastor Alemán', 'Poodle']\n"
          ]
        }
      ]
    },
    {
      "cell_type": "code",
      "source": [
        "# Metodo insert()\n",
        "# Este metodo agrega un elemento en una posicion especifica\n",
        "razas_de_perros.insert(1, 'Golden Retriever')\n",
        "razas_de_perros"
      ],
      "metadata": {
        "colab": {
          "base_uri": "https://localhost:8080/"
        },
        "id": "DHZ2WOgxE-ld",
        "outputId": "b4cc04f2-23e2-4777-849d-4d04f6e38a42"
      },
      "execution_count": null,
      "outputs": [
        {
          "output_type": "execute_result",
          "data": {
            "text/plain": [
              "['Labrador Retriever',\n",
              " 'Golden Retriever',\n",
              " 'Bulldog Francés',\n",
              " 'Pastor Alemán',\n",
              " 'Poodle']"
            ]
          },
          "metadata": {},
          "execution_count": 2
        }
      ]
    },
    {
      "cell_type": "code",
      "source": [
        "# Esta estructura hace lo mismo que el metodo append()\n",
        "# nombre_lista.insert(len(nombre_lista), nombre del elemento a agregar)\n",
        "razas_de_perros.insert(len(razas_de_perros), 'Golden Retriever')\n",
        "razas_de_perros\n"
      ],
      "metadata": {
        "colab": {
          "base_uri": "https://localhost:8080/"
        },
        "id": "q6Qhl6mQFLdP",
        "outputId": "c54de846-8c47-4de3-a668-332e063e6e3b"
      },
      "execution_count": null,
      "outputs": [
        {
          "output_type": "execute_result",
          "data": {
            "text/plain": [
              "['Labrador Retriever',\n",
              " 'Golden Retriever',\n",
              " 'Bulldog Francés',\n",
              " 'Pastor Alemán',\n",
              " 'Poodle',\n",
              " 'Golden Retriever',\n",
              " 'Golden Retriever']"
            ]
          },
          "metadata": {},
          "execution_count": 4
        }
      ]
    },
    {
      "cell_type": "code",
      "source": [
        "# Metodo pop ()\n",
        "# Elimina un elemento con una posicion especifica de la lista\n",
        "# devuleve como salida el nombre del elemento eliminado\n",
        "# nombre_lista.pop(posicion_de_la_lista)\n",
        "razas_de_perros.pop(1)\n"
      ],
      "metadata": {
        "colab": {
          "base_uri": "https://localhost:8080/",
          "height": 35
        },
        "id": "uUMCZ8pOGvZe",
        "outputId": "6e6af2a7-c3e1-463b-d791-60e528177206"
      },
      "execution_count": null,
      "outputs": [
        {
          "output_type": "execute_result",
          "data": {
            "text/plain": [
              "'Golden Retriever'"
            ],
            "application/vnd.google.colaboratory.intrinsic+json": {
              "type": "string"
            }
          },
          "metadata": {},
          "execution_count": 6
        }
      ]
    },
    {
      "cell_type": "code",
      "source": [
        "# Metodo index ()\n",
        "# Busca el indice de un elemento y devuelve el indice, como argumento el nombre del elemento\n",
        "# nombre_lista.index('nombre_del_elemento')\n",
        "razas_de_perros.index('Pastor Alemán')"
      ],
      "metadata": {
        "colab": {
          "base_uri": "https://localhost:8080/"
        },
        "id": "LgrY_WuAHnBE",
        "outputId": "3f5cbea9-146a-4616-c307-f2b6fb03cb36"
      },
      "execution_count": null,
      "outputs": [
        {
          "output_type": "execute_result",
          "data": {
            "text/plain": [
              "2"
            ]
          },
          "metadata": {},
          "execution_count": 8
        }
      ]
    },
    {
      "cell_type": "code",
      "source": [
        "# Metodo sort()\n",
        "# ordena de forma ascedente o descendente los elementos de la lista\n",
        "# las palabras se ordenan de acuerdo al orden alfabetico\n",
        "razas_de_perros.sort()\n",
        "razas_de_perros"
      ],
      "metadata": {
        "colab": {
          "base_uri": "https://localhost:8080/"
        },
        "id": "hKD_HJWTIEko",
        "outputId": "13fa3330-3e42-4e5c-a4c6-b038de248d93"
      },
      "execution_count": null,
      "outputs": [
        {
          "output_type": "execute_result",
          "data": {
            "text/plain": [
              "['Bulldog Francés',\n",
              " 'Golden Retriever',\n",
              " 'Golden Retriever',\n",
              " 'Labrador Retriever',\n",
              " 'Pastor Alemán',\n",
              " 'Poodle']"
            ]
          },
          "metadata": {},
          "execution_count": 9
        }
      ]
    },
    {
      "cell_type": "markdown",
      "source": [
        "## Diccionario"
      ],
      "metadata": {
        "id": "Rc22Vc08YDZ2"
      }
    },
    {
      "cell_type": "markdown",
      "source": [
        "Los diccionarios son un tipo de estructura de datos que almacenan pares de *llave-valor*. Estos son delimitados por llaves `{}` y los pares *llave-valor* son separados por comas.\n",
        "\n",
        "```\n",
        "diccionario = {llave: valor}\n",
        "```\n",
        "\n",
        "La **llave** es un elemento único que identifica a un valor en el diccionario, mientras que el **valor** es el item que será almacenado para la llave. Las llaves y sus respectivos valores se pueden emplear para **cualquier tipo de dato**.\n",
        "\n",
        "Los diccionarios son útiles para almacenar y acceder a los datos de manera organizada y rápida. Se trata de un tipo de conjunto de elementos en Python, pues almacenan una colección de items."
      ],
      "metadata": {
        "id": "PJ-cCKPjeWxL"
      }
    },
    {
      "cell_type": "code",
      "source": [
        "# Creación de un diccionario con llaves y valores\n",
        "# diccionario = {llave:valor}\n",
        "diccionario = {'llave_1': 1,\n",
        "               'llave_2':2\n",
        "               }\n",
        "diccionario"
      ],
      "metadata": {
        "id": "NDHhzooE8ld5",
        "colab": {
          "base_uri": "https://localhost:8080/"
        },
        "outputId": "d894aaf2-23f7-448e-8d8d-1e02bf3c83a3"
      },
      "execution_count": null,
      "outputs": [
        {
          "output_type": "execute_result",
          "data": {
            "text/plain": [
              "{'llave_1': 1, 'llave_2': 2}"
            ]
          },
          "metadata": {},
          "execution_count": 10
        }
      ]
    },
    {
      "cell_type": "code",
      "source": [
        "type(diccionario)"
      ],
      "metadata": {
        "id": "AVOzqzy-8lhh",
        "colab": {
          "base_uri": "https://localhost:8080/"
        },
        "outputId": "f59b3c91-9eac-4f30-869e-a5676bf2aecc"
      },
      "execution_count": null,
      "outputs": [
        {
          "output_type": "execute_result",
          "data": {
            "text/plain": [
              "dict"
            ]
          },
          "metadata": {},
          "execution_count": 11
        }
      ]
    },
    {
      "cell_type": "markdown",
      "source": [
        "---\n",
        "**Situación:**\n",
        "\n",
        "Vamos a crear un conjunto de datos con las informaciones de matrícula de un estudiante. Los datos son los siguientes:\n",
        "\n",
        "- matrícula: 2000168933\n",
        "- día de registro: 25\n",
        "- mes de registro: 10\n",
        "- grupo: 2E"
      ],
      "metadata": {
        "id": "_JbQ3KMKfkXU"
      }
    },
    {
      "cell_type": "code",
      "source": [
        "# Creación diccionario con la información matrícula estudiante\n",
        "estudiante = {\n",
        "              'matrícula': 2000168933,\n",
        "              'día_registro': 25,\n",
        "              'mes_registro': 10,\n",
        "              'grupo': '2E'\n",
        "              }\n",
        "estudiante"
      ],
      "metadata": {
        "id": "0lfOu_c38jED",
        "colab": {
          "base_uri": "https://localhost:8080/"
        },
        "outputId": "f18b0263-96dd-463a-f743-25917a504adc"
      },
      "execution_count": null,
      "outputs": [
        {
          "output_type": "execute_result",
          "data": {
            "text/plain": [
              "{'matrícula': 2000168933,\n",
              " 'día_registro': 25,\n",
              " 'mes_registro': 10,\n",
              " 'grupo': '2E'}"
            ]
          },
          "metadata": {},
          "execution_count": 29
        }
      ]
    },
    {
      "cell_type": "code",
      "source": [
        "# ver el dato almacenado en la llave matricula\n",
        "estudiante['matrícula']"
      ],
      "metadata": {
        "id": "XIuqpTTy8jHV",
        "colab": {
          "base_uri": "https://localhost:8080/"
        },
        "outputId": "b032e0df-ba5b-4bd2-a584-cbed44bcbe86"
      },
      "execution_count": null,
      "outputs": [
        {
          "output_type": "execute_result",
          "data": {
            "text/plain": [
              "2000168933"
            ]
          },
          "metadata": {},
          "execution_count": 27
        }
      ]
    },
    {
      "cell_type": "code",
      "source": [
        "# ver el dato almacenado en la llave grupo\n",
        "estudiante['grupo']"
      ],
      "metadata": {
        "colab": {
          "base_uri": "https://localhost:8080/",
          "height": 35
        },
        "id": "sWjhmccfQyfO",
        "outputId": "b8b2c088-953f-4adb-8422-60f63625ae59"
      },
      "execution_count": null,
      "outputs": [
        {
          "output_type": "execute_result",
          "data": {
            "text/plain": [
              "'2E'"
            ],
            "application/vnd.google.colaboratory.intrinsic+json": {
              "type": "string"
            }
          },
          "metadata": {},
          "execution_count": 30
        }
      ]
    },
    {
      "cell_type": "markdown",
      "source": [
        "Es posible sustituir los valores dentro de una llave. Por ejemplo, recibimos la información de que el grupo del estudiante que registramos cambio a `'2G'` y ahora necesitamos cambiar el valor de la llave `'grupo'`."
      ],
      "metadata": {
        "id": "8ex5pt2ykDd2"
      }
    },
    {
      "cell_type": "code",
      "source": [
        "#modificar el grupo del estudiante de 2E a 2G\n",
        "estudiante['grupo']='2G'"
      ],
      "metadata": {
        "id": "kQGlp36b8fyP"
      },
      "execution_count": null,
      "outputs": []
    },
    {
      "cell_type": "code",
      "source": [
        "estudiante"
      ],
      "metadata": {
        "id": "DnfH_qHi8f17",
        "colab": {
          "base_uri": "https://localhost:8080/"
        },
        "outputId": "74749f25-412e-4f32-820b-a5dad8e83132"
      },
      "execution_count": null,
      "outputs": [
        {
          "output_type": "execute_result",
          "data": {
            "text/plain": [
              "{'matrícula': 2000168933,\n",
              " 'día_registro': 25,\n",
              " 'mes_registro': 10,\n",
              " 'grupo': '2G'}"
            ]
          },
          "metadata": {},
          "execution_count": 23
        }
      ]
    },
    {
      "cell_type": "markdown",
      "source": [
        "También podemos añadir otros datos al diccionario. Vamos a añadir la información sobre la modalidad de estudio, nuestro estudiante estudiará inicialemente en la modalidad EAD.\n",
        "\n",
        "Definiremos una llave llamada `'modalidad'` con el valor `'EAD'`."
      ],
      "metadata": {
        "id": "wB0qRb56mQvv"
      }
    },
    {
      "cell_type": "code",
      "source": [
        "#Adicionar nuevos datos al diccionario\n",
        "estudiante['modalidad'] = 'EAD'"
      ],
      "metadata": {
        "id": "EeLYdlIm8d8a"
      },
      "execution_count": null,
      "outputs": []
    },
    {
      "cell_type": "code",
      "source": [
        "estudiante"
      ],
      "metadata": {
        "id": "olDIavsm8d_o",
        "colab": {
          "base_uri": "https://localhost:8080/"
        },
        "outputId": "2ce1280c-6346-4361-c476-1dda4855d302"
      },
      "execution_count": null,
      "outputs": [
        {
          "output_type": "execute_result",
          "data": {
            "text/plain": [
              "{'matrícula': 2000168933,\n",
              " 'día_registro': 25,\n",
              " 'mes_registro': 10,\n",
              " 'grupo': '2G',\n",
              " 'modalidad': 'EAD'}"
            ]
          },
          "metadata": {},
          "execution_count": 34
        }
      ]
    },
    {
      "cell_type": "code",
      "source": [
        "# Ver la cantidad de datos en el diccionario estudiante\n",
        "len(estudiante)"
      ],
      "metadata": {
        "colab": {
          "base_uri": "https://localhost:8080/"
        },
        "id": "eFQeKdnMRSEY",
        "outputId": "1cf7c588-8552-410c-86d6-1841c4dc11cc"
      },
      "execution_count": null,
      "outputs": [
        {
          "output_type": "execute_result",
          "data": {
            "text/plain": [
              "5"
            ]
          },
          "metadata": {},
          "execution_count": 26
        }
      ]
    },
    {
      "cell_type": "markdown",
      "source": [
        "## Profundizando en diccionarios"
      ],
      "metadata": {
        "id": "LJ3o_inroxg_"
      }
    },
    {
      "cell_type": "markdown",
      "source": [
        "#### [`pop()`](https://python-reference.readthedocs.io/en/latest/docs/dict/pop.html)\n",
        "Remueve un item de un diccionario y lo representa en la salida."
      ],
      "metadata": {
        "id": "2N3GLlkSpBiu"
      }
    },
    {
      "cell_type": "code",
      "source": [
        "# Para remover la llave grupo se usa metodo pop()\n",
        "estudiante.pop('grupo')"
      ],
      "metadata": {
        "id": "ZsSCZx6G8b-T",
        "colab": {
          "base_uri": "https://localhost:8080/",
          "height": 35
        },
        "outputId": "39c4f2c7-1042-4bad-fa99-5c83da5f3fee"
      },
      "execution_count": null,
      "outputs": [
        {
          "output_type": "execute_result",
          "data": {
            "text/plain": [
              "'2G'"
            ],
            "application/vnd.google.colaboratory.intrinsic+json": {
              "type": "string"
            }
          },
          "metadata": {},
          "execution_count": 35
        }
      ]
    },
    {
      "cell_type": "code",
      "source": [
        "estudiante"
      ],
      "metadata": {
        "id": "7lQ8_jpi8cBR",
        "colab": {
          "base_uri": "https://localhost:8080/"
        },
        "outputId": "42c42eac-bb8e-400f-9e45-01108af95e2b"
      },
      "execution_count": null,
      "outputs": [
        {
          "output_type": "execute_result",
          "data": {
            "text/plain": [
              "{'matrícula': 2000168933,\n",
              " 'día_registro': 25,\n",
              " 'mes_registro': 10,\n",
              " 'modalidad': 'EAD'}"
            ]
          },
          "metadata": {},
          "execution_count": 36
        }
      ]
    },
    {
      "cell_type": "markdown",
      "source": [
        "#### [`items()`](https://python-reference.readthedocs.io/en/latest/docs/dict/items.html)\n",
        "Retorna una lista de pares `llave-valor` del diccionario."
      ],
      "metadata": {
        "id": "sYZGvJJYrW_y"
      }
    },
    {
      "cell_type": "code",
      "source": [
        "# metodo items\n",
        "#muestra los datos (pares llave-valor) que estan en el diccionario, devuelve una lista de llave:valor\n",
        "estudiante.items()"
      ],
      "metadata": {
        "id": "ncdycLV08an7",
        "colab": {
          "base_uri": "https://localhost:8080/"
        },
        "outputId": "982a42ce-0658-4c93-c264-05e3f0f902a9"
      },
      "execution_count": null,
      "outputs": [
        {
          "output_type": "execute_result",
          "data": {
            "text/plain": [
              "dict_items([('matrícula', 2000168933), ('día_registro', 25), ('mes_registro', 10), ('modalidad', 'EAD')])"
            ]
          },
          "metadata": {},
          "execution_count": 38
        }
      ]
    },
    {
      "cell_type": "markdown",
      "source": [
        "#### [`keys()`](https://python-reference.readthedocs.io/en/latest/docs/dict/keys.html)\n",
        "Retorna una lista de las llaves del diccionario."
      ],
      "metadata": {
        "id": "Lb0utNFGrZBY"
      }
    },
    {
      "cell_type": "code",
      "source": [
        "# metodo keys\n",
        "# muestra una lista con las llaves del diccionario\n",
        "estudiante.keys()"
      ],
      "metadata": {
        "id": "eZo0biaM8ZVs",
        "colab": {
          "base_uri": "https://localhost:8080/"
        },
        "outputId": "72dfd184-2a56-467e-a11e-ca5cb66b5511"
      },
      "execution_count": null,
      "outputs": [
        {
          "output_type": "execute_result",
          "data": {
            "text/plain": [
              "dict_keys(['matrícula', 'día_registro', 'mes_registro', 'modalidad'])"
            ]
          },
          "metadata": {},
          "execution_count": 39
        }
      ]
    },
    {
      "cell_type": "markdown",
      "source": [
        "#### [`values()`](https://python-reference.readthedocs.io/en/latest/docs/dict/values.html)\n",
        "Retorna una lista de los valores del diccionario."
      ],
      "metadata": {
        "id": "qKyu3bf9rbtX"
      }
    },
    {
      "cell_type": "code",
      "source": [
        "# metodo values\n",
        "# muestra una lista con los valores de las llaves del diccionario\n",
        "estudiante.values()"
      ],
      "metadata": {
        "id": "-NxRT9C18Yvo",
        "colab": {
          "base_uri": "https://localhost:8080/"
        },
        "outputId": "9f6bc546-b5f4-4483-e76a-f4f78432c9a1"
      },
      "execution_count": null,
      "outputs": [
        {
          "output_type": "execute_result",
          "data": {
            "text/plain": [
              "dict_values([2000168933, 25, 10, 'EAD'])"
            ]
          },
          "metadata": {},
          "execution_count": 40
        }
      ]
    },
    {
      "cell_type": "markdown",
      "source": [
        "### Lectura de valores con el lazo `for`"
      ],
      "metadata": {
        "id": "e3XVjR8Frp75"
      }
    },
    {
      "cell_type": "code",
      "source": [
        "# recorre el diccionario de estudiantes para imprimir lalista de las llaves de la lsita de estudiante\n",
        "for llave in estudiante.keys():\n",
        "  print(llave)"
      ],
      "metadata": {
        "id": "NYcjU-Ip8Xan",
        "colab": {
          "base_uri": "https://localhost:8080/"
        },
        "outputId": "a9109856-ea84-4c11-d459-fe7dba4de748"
      },
      "execution_count": null,
      "outputs": [
        {
          "output_type": "stream",
          "name": "stdout",
          "text": [
            "matrícula\n",
            "día_registro\n",
            "mes_registro\n",
            "modalidad\n"
          ]
        }
      ]
    },
    {
      "cell_type": "code",
      "source": [
        "# recorre el diccionario y recorre los pares datos llave:valor para para imprimir la lista de las llaves y valores de la lista de estudiante\n",
        "for llave,valor in estudiante.items():\n",
        "  print(llave,'-->',valor)"
      ],
      "metadata": {
        "id": "aAnpP1Wv8XfJ",
        "colab": {
          "base_uri": "https://localhost:8080/"
        },
        "outputId": "4caf03cc-9b2a-478f-8271-72f0fcbeab1a"
      },
      "execution_count": null,
      "outputs": [
        {
          "output_type": "stream",
          "name": "stdout",
          "text": [
            "matrícula --> 2000168933\n",
            "día_registro --> 25\n",
            "mes_registro --> 10\n",
            "modalidad --> EAD\n"
          ]
        }
      ]
    },
    {
      "cell_type": "code",
      "source": [
        "tienda = {'nombres': ['televisión', 'celular', 'notebook', 'geladeira', 'estufa'],\n",
        "          'precios': [2000, 1500, 3500, 4000, 1500]}"
      ],
      "metadata": {
        "id": "0mCpJKcVegmm"
      },
      "execution_count": null,
      "outputs": []
    },
    {
      "cell_type": "code",
      "source": [
        "for clave, elementos in tienda.items():\n",
        "  print(f'Clave: {clave}\\nElementos:')\n",
        "  for dato in elementos:\n",
        "    print(dato)"
      ],
      "metadata": {
        "id": "l2T1IACbei80",
        "outputId": "6bf06e97-dce0-46b0-9e6b-e6dd8064cd1d",
        "colab": {
          "base_uri": "https://localhost:8080/"
        }
      },
      "execution_count": null,
      "outputs": [
        {
          "output_type": "stream",
          "name": "stdout",
          "text": [
            "Clave: nombres\n",
            "Elementos:\n",
            "televisión\n",
            "celular\n",
            "notebook\n",
            "geladeira\n",
            "estufa\n",
            "Clave: precios\n",
            "Elementos:\n",
            "2000\n",
            "1500\n",
            "3500\n",
            "4000\n",
            "1500\n"
          ]
        }
      ]
    },
    {
      "cell_type": "code",
      "source": [
        "#metodo sum\n",
        "# suma los elementos de una secuencia o estructura de datos\n",
        "precio = [100.0,400.0,200.0]\n",
        "suma=sum(precio)\n",
        "suma"
      ],
      "metadata": {
        "colab": {
          "base_uri": "https://localhost:8080/"
        },
        "id": "LrXJbEqYI8rG",
        "outputId": "728f2e6a-1cfc-4b65-ccfa-5b80709770f5"
      },
      "execution_count": null,
      "outputs": [
        {
          "output_type": "execute_result",
          "data": {
            "text/plain": [
              "700.0"
            ]
          },
          "metadata": {},
          "execution_count": 1
        }
      ]
    },
    {
      "cell_type": "code",
      "source": [
        "# metodo help\n",
        "#muestra la documentación de funciones, metodos y otros elementos de python\n",
        "help(chr) # ayuda para entender la funcion chr"
      ],
      "metadata": {
        "colab": {
          "base_uri": "https://localhost:8080/"
        },
        "id": "J7XSbCTBKlpZ",
        "outputId": "a56db326-b189-4c5e-c6bb-7760a4b66681"
      },
      "execution_count": null,
      "outputs": [
        {
          "output_type": "stream",
          "name": "stdout",
          "text": [
            "Help on built-in function chr in module builtins:\n",
            "\n",
            "chr(i, /)\n",
            "    Return a Unicode string of one character with ordinal i; 0 <= i <= 0x10ffff.\n",
            "\n"
          ]
        }
      ]
    },
    {
      "cell_type": "code",
      "source": [
        "# metodo dir()\n",
        "# muestra una lista de atributos y metodos asociados a un elemento\n",
        "# definir elemento\n",
        "lista=[10,5,9]\n",
        "dir(lista)"
      ],
      "metadata": {
        "colab": {
          "base_uri": "https://localhost:8080/"
        },
        "id": "L-GCrSY_K6ay",
        "outputId": "7a58e1e8-334e-4135-ba9e-fce01328b713"
      },
      "execution_count": null,
      "outputs": [
        {
          "output_type": "execute_result",
          "data": {
            "text/plain": [
              "['__add__',\n",
              " '__class__',\n",
              " '__class_getitem__',\n",
              " '__contains__',\n",
              " '__delattr__',\n",
              " '__delitem__',\n",
              " '__dir__',\n",
              " '__doc__',\n",
              " '__eq__',\n",
              " '__format__',\n",
              " '__ge__',\n",
              " '__getattribute__',\n",
              " '__getitem__',\n",
              " '__getstate__',\n",
              " '__gt__',\n",
              " '__hash__',\n",
              " '__iadd__',\n",
              " '__imul__',\n",
              " '__init__',\n",
              " '__init_subclass__',\n",
              " '__iter__',\n",
              " '__le__',\n",
              " '__len__',\n",
              " '__lt__',\n",
              " '__mul__',\n",
              " '__ne__',\n",
              " '__new__',\n",
              " '__reduce__',\n",
              " '__reduce_ex__',\n",
              " '__repr__',\n",
              " '__reversed__',\n",
              " '__rmul__',\n",
              " '__setattr__',\n",
              " '__setitem__',\n",
              " '__sizeof__',\n",
              " '__str__',\n",
              " '__subclasshook__',\n",
              " 'append',\n",
              " 'clear',\n",
              " 'copy',\n",
              " 'count',\n",
              " 'extend',\n",
              " 'index',\n",
              " 'insert',\n",
              " 'pop',\n",
              " 'remove',\n",
              " 'reverse',\n",
              " 'sort']"
            ]
          },
          "metadata": {},
          "execution_count": 13
        }
      ]
    },
    {
      "cell_type": "code",
      "source": [
        "# usar el atributo sort\n",
        "lista.sort()\n",
        "lista"
      ],
      "metadata": {
        "colab": {
          "base_uri": "https://localhost:8080/"
        },
        "id": "XfTopbqlLRai",
        "outputId": "cb162b77-8749-4686-bf78-176769857c68"
      },
      "execution_count": null,
      "outputs": [
        {
          "output_type": "execute_result",
          "data": {
            "text/plain": [
              "[5, 9, 10]"
            ]
          },
          "metadata": {},
          "execution_count": 14
        }
      ]
    },
    {
      "cell_type": "markdown",
      "source": [
        "# **1.5.12 Desafío: Es hora de practicar!**"
      ],
      "metadata": {
        "id": "k08dAUglPWdL"
      }
    },
    {
      "cell_type": "code",
      "source": [
        "# 1 1 - Crea un programa que tenga la siguiente lista con los gastos de una empresa de papel\n",
        "# [2172.54, 3701.35, 3518.09, 3456.61, 3249.38, 2840.82, 3891.45, 3075.26, 2317.64, 3219.08].\n",
        "#Con estos valores, crea un programa que calcule el promedio de gastos. Sugerencia: usa las funciones integradas sum() y len().\n",
        "\n",
        "# crear lista de gastos de la empresa\n",
        "gastos_empresa = [2172.54, 3701.35, 3518.09, 3456.61, 3249.38, 2840.82, 3891.45, 3075.26, 2317.64, 3219.08]\n",
        "# programa para calular el promedio de gastos\n",
        "# se suman los gastos de la empresa la secuencia de datos\n",
        "suma_gastos = sum(gastos_empresa)\n",
        "# se cuenta la cantidad de gastos de la empresa\n",
        "numero_gastos = len(gastos_empresa)\n",
        "# calculo del promedio de gastos para la empresa\n",
        "promedio_gastos =  suma_gastos / numero_gastos\n",
        "\n",
        "# mostrar el promedio de los gastos de la empresa\n",
        "print(f'El total de gastos de la empresa es igual a: {suma_gastos}')\n",
        "print(f'El total de gastos de la empresa es: {numero_gastos}')\n",
        "print(f'El promedio de gastos de la empresa es: {promedio_gastos}')"
      ],
      "metadata": {
        "colab": {
          "base_uri": "https://localhost:8080/"
        },
        "id": "QnWC2XO8Pgmo",
        "outputId": "473e774f-25c2-4dae-83f4-b49e56146baf"
      },
      "execution_count": null,
      "outputs": [
        {
          "output_type": "stream",
          "name": "stdout",
          "text": [
            "El total de gastos de la empresa es igual a: 31442.22\n",
            "El total de gastos de la empresa es: 10\n",
            "El promedio de gastos de la empresa es: 3144.222\n"
          ]
        }
      ]
    },
    {
      "cell_type": "code",
      "source": [
        "# 2 2 - Con los mismos datos de la pregunta anterior,\n",
        "# determina cuántas compras se realizaron por encima de 3000 reales y calcula el porcentaje con respecto al total de compras.\n",
        "# se cuenta la cantidad de gastos de la empresa\n",
        "numero_gastos = len(gastos_empresa)\n",
        "# iniciar contador de variable compras mayores a 3000\n",
        "compras_mayores_3000 = 0\n",
        "# Programa para calcular la cantidad de ccompras mayores a 3000\n",
        "for i in gastos_empresa:\n",
        "  if i > 3000:\n",
        "    compras_mayores_3000 += 1\n",
        "# calculo de porcentaje compras mayores a 3000\n",
        "porcentaje_mayores_3000 = (compras_mayores_3000*100)/ numero_gastos\n",
        "# imprimir resultados\n",
        "print(f'La cantidad de compras mayores a 3000 reales son: {compras_mayores_3000}')\n",
        "print(f'El porcentaje de compras mayores a 3000 reales es: {porcentaje_mayores_3000} %')\n"
      ],
      "metadata": {
        "colab": {
          "base_uri": "https://localhost:8080/"
        },
        "id": "x3mBRoBCRs_K",
        "outputId": "555dbc43-6cb2-42a4-f4dc-e083985b7566"
      },
      "execution_count": null,
      "outputs": [
        {
          "output_type": "stream",
          "name": "stdout",
          "text": [
            "La cantidad de compras mayores a 3000 reales son: 7\n",
            "El porcentaje de compras mayores a 3000 reales es: 70.0 %\n"
          ]
        }
      ]
    },
    {
      "cell_type": "code",
      "source": [
        "# 3 - Crea un código que recoja en una lista 5 números enteros aleatorios e imprima la lista.\n",
        "#Ejemplo: [1, 4, 7, 2, 4].\n",
        "# definir variable como una lista vacia\n",
        "lista_aleatorio=[]\n",
        "#Programa para generar y recoger los 5 números enteros aleatorios\n",
        "\n",
        "for i in range(0,5):\n",
        "  numero_aleatorio = int(input('Ingrese un número entero aleatorio: '))\n",
        "  lista_aleatorio.append(numero_aleatorio)  # utiliza atributo append para adicionar numeros al final de la lista\n",
        "\n",
        "#mostrar la lista de 5 números enteros aleatorios\n",
        "print(f'Las lista de número enteros aleatorios es igual a: {lista_aleatorio}')\n"
      ],
      "metadata": {
        "colab": {
          "base_uri": "https://localhost:8080/"
        },
        "id": "J_-1TppDV_Oq",
        "outputId": "071cde17-ed84-4551-d998-aa108f1eae5f"
      },
      "execution_count": null,
      "outputs": [
        {
          "output_type": "stream",
          "name": "stdout",
          "text": [
            "Ingrese un número entero aleatorio: 98\n",
            "Ingrese un número entero aleatorio: 56\n",
            "Ingrese un número entero aleatorio: 34\n",
            "Ingrese un número entero aleatorio: 67\n",
            "Ingrese un número entero aleatorio: 4\n",
            "Las lista de número enteros aleatorios es igual a: [98, 56, 34, 67, 4]\n"
          ]
        }
      ]
    },
    {
      "cell_type": "code",
      "source": [
        "# 4 - Recoge nuevamente 5 números enteros e imprime la lista en orden inverso al enviado.\n",
        "# definir variable como una lista vacia\n",
        "lista_aleatorio_1=[]\n",
        "#Programa para generar y recoger los 5 números enteros aleatorios\n",
        "\n",
        "for i in range(0,5):\n",
        "  numero_aleatorio = int(input('Ingrese un número entero aleatorio: '))\n",
        "  lista_aleatorio_1.append(numero_aleatorio) # utiliza atributo append para adicionar numeros al final de la lista\n",
        "#  invierte el orden de los elementos en la lista\n",
        "#lista_aleatorio_1.reverse(). # modifica el orden de la lista inicial\n",
        "#mostrar la lista inversa de 5 números enteros aleatorios\n",
        "#print(f'Las lista de número enteros aleatorios es igual a: {lista_aleatorio_1}')\n",
        "print(f'Lista de números invertida: {lista_aleatorio_1[::-1]}') # no modifica el orden de la lista inicial."
      ],
      "metadata": {
        "colab": {
          "base_uri": "https://localhost:8080/"
        },
        "id": "Tk7ZTCz-Zre1",
        "outputId": "12f5bcb2-8c20-4d8a-e7cf-21e07879360b"
      },
      "execution_count": null,
      "outputs": [
        {
          "output_type": "stream",
          "name": "stdout",
          "text": [
            "Ingrese un número entero aleatorio: 54\n",
            "Ingrese un número entero aleatorio: 09\n",
            "Ingrese un número entero aleatorio: 45\n",
            "Ingrese un número entero aleatorio: 6713\n",
            "Ingrese un número entero aleatorio: 65\n",
            "Lista de números invertida: [65, 6713, 45, 9, 54]\n"
          ]
        }
      ]
    },
    {
      "cell_type": "code",
      "source": [
        "# 5 - Crea un programa que, al ingresar un número cualquiera,\n",
        "# genere una lista que contenga todos los números primos entre 1 y el número ingresado.\n",
        "'''# Recopilamos el número\n",
        "numero = int(input('Ingresa un número entero: '))\n",
        "# Lista para almacenar los números primos\n",
        "lista_primos = []\n",
        "# Bucle que recorre todos los números por debajo del número ingresado\n",
        "for num in range(2, numero):\n",
        "  # Primo es una bandera que nos permite saber si el valor analizado es primo o no.\n",
        "  primo = True\n",
        "  # Probamos si todos los números por debajo del especificado en el primer bucle pueden dar una división exacta.\n",
        "  for prueba_divisibles in range(2, num):\n",
        "    if num % prueba_divisibles == 0:\n",
        "      # Si es divisible por algún número, entendemos que el número no es primo y terminamos el bucle interno con break.\n",
        "      primo = False\n",
        "      break\n",
        "  # La condición se convierte en el resultado booleano de primo: False. Ignoramos la condición True y ejecutamos el bloque del if.\n",
        "  if primo:\n",
        "    lista_primos.append(num)\n",
        "# Resultado\n",
        "print(f'Lista de números primos: {lista_primos}')\n",
        "'''\n",
        "# definir variable como una lista vacia\n",
        "lista_numero_primo=[]\n",
        "# Pedir el número al usuario\n",
        "numero_ingresado = int(input('Ingrese un número entero: '))\n",
        "#Programa para generar la lista de números primos\n",
        "\n",
        "for i in range(1,numero_ingresado+1):\n",
        "  if i > 1:\n",
        "    for p in range(2,i):  # evalua si el número i es primo o no\n",
        "      if (i % p == 0):   # si el modulo entre la variable i y la variable p es igual a cero la Variable i NO es número primo\n",
        "        break  # rompe el ciclo for\n",
        "    else:\n",
        "      lista_numero_primo.append(i) # adiciona el numero i en la lista de numeros primos\n",
        "\n",
        "print (f'La lista de numero primos entre 1 y el número {numero_ingresado} es igual a : {lista_numero_primo}')\n",
        "\n"
      ],
      "metadata": {
        "colab": {
          "base_uri": "https://localhost:8080/"
        },
        "id": "hF9FPRBhcjid",
        "outputId": "300db1be-6d11-4a97-a031-c35e4d777308"
      },
      "execution_count": null,
      "outputs": [
        {
          "output_type": "stream",
          "name": "stdout",
          "text": [
            "Ingrese un número entero: 12\n",
            "La lista de numero primos entre 1 y el número 12 es igual a : [2, 3, 5, 7, 11]\n"
          ]
        }
      ]
    },
    {
      "cell_type": "code",
      "source": [
        "# 6 - Escribe un programa que pida una fecha, especificando el día, mes y año, y determine si es válida para su análisis.\n",
        "\n",
        "# Pedir la fecha al usuario\n",
        "dia_usuario = int(input('Ingrese el día, por favor: '))\n",
        "mes_usuario = int(input('Ingrese el mes, por favor: '))\n",
        "ano_usuario = int(input('Ingrese el año, por favor: '))\n",
        "\n",
        "# programa para verificar si es una fecha valida\n",
        "\n",
        "# Revisar el mes de febrero\n",
        "if mes_usuario == 2:\n",
        "  # Evaluar si es año bisiesto o no\n",
        "  if ano_usuario % 4 == 0 and (ano_usuario % 400 == 0 or ano_usuario % 100 != 0):\n",
        "    dias_febrero = 29\n",
        "  else:\n",
        "    dias_febrero = 28\n",
        "\n",
        "  # verificar si eldia ingresado se encuentra dentor de los dias del mes de febrero\n",
        "  if dia_usuario>=1 and dia_usuario <= dias_febrero:\n",
        "    print('Fecha válida')\n",
        "    print(f'La fecha ingresada fue: {dia_usuario}/{mes_usuario}/{ano_usuario}.')1\n",
        "  else:\n",
        "    print('Fecha inválida')\n",
        "    print(f'La fecha ingresada fue: {dia_usuario}/{mes_usuario}/{ano_usuario}.')\n",
        "\n",
        "# verificar meses que terminan en 31 días\n",
        "elif mes_usuario in [1,3,5,7,8,10,12]:\n",
        "  if dia_usuario >=1 and dia_usuario <= 31:\n",
        "    print('Fecha válida')\n",
        "    print(f'La fecha ingresada fue: {dia_usuario}/{mes_usuario}/{ano_usuario}.')\n",
        "  else:\n",
        "    print('Fecha inválida')\n",
        "    print(f'La fecha ingresada fue: {dia_usuario}/{mes_usuario}/{ano_usuario}.')\n",
        "\n",
        "# verificar meses que terminan en 30 días\n",
        "elif mes_usuario in [4,6,9,11]:\n",
        "  if dia_usuario >=1 and dia_usuario <= 30:\n",
        "    print('Fecha válida')\n",
        "    print(f'La fecha ingresada fue: {dia_usuario}/{mes_usuario}/{ano_usuario}.')\n",
        "  else:\n",
        "    print('Fecha inválida')\n",
        "    print(f'La fecha ingresada fue: {dia_usuario}/{mes_usuario}/{ano_usuario}.')\n",
        "# si el mes no se encuentra ente 1 y 12\n",
        "else:\n",
        "  print('Fecha inválida')\n",
        "  print(f'La fecha ingresada fue: {dia_usuario}/{mes_usuario}/{ano_usuario}.')\n",
        "\n"
      ],
      "metadata": {
        "colab": {
          "base_uri": "https://localhost:8080/"
        },
        "id": "RnEc3qi_hkEc",
        "outputId": "83f2cd7c-af90-4730-a880-5f0f4ff3815a"
      },
      "execution_count": null,
      "outputs": [
        {
          "output_type": "stream",
          "name": "stdout",
          "text": [
            "Ingrese el día, por favor: 12\n",
            "Ingrese el mes, por favor: 2\n",
            "Ingrese el año, por favor: 67\n",
            "Fecha válida\n",
            "La fecha ingresada fue: 12/2/67.\n"
          ]
        }
      ]
    },
    {
      "cell_type": "code",
      "source": [
        "# 7 - Para un estudio sobre la multiplicación de bacterias en una colonia,\n",
        "#se recopiló el número de bacterias multiplicadas por día y se puede observar a continuación:\n",
        " #[1.2, 2.1, 3.3, 5.0, 7.8, 11.3, 16.6, 25.1, 37.8, 56.9].\n",
        " #Con estos valores, crea un código que genere una lista que contenga el porcentaje de crecimiento de bacterias por día,\n",
        " #comparando el número de bacterias en cada día con el número de bacterias del día anterior.\n",
        "#Sugerencia: para calcular el porcentaje de crecimiento, utiliza la siguiente ecuación: 100 * (muestra_actual - muestra_anterior) / muestra_anterior.\n",
        "\n",
        "# definir lista de número de bacterias por día\n",
        "bacterias_por_dia = [1.2, 2.1, 3.3, 5.0, 7.8, 11.3, 16.6, 25.1, 37.8, 56.9]\n",
        "# cantidad de elementos en la lista (dias)\n",
        "cantidad_dias = len(bacterias_por_dia)\n",
        "# crear lista para calcular porcentaje\n",
        "porcentaje_crecimiento = []\n",
        "\n",
        "for i in range(1,cantidad_dias):\n",
        "  calculo_porcentaje = (100 * ((bacterias_por_dia[i] - (bacterias_por_dia[i-1])) / (bacterias_por_dia[i-1])))\n",
        "  porcentaje_crecimiento.append(calculo_porcentaje)\n",
        "# recorre lalista y la redondea a tres digitos despues del punto decimal\n",
        "porcentaje_crecimiento_redondeado = [round(x,3) for x in porcentaje_crecimiento]\n",
        "\n",
        "print(f'El porcentaje de crecimiento de las bacterias por dias es igual a: {porcentaje_crecimiento_redondeado}')"
      ],
      "metadata": {
        "colab": {
          "base_uri": "https://localhost:8080/"
        },
        "id": "pUe3CpYnGaFk",
        "outputId": "1a2cb613-ad43-4191-e4e5-9102fb922ab4"
      },
      "execution_count": null,
      "outputs": [
        {
          "output_type": "stream",
          "name": "stdout",
          "text": [
            "El porcentaje de crecimiento de las bacterias por dias es igual a: [75.0, 57.143, 51.515, 56.0, 44.872, 46.903, 51.205, 50.598, 50.529]\n"
          ]
        }
      ]
    },
    {
      "cell_type": "code",
      "source": [
        "# 8 - Para una selección de productos alimenticios, debemos separar el conjunto de IDs proporcionados por números enteros,\n",
        "#sabiendo que los productos con ID par son dulces y los que tienen ID impar son amargos.\n",
        "#Crea un código que recoja 10 IDs. Luego, calcula y muestra la cantidad de productos dulces y amargos.\n",
        "\n",
        "# crear variable lista que va a almacenar los IDS\n",
        "IDS = []\n",
        "IDS_dulces = []\n",
        "\n",
        "IDS_amargos = []\n",
        "\n",
        "# programa que va a recoger los IDS\n",
        "for i in range (1,11):\n",
        "  IDs = int(input(f'Ingrese el ID de los dulces amargos (ID impar) o dulces (ID par), por favor: '))\n",
        "  IDS.append(IDs)\n",
        "# programa para clasificar los IDs en dulces (par) o amargos (impar)\n",
        "for IDs in IDS:\n",
        "    if IDs % 2 == 0:\n",
        "      IDS_dulces.append(IDs)\n",
        "    else:\n",
        "      IDS_amargos.append(IDs)\n",
        "\n",
        "print(f'La lista de IDS es igual a: {IDS}')\n",
        "print(f'La cantidad de dulces es igual a: {len(IDS_dulces)}')\n",
        "print(f'La cantidad de amargos es igual a: {len(IDS_amargos)}')\n"
      ],
      "metadata": {
        "colab": {
          "base_uri": "https://localhost:8080/"
        },
        "id": "ExhPT2hBL5gZ",
        "outputId": "7e7fc5ff-b485-4b18-aab1-06527552ac30"
      },
      "execution_count": null,
      "outputs": [
        {
          "output_type": "stream",
          "name": "stdout",
          "text": [
            "Ingrese el ID de los dulces amargos (ID impar) o dulces (ID par), por favor: 12\n",
            "Ingrese el ID de los dulces amargos (ID impar) o dulces (ID par), por favor: 56\n",
            "Ingrese el ID de los dulces amargos (ID impar) o dulces (ID par), por favor: 78\n",
            "Ingrese el ID de los dulces amargos (ID impar) o dulces (ID par), por favor: 90\n",
            "Ingrese el ID de los dulces amargos (ID impar) o dulces (ID par), por favor: 44\n",
            "Ingrese el ID de los dulces amargos (ID impar) o dulces (ID par), por favor: 42\n",
            "Ingrese el ID de los dulces amargos (ID impar) o dulces (ID par), por favor: 56\n",
            "Ingrese el ID de los dulces amargos (ID impar) o dulces (ID par), por favor: 76\n",
            "Ingrese el ID de los dulces amargos (ID impar) o dulces (ID par), por favor: 72\n",
            "Ingrese el ID de los dulces amargos (ID impar) o dulces (ID par), por favor: 2\n",
            "La lista de IDS es igual a: [12, 56, 78, 90, 44, 42, 56, 76, 72, 2]\n",
            "La cantidad de dulces es igual a: 10\n",
            "La cantidad de amargos es igual a: 0\n"
          ]
        }
      ]
    },
    {
      "cell_type": "code",
      "source": [
        "# 9 - Desarrolla un programa que informe la puntuación de un estudiante de acuerdo con sus respuestas.\n",
        "# Debe pedir la respuesta del estudiante para cada pregunta y verificar si la respuesta coincide con el resultado.\n",
        "# Cada pregunta vale un punto y hay opciones A, B, C o D.\n",
        "\n",
        "# crea variable lista para almacenar respuestas correctas\n",
        "respuestas_correctas=['D','A','C','B','A','D','C','C','A','B']\n",
        "\n",
        "# crea variable lista para almacenar respuestas estudiante\n",
        "lista_respuestas_estudiante = []\n",
        "\n",
        "puntaje=0\n",
        "\n",
        "# programa que va a recoger las notas del estudiante\n",
        "\n",
        "for i in range (0,10):\n",
        "      respuestas_estudiante = input(f'Pregunta No. {i+1}. Ingrese las respuestas del estudiante (opciones A,B,C y D), por favor: ').upper()\n",
        "\n",
        "# valida que la informacion ingresada sea la correcta\n",
        "      if respuestas_estudiante != 'A' and respuestas_estudiante != 'B' and respuestas_estudiante != 'C' and respuestas_estudiante != 'D':\n",
        "          print('Por favor ingrese un valor válido')\n",
        "          break\n",
        "      else:\n",
        "          lista_respuestas_estudiante.append(respuestas_estudiante)\n",
        "\n",
        "for nota in range(0,10):\n",
        "    if lista_respuestas_estudiante[nota] == respuestas_correctas[nota]:\n",
        "        puntaje +=1\n",
        "\n",
        "print(f'Las respuestas del estudiante en el examen fueron: {lista_respuestas_estudiante}')\n",
        "print(f'Las respuestas correctas del examen son: {respuestas_correctas}')\n",
        "print(f'El puntaje del estudiante es igual a: {puntaje}')\n"
      ],
      "metadata": {
        "colab": {
          "base_uri": "https://localhost:8080/"
        },
        "id": "e4RjHYKHUpMl",
        "outputId": "c8e93b3c-3612-44e8-b6e7-b763f8d8ffa8"
      },
      "execution_count": null,
      "outputs": [
        {
          "output_type": "stream",
          "name": "stdout",
          "text": [
            "Pregunta No. 1. Ingrese las respuestas del estudiante (opciones A,B,C y D), por favor: A\n",
            "Pregunta No. 2. Ingrese las respuestas del estudiante (opciones A,B,C y D), por favor: B\n",
            "Pregunta No. 3. Ingrese las respuestas del estudiante (opciones A,B,C y D), por favor: C\n",
            "Pregunta No. 4. Ingrese las respuestas del estudiante (opciones A,B,C y D), por favor: D\n",
            "Pregunta No. 5. Ingrese las respuestas del estudiante (opciones A,B,C y D), por favor: A\n",
            "Pregunta No. 6. Ingrese las respuestas del estudiante (opciones A,B,C y D), por favor: D\n",
            "Pregunta No. 7. Ingrese las respuestas del estudiante (opciones A,B,C y D), por favor: C\n",
            "Pregunta No. 8. Ingrese las respuestas del estudiante (opciones A,B,C y D), por favor: C\n",
            "Pregunta No. 9. Ingrese las respuestas del estudiante (opciones A,B,C y D), por favor: A\n",
            "Pregunta No. 10. Ingrese las respuestas del estudiante (opciones A,B,C y D), por favor: B\n",
            "Las respuestas del estudiante en el examen fueron: ['A', 'B', 'C', 'D', 'A', 'D', 'C', 'C', 'A', 'B']\n",
            "Las respuestas correctas del examen son: ['D', 'A', 'C', 'B', 'A', 'D', 'C', 'C', 'A', 'B']\n",
            "El puntaje del estudiante es igual a: 7\n"
          ]
        }
      ]
    },
    {
      "cell_type": "code",
      "source": [
        "# 10 - Un instituto de meteorología desea realizar un estudio de la temperatura media de cada mes del año.\n",
        "#Para ello, debes crear un código que recoja y almacene esas temperaturas medias en una lista.\n",
        "#Luego, calcula el promedio anual de las temperaturas y muestra todas las temperaturas por encima del promedio anual\n",
        "#y en qué mes ocurrieron, mostrando los meses por su nombre (Enero, Febrero, etc.).\n",
        "\n",
        "# crea variable lista para almacenar las temperaturas media de cada mes del año\n",
        "lista_temp_media_mes = []\n",
        "temp_superiores_promedio = []\n",
        "meses=['Enero','Febrero','Marzo','Abril','Mayo', 'Junio', 'Julio', 'Agosto', 'Septiembre', 'Octubre', 'Noviembre', 'Diciembre']\n",
        "# programa que va a recoger las temperaturas medias de cada mes\n",
        "\n",
        "for i in range (0,12):\n",
        "\n",
        "      temperatura_media = float(input(f'Digitar la temperatura media del mes No.{i+1}, por favor: '))\n",
        "      #temperatura_media.append(float(input(f'Digitar la temperatura media del mes No.{i+1}, por favor: ')))\n",
        "      lista_temp_media_mes.append(temperatura_media)  # Adiciona la temperatura de cada mes\n",
        "\n",
        "#calculo del promedio de la temperatura por año\n",
        "\n",
        "promedio_año_temp = sum(lista_temp_media_mes) / len(lista_temp_media_mes)\n",
        "\n",
        "# evaluar cuales temperaturas fueron mayor al promedio\n",
        "for tsup in range (0,12):\n",
        "  if lista_temp_media_mes[tsup] > promedio_año_temp:\n",
        "    temp_superiores_promedio.append(tsup)\n",
        "    #imprime el mes con las temperatura superiores al promedio\n",
        "    print(meses[tsup])\n",
        "\n",
        "#imprime lista de las temp mensuales\n",
        "print(lista_temp_media_mes)\n",
        "print(f'La temperatura promedio anual es igual a: {promedio_año_temp}')\n",
        "# imprime la posicion donde se encuentra la temp mensual mayor al promedio\n",
        "print(f'Las temperaturas medias que superaron la temperatura promedio anual se ubican en la siguientes posiciones de la lista: {temp_superiores_promedio}')\n",
        "\n",
        "\n",
        "\n"
      ],
      "metadata": {
        "colab": {
          "base_uri": "https://localhost:8080/"
        },
        "id": "gehiJpAWiODM",
        "outputId": "b5e11298-4521-4918-8ea6-211472c11365"
      },
      "execution_count": null,
      "outputs": [
        {
          "output_type": "stream",
          "name": "stdout",
          "text": [
            "Digitar la temperatura media del mes No.1, por favor: 12\n",
            "Digitar la temperatura media del mes No.2, por favor: 1\n",
            "Digitar la temperatura media del mes No.3, por favor: 11.4\n",
            "Digitar la temperatura media del mes No.4, por favor: 13\n",
            "Digitar la temperatura media del mes No.5, por favor: 14.3\n",
            "Digitar la temperatura media del mes No.6, por favor: 15.6\n",
            "Digitar la temperatura media del mes No.7, por favor: 145\n",
            "Digitar la temperatura media del mes No.8, por favor: 17\n",
            "Digitar la temperatura media del mes No.9, por favor: 12\n",
            "Digitar la temperatura media del mes No.10, por favor: 11\n",
            "Digitar la temperatura media del mes No.11, por favor: 3\n",
            "Digitar la temperatura media del mes No.12, por favor: 8\n",
            "Julio\n",
            "[12.0, 1.0, 11.4, 13.0, 14.3, 15.6, 145.0, 17.0, 12.0, 11.0, 3.0, 8.0]\n",
            "La temperatura promedio anual es igual a: 21.941666666666666\n",
            "Las temperaturas medias que superaron la temperatura promedio anual se ubican en la siguientes posiciones de la lista: [6]\n"
          ]
        },
        {
          "output_type": "execute_result",
          "data": {
            "text/plain": [
              "1"
            ]
          },
          "metadata": {},
          "execution_count": 1
        }
      ]
    },
    {
      "cell_type": "code",
      "source": [
        "# Una empresa de comercio electrónico está interesada en analizar las ventas de sus productos.\n",
        "# Los datos de ventas se han almacenado en un diccionario:\n",
        "#{'Producto A': 300, 'Producto B': 80, 'Producto C': 60, 'Producto D': 200, 'Producto E': 250, 'Producto F': 30}\n",
        "# Escribe un código que calcule el total de ventas y el producto más vendido.\n",
        "\n",
        "'''\n",
        "# Diccionario de ventas\n",
        "datos_ventas = {'Producto A': 300, 'Producto B': 80, 'Producto C': 60, 'Producto D': 200, 'Producto E': 250, 'Producto F': 30}\n",
        "\n",
        "# Inicializamos las variables\n",
        "total_ventas = 0  # Sumará todas las ventas\n",
        "producto_mas_vendido = ''  # Almacenará el nombre del producto más vendido\n",
        "unidades_producto_mas_vendido = 0  # Almacenará la cantidad más alta de ventas\n",
        "\n",
        "# Recorremos las claves y elementos del diccionario\n",
        "for producto in datos_ventas.keys():\n",
        "    # Sumamos el total de ventas\n",
        "    total_ventas += datos_ventas[producto]\n",
        "    # Verificamos si el valor de ventas actual (datos_ventas[producto]) es mayor que el valor almacenado en unidades_producto_mas_vendido\n",
        "    # Cada vez que datos_ventas[producto] supere el valor en unidades_producto_mas_vendido,\n",
        "    # la variable unidades_producto_mas_vendido será igual a datos_ventas[producto], asignando un nuevo valor\n",
        "    # De manera similar, producto_mas_vendido también se actualiza con el producto actual\n",
        "    if datos_ventas[producto] > unidades_producto_mas_vendido:\n",
        "        unidades_producto_mas_vendido = datos_ventas[producto]\n",
        "        producto_mas_vendido = producto\n",
        "\n",
        "\n",
        "# Resultados\n",
        "print(f'Total de ventas es {total_ventas}')\n",
        "print(f'{producto_mas_vendido} es el más vendido')\n",
        "'''\n",
        "\n",
        "# Definición del diccionario de los datos de las ventas de los productos\n",
        "\n",
        "ventas_productos = {'Producto A': 300, 'Producto B': 80, 'Producto C': 60, 'Producto D': 200, 'Producto E': 250, 'Producto F': 30}\n",
        "total_ventas = 0. # Suma todas las unidades vendidas\n",
        "producto_mas_vendido = ''  # guarde el nombre del producto más vendido\n",
        "unidades_producto_mas_vendido = 0 # guarda la unidades del producto más vendido\n",
        "\n",
        "# calcular el valor de las ventas\n",
        "\n",
        "for producto,unidades in ventas_productos.items():     # la variable producto recorre los items del diccionario\n",
        "  total_ventas += unidades  # variable que va sumando o acumulando el valor de las ventas totales de los productos\n",
        "  if unidades > unidades_producto_mas_vendido: # compara el valor de las ventas del producto x con el valor de las ventas del producto con más ventas\n",
        "    unidades_producto_mas_vendido = unidades\n",
        "    producto_mas_vendido = producto\n",
        "\n",
        "#Mostrar el total de ventas y el producto más vendido\n",
        "print(f'La venta total de los productos es igual a: {total_ventas}')\n",
        "print(f'El producto más vendido es: {producto_mas_vendido}')\n",
        "print(f'Las ventas obtenidas del producto más vendido: {unidades_producto_mas_vendido}')"
      ],
      "metadata": {
        "colab": {
          "base_uri": "https://localhost:8080/"
        },
        "id": "vA-tgBUo4jDh",
        "outputId": "ba870c7a-26d3-491d-9850-33c89fe2730e"
      },
      "execution_count": null,
      "outputs": [
        {
          "output_type": "stream",
          "name": "stdout",
          "text": [
            "La venta total de los productos es igual a: 920.0\n",
            "El producto más vendido es: Producto A\n",
            "Las ventas obtenidas del prodcuto más vendido: 300\n"
          ]
        }
      ]
    },
    {
      "cell_type": "code",
      "source": [
        "# 12 - Se realizó una encuesta de mercado para decidir cuál diseño de marca infantil es más atractivo para los niños.\n",
        "#Los votos de la encuesta se pueden ver a continuación:\n",
        "\n",
        "'''Tabla de votos de la marca\n",
        "Diseño 1 - 1334 votos\n",
        "Diseño 2 - 982 votos\n",
        "Diseño 3 - 1751 votos\n",
        "Diseño 4 - 210 votos\n",
        "Diseño 5 - 1811 votos\n",
        "'''\n",
        "#Adapta los datos proporcionados a una estructura de diccionario.\n",
        "#A partir de ello, informa el diseño ganador y el porcentaje de votos recibidos.\n",
        "\n",
        "#creacion del diccionario con los datos de la votación\n",
        "\n",
        "total_votos = 0\n",
        "diseno_ganador = ''\n",
        "votos_del_ganador = 0\n",
        "\n",
        "votos_marca ={\n",
        "              'Diseño 1': 1334,\n",
        "              'Diseño 2': 982,\n",
        "              'Diseño 3': 1751,\n",
        "              'Diseño 4': 210,\n",
        "              'Diseño 5': 1811\n",
        "              }\n",
        "\n",
        "for diseno,votos in votos_marca.items():\n",
        "  total_votos += votos\n",
        "  if votos > votos_del_ganador:\n",
        "    votos_del_ganador = votos\n",
        "    diseno_ganador = diseno\n",
        "\n",
        "porcentaje_ganador = (votos_del_ganador/total_votos)*100\n",
        "\n",
        "\n",
        "#Mostrar el ganador de la votación y el porcentaje de votos por cada diseño\n",
        "\n",
        "print(f'El diseño ganador es: {diseno_ganador}')\n",
        "print(f'El porcentaje de votos de ganador es: {porcentaje_ganador} %')\n"
      ],
      "metadata": {
        "colab": {
          "base_uri": "https://localhost:8080/"
        },
        "id": "2nvdZya0FyLb",
        "outputId": "4ebe6247-9005-4d2c-daf7-c5368d0c3e6e"
      },
      "execution_count": null,
      "outputs": [
        {
          "output_type": "stream",
          "name": "stdout",
          "text": [
            "El diseño ganador es: Diseño 5\n",
            "El porcentaje de votos de ganador es: 29.747043363994745 %\n"
          ]
        }
      ]
    },
    {
      "cell_type": "code",
      "source": [
        "# Los empleados de un departamento de tu empresa recibirán una bonificación del 10% de su salario debido a un excelente\n",
        "#rendimiento del equipo. El departamento de finanzas ha solicitado tu ayuda para verificar las consecuencias\n",
        "#financieras de esta bonificación en los recursos. Se te ha enviado una lista con los salarios que recibirán\n",
        "#la bonificación: [1172, 1644, 2617, 5130, 5532, 6341, 6650, 7238, 7685, 7782, 7903].\n",
        "#La bonificación de cada empleado no puede ser inferior a 200. En el código,\n",
        "#convierte cada uno de los salarios en claves de un diccionario\n",
        "#y la bonificación de cada salario en el valor correspondiente.\n",
        "#Luego, informa el gasto total en bonificaciones, cuántos empleados recibieron la bonificación mínima\n",
        "#y cuál fue el valor más alto de la bonificación proporcionada.\n",
        "\n",
        "#EJEMPLO\n",
        "# my_diccionario = {'a': 1, 'b': 2}\n",
        "  # my_diccionario['c'] = 3\n",
        "\n",
        "# Crear lista de los salarios que van a aplicar la bonificación\n",
        "salarios_a_bonificar = [1172, 1644, 2617, 5130, 5532, 6341, 6650, 7238, 7685, 7782, 7903]\n",
        "bonificacion_minima =0\n",
        "# programa para pasar de lista a diccionario {llave:salario,valor:bonificacion}\n",
        "diccionario_bonificacion = {}\n",
        "bonificacion_minima =0\n",
        "\n",
        "for salario in salarios_a_bonificar:\n",
        "    bonificacion_salario = salario * 0.10\n",
        "    if bonificacion_salario < 200:\n",
        "        bonificacion_salario  = 200\n",
        "        bonificacion_minima +=1\n",
        "  # Punto clave, adiciona al diccionario la clave salario y valores bonificacion\n",
        "    diccionario_bonificacion[salario] = bonificacion_salario\n",
        "'''\n",
        "for salario in salarios_a_bonificar:\n",
        "    bonificacion = salario * 0.10\n",
        "    if bonificacion < 200:\n",
        "        bonificacion = 200\n",
        "    diccionario_bonificacion[salario] = bonificacion\n",
        "  '''\n",
        "print(f'El diccionario de bonificaciones es igual a: {diccionario_bonificacion}')\n",
        "\n",
        "# calcular gasto total de bonificaciones\n",
        "gasto_total_bonificaciones = sum(diccionario_bonificacion.values())\n",
        "print(f'Los gastos totales de bonificaciones fueron igual a: {gasto_total_bonificaciones}')\n",
        "# cuantos empleados recibieron las bonificaciones minimas\n",
        "print(f'Numero de empleados que recibieron la minima bonificacion (igual a 200): {bonificacion_minima}')\n",
        "# cual fue el valor de la bonificacion más alta\n",
        "bonificacion_mas_alta = round(max(diccionario_bonificacion.values()),3)\n",
        "print(f'La bonificacion más alta tuvo un valor igual a: {bonificacion_mas_alta}')\n",
        "len(diccionario_bonificacion)"
      ],
      "metadata": {
        "id": "M0WP3uQZLKtr",
        "colab": {
          "base_uri": "https://localhost:8080/"
        },
        "outputId": "fe6138c0-c1c8-48a7-852c-ec18dac2d03b"
      },
      "execution_count": null,
      "outputs": [
        {
          "output_type": "stream",
          "name": "stdout",
          "text": [
            "El diccionario de bonificaciones es igual a: {1172: 200, 1644: 200, 2617: 261.7, 5130: 513.0, 5532: 553.2, 6341: 634.1, 6650: 665.0, 7238: 723.8000000000001, 7685: 768.5, 7782: 778.2, 7903: 790.3000000000001}\n",
            "Los gastos totales de bonificaciones fueron igual a: 6087.8\n",
            "Numero de empleados que recibieron la minima bonificacion (igual a 200): 2\n",
            "La bonificacion más alta tuvo un valor igual a: 790.3\n"
          ]
        },
        {
          "output_type": "execute_result",
          "data": {
            "text/plain": [
              "11"
            ]
          },
          "metadata": {},
          "execution_count": 33
        }
      ]
    },
    {
      "cell_type": "code",
      "source": [
        "#14 - Un equipo de científicos de datos está estudiando la diversidad biológica en un bosque.\n",
        "#El equipo recopiló información sobre el número de especies de plantas y animales en cada área del bosque\n",
        "#y almacenó estos datos en un diccionario. En él, la clave describe el área de los datos\n",
        "#y los valores en las listas corresponden a las especies de plantas y animales en esas áreas, respectivamente.\n",
        "# clave: Area:valores: No.especie plantas, No.especie animales\n",
        "#{'Área Norte': [2819, 7236], 'Área Leste': [1440, 9492], 'Área Sul': [5969, 7496], 'Área Oeste': [14446, 49688], 'Área Centro': [22558, 45148]}\n",
        "#Escribe un código para calcular el promedio de especies por área\n",
        "#e identificar el área con la mayor diversidad biológica.\n",
        "#Sugerencia: utiliza las funciones incorporadas sum() y len().\n",
        "'''\n",
        "EJEMPLO\n",
        "for valores in mi_diccionario.values():\n",
        "    suma_pos1 += valores[0]\n",
        "    suma_pos2 += valores[1]\n",
        "'''\n",
        "'''\n",
        "for empleado, valores in mi_diccionario.items():\n",
        "    promedio = sum(valores) / len(valores)\n",
        "    if promedio > mayor_promedio:\n",
        "        mayor_promedio = promedio\n",
        "        empleado_mayor = empleado\n",
        "'''\n",
        "#Definir diccionario\n",
        "biodiversidad_bosque = {\n",
        "                        'Área Norte': [2819, 7236],\n",
        "                        'Área Este': [1440, 9492],\n",
        "                        'Área Sul': [5969, 7496],\n",
        "                        'Área Oeste': [14446, 49688],\n",
        "                        'Área Centro': [22558, 45148]\n",
        "                        }\n",
        "\n",
        "# programa para calcular el promedio de especies por area\n",
        "# inicializar variables\n",
        "suma_especies_plantas = 0\n",
        "suma_especies_animales = 0\n",
        "promedio_por_area = {}\n",
        "# calculo de la cantidad de especies para plantas y animales\n",
        "\n",
        "for cantidad_especies in biodiversidad_bosque.values():\n",
        "  suma_especies_plantas += cantidad_especies[0]\n",
        "  suma_especies_animales += cantidad_especies[1]\n",
        "\n",
        "for area,especies in biodiversidad_bosque.items():\n",
        "  #calcula el promedio de especies del area x (suma las especies del area x se divide sobre la cantidad de datos area x)\n",
        "  promedio_especies = sum(especies)/len(especies)\n",
        "  # crea diccionario y guarda el promedio obtenido del sector x y su clave correspondiente\n",
        "  promedio_por_area[area] = promedio_especies\n",
        "\n",
        "  # mostrar resultados\n",
        "print('El promedio de especies por área es igual a:')\n",
        "for area,promedio_especies in promedio_por_area.items():\n",
        "  print(f\"{area}: {promedio_especies:.2f}\")\n",
        "\n",
        "# calcular el promedio especies plantas y animales\n",
        "promedio_especies_plantas = suma_especies_plantas/len(biodiversidad_bosque)\n",
        "promedio_especies_animales = suma_especies_animales/len(biodiversidad_bosque)\n",
        "\n",
        "# mostrar resultados\n",
        "print(f'El promedio de especies de plantas en la zona es igual a: {promedio_especies_plantas}')\n",
        "print(f'El promedio de especies de animales en la zona es igual a: {promedio_especies_animales}')\n",
        "\n",
        "# calculo del promedio general de especies en todas las areas estudiadas\n",
        "# inicializar variables\n",
        "suma_total = 0\n",
        "contador = 0\n",
        "# calculo del promedio de todos los valores del diccionario\n",
        "for area in biodiversidad_bosque.values():\n",
        "    for especie in area:\n",
        "        suma_total += especie\n",
        "        contador += 1\n",
        "\n",
        "promedio_total = suma_total / contador\n",
        "\n",
        "print(f'Promedio total de todos los valores: {promedio_total}')\n",
        "\n",
        "# calcular el área con mayor diversidad\n",
        "area_mayor_diversa = ''  # area con mayor diversidad\n",
        "area_con_mayor_promedio = 0 #\n",
        "\n",
        "for area,cantidad_especies in biodiversidad_bosque.items():\n",
        "  promedio = sum(cantidad_especies)/len(cantidad_especies)\n",
        "  if promedio > area_con_mayor_promedio:\n",
        "    area_con_mayor_promedio = promedio\n",
        "    area_mayor_diversa = area\n",
        "\n",
        "# mostrar resultados\n",
        "print(f'El área con mayor promedio de diversidad es: {area_mayor_diversa} y con un promedio de diversidad igual a: {area_con_mayor_promedio}.')\n",
        "# mostrar los datos\n",
        "print(f'Los datos proporcionados son: {biodiversidad_bosque}')"
      ],
      "metadata": {
        "colab": {
          "base_uri": "https://localhost:8080/"
        },
        "id": "woF7ElA_LD6e",
        "outputId": "097c9da7-9629-4e21-8be6-0fd3ebc2339c"
      },
      "execution_count": 52,
      "outputs": [
        {
          "output_type": "stream",
          "name": "stdout",
          "text": [
            "El promedio de especies por área es igual a:\n",
            "Área Norte: 5027.50\n",
            "Área Este: 5466.00\n",
            "Área Sul: 6732.50\n",
            "Área Oeste: 32067.00\n",
            "Área Centro: 33853.00\n",
            "El promedio de especies de plantas en la zona es igual a: 9446.4\n",
            "El promedio de especies de animales en la zona es igual a: 23812.0\n",
            "Promedio total de todos los valores: 16629.2\n",
            "El área con mayor promedio de diversidad es: Área Centro y con un promedio de diversidad igual a: 33853.0.\n",
            "Los datos proporcionados son: {'Área Norte': [2819, 7236], 'Área Este': [1440, 9492], 'Área Sul': [5969, 7496], 'Área Oeste': [14446, 49688], 'Área Centro': [22558, 45148]}\n"
          ]
        }
      ]
    },
    {
      "cell_type": "code",
      "source": [
        "# sugerencia instructor\n",
        "# Especificamos los datos para un diccionario\n",
        "datos = {'Área Norte': [2819, 7236],\n",
        "         'Área Este': [1440, 9492],\n",
        "         'Área Sur': [5969, 7496],\n",
        "         'Área Oeste': [14446, 49688],\n",
        "         'Área Centro': [22558, 45148]}\n",
        "# Inicializamos las variables\n",
        "suma_media = 0  # Sumará todos los promedios\n",
        "mayor_diversidad = ''  # Almacenará el área con la mayor diversidad\n",
        "mayor_suma = 0  # Almacenará la mayor suma de especies\n",
        "# Recorremos las claves y elementos del diccionario\n",
        "for área, especies in datos.items():\n",
        "    # Sumamos el número de especies en cada área utilizando la función sum\n",
        "    suma_especies = sum(especies)\n",
        "    # Calculamos el promedio dividiendo la suma de las especies entre la cantidad de especies\n",
        "    media = suma_especies / len(especies)\n",
        "    # Imprimimos\n",
        "    print(f'El {área} tiene un promedio de {media} especies')\n",
        "    # Verificamos si la suma de especies es mayor que el valor almacenado de mayor_suma\n",
        "    # Cada vez que suma_especies supere el valor de mayor_suma,\n",
        "    # la variable mayor_suma será igual a suma_especies, asignando un nuevo valor\n",
        "    # De manera similar, mayor_diversidad también se actualiza\n",
        "    if suma_especies > mayor_suma:\n",
        "        mayor_suma = suma_especies\n",
        "        mayor_diversidad = área\n",
        "    # Sumamos los promedios\n",
        "    suma_media += media\n",
        "# La media total será la suma_media dividida por la cantidad de áreas\n",
        "media_total = suma_media / len(datos)\n",
        "print(f'Media general de especies: {media_total}')\n",
        "print(f'Área con la mayor diversidad biológica: {mayor_diversidad}')"
      ],
      "metadata": {
        "colab": {
          "base_uri": "https://localhost:8080/"
        },
        "id": "P_cgKr8gwZ2_",
        "outputId": "ac60f1f3-05bf-4a05-d266-b2e55d5abc28"
      },
      "execution_count": 49,
      "outputs": [
        {
          "output_type": "stream",
          "name": "stdout",
          "text": [
            "El Área Norte tiene un promedio de 5027.5 especies\n",
            "El Área Este tiene un promedio de 5466.0 especies\n",
            "El Área Sur tiene un promedio de 6732.5 especies\n",
            "El Área Oeste tiene un promedio de 32067.0 especies\n",
            "El Área Centro tiene un promedio de 33853.0 especies\n",
            "Media general de especies: 16629.2\n",
            "Área con la mayor diversidad biológica: Área Centro\n"
          ]
        }
      ]
    },
    {
      "cell_type": "code",
      "source": [
        "# 15 El departamento de Recursos Humanos de tu empresa te pidió ayuda para analizar\n",
        "#las edades de los colaboradores de 4 sectores de la empresa.\n",
        "#Para ello, te proporcionaron los siguientes datos:\n",
        "# datos\n",
        "#{'Sector A': [22, 26, 30, 30, 35, 38, 40, 56, 57, 65],\n",
        "#'Sector B': [22, 24, 26, 33, 41, 49, 50, 54, 60, 64],\n",
        "#'Sector C': [23, 26, 26, 29, 34, 35, 36, 41, 52, 56],\n",
        "#'Sector D': [19, 20, 25, 27, 34, 39, 42, 44, 50, 65]}\n",
        "\n",
        "#Dado que cada sector tiene 10 colaboradores, construye un código que calcule la media de edad de cada sector,\n",
        "#la edad media general entre todos los sectores y cuántas personas están por encima de la edad media general.\n",
        "\n",
        "# definir diccionarios datos de entrada\n",
        "edades_por_sector = {\n",
        "                      'Sector A': [22, 26, 30, 30, 35, 38, 40, 56, 57, 65],\n",
        "                      'Sector B': [22, 24, 26, 33, 41, 49, 50, 54, 60, 64],\n",
        "                      'Sector C': [23, 26, 26, 29, 34, 35, 36, 41, 52, 56],\n",
        "                      'Sector D': [19, 20, 25, 27, 34, 39, 42, 44, 50, 65]\n",
        "                      }\n",
        "\n",
        "#inicializar variables\n",
        "promedio_por_sector = {}\n",
        "todas_las_edades = []\n",
        "mayores_al_promedio_general = []\n",
        "\n",
        "# calculo de la suma de las edades por cada sector\n",
        "\n",
        "for sector,edades in edades_por_sector.items():\n",
        "  #calcula el promedio de las edades del sector x (suma las edades del sector x se divide sobre la cantidad de datos sector x)\n",
        "  promedio = sum(edades)/len(edades)\n",
        "  # crea diccionario y guarda el promedio obtenido del sector x y su clave correspondiente\n",
        "  promedio_por_sector[sector] = promedio\n",
        "  #crea y guarda una lista con todas las edades de todos los sectores\n",
        "  todas_las_edades.extend(edades)\n",
        "\n",
        "# mostrar resultados\n",
        "print('El promedio de edad por sector es igual a:')\n",
        "for sector,promedio in promedio_por_sector.items():\n",
        "  print(f\"{sector}: {promedio:.2f}\")\n",
        "\n",
        "# calcular el promedio entre sectores\n",
        "\n",
        "promedio_general = sum(todas_las_edades)/len(todas_las_edades)\n",
        "print(f'El promedio general de las edades de todos los sectores es igual a: {promedio_general:.2f}')\n",
        "\n",
        "# calcular cuántas personas están por encima de la edad media general\n",
        "# se realiza lista por compresion\n",
        "\n",
        "personas_mayores_edad_promedio_general = [edad for edad in todas_las_edades if edad > promedio_general]\n",
        "cantidad_personas_mayores_promedio_general = len(personas_mayores_edad_promedio_general)\n",
        "print(f'La cantidad de personas que superan el promedio general son: {cantidad_personas_mayores_promedio_general}')\n",
        "\n",
        "# otra opcion\n",
        "for edad in todas_las_edades:\n",
        "  if edad > promedio_general:\n",
        "    mayores_al_promedio_general.append(edad)\n",
        "\n",
        "cantidad_mayores_al_promedio_general = len(mayores_al_promedio_general)\n",
        "print(f'La cantidad de personas que superan el promedio general son: {cantidad_mayores_al_promedio_general}')\n",
        "\n"
      ],
      "metadata": {
        "colab": {
          "base_uri": "https://localhost:8080/"
        },
        "id": "8QaPW_R1fjQ4",
        "outputId": "8d171b0a-63bf-499d-f8d3-2dd7eca9a16a"
      },
      "execution_count": 47,
      "outputs": [
        {
          "output_type": "stream",
          "name": "stdout",
          "text": [
            "El promedio de edad por sector es igual a:\n",
            "Sector A: 39.90\n",
            "Sector B: 42.30\n",
            "Sector C: 35.80\n",
            "Sector D: 36.50\n",
            "El promedio general de las edades de todos los sectores es igual a: 38.62\n",
            "La cantidad de personas que superan el promedio general son: 18\n",
            "La cantidad de personas que superan el promedio general son: 18\n"
          ]
        }
      ]
    }
  ]
}